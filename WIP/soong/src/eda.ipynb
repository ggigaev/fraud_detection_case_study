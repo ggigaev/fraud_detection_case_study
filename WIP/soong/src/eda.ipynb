{
 "cells": [
  {
   "cell_type": "code",
   "execution_count": 1,
   "metadata": {},
   "outputs": [],
   "source": [
    "import numpy as np\n",
    "import pandas as pd\n",
    "from IPython.core.display import HTML\n",
    "#from pandas.tools.plotting import scatter_matrix\n",
    "from pandas.plotting import scatter_matrix\n",
    "from collections import Counter\n",
    "from matplotlib import pyplot as plt\n",
    "%matplotlib inline"
   ]
  },
  {
   "cell_type": "code",
   "execution_count": 2,
   "metadata": {},
   "outputs": [],
   "source": [
    "#!unzip ../data/data.zip -d ../data/"
   ]
  },
  {
   "cell_type": "code",
   "execution_count": 3,
   "metadata": {},
   "outputs": [],
   "source": [
    "df = pd.read_json('../data/data.json')"
   ]
  },
  {
   "cell_type": "code",
   "execution_count": 4,
   "metadata": {},
   "outputs": [
    {
     "data": {
      "text/html": [
       "<div>\n",
       "<style scoped>\n",
       "    .dataframe tbody tr th:only-of-type {\n",
       "        vertical-align: middle;\n",
       "    }\n",
       "\n",
       "    .dataframe tbody tr th {\n",
       "        vertical-align: top;\n",
       "    }\n",
       "\n",
       "    .dataframe thead th {\n",
       "        text-align: right;\n",
       "    }\n",
       "</style>\n",
       "<table border=\"1\" class=\"dataframe\">\n",
       "  <thead>\n",
       "    <tr style=\"text-align: right;\">\n",
       "      <th></th>\n",
       "      <th>acct_type</th>\n",
       "      <th>approx_payout_date</th>\n",
       "      <th>body_length</th>\n",
       "      <th>channels</th>\n",
       "      <th>country</th>\n",
       "      <th>currency</th>\n",
       "      <th>delivery_method</th>\n",
       "      <th>description</th>\n",
       "      <th>email_domain</th>\n",
       "      <th>event_created</th>\n",
       "      <th>...</th>\n",
       "      <th>ticket_types</th>\n",
       "      <th>user_age</th>\n",
       "      <th>user_created</th>\n",
       "      <th>user_type</th>\n",
       "      <th>venue_address</th>\n",
       "      <th>venue_country</th>\n",
       "      <th>venue_latitude</th>\n",
       "      <th>venue_longitude</th>\n",
       "      <th>venue_name</th>\n",
       "      <th>venue_state</th>\n",
       "    </tr>\n",
       "  </thead>\n",
       "  <tbody>\n",
       "    <tr>\n",
       "      <th>0</th>\n",
       "      <td>fraudster_event</td>\n",
       "      <td>1266062400</td>\n",
       "      <td>3852</td>\n",
       "      <td>5</td>\n",
       "      <td>US</td>\n",
       "      <td>USD</td>\n",
       "      <td>0.0</td>\n",
       "      <td>&lt;p&gt;&lt;a href=\"http://s432.photobucket.com/albums...</td>\n",
       "      <td>gmail.com</td>\n",
       "      <td>1262739706</td>\n",
       "      <td>...</td>\n",
       "      <td>[{'event_id': 527017, 'cost': 25.0, 'availabil...</td>\n",
       "      <td>36</td>\n",
       "      <td>1259613950</td>\n",
       "      <td>1</td>\n",
       "      <td>717 Washington Avenue</td>\n",
       "      <td>US</td>\n",
       "      <td>25.777471</td>\n",
       "      <td>-80.133433</td>\n",
       "      <td>INK Nightclub - South Beach</td>\n",
       "      <td>FL</td>\n",
       "    </tr>\n",
       "    <tr>\n",
       "      <th>1</th>\n",
       "      <td>premium</td>\n",
       "      <td>1296720000</td>\n",
       "      <td>3499</td>\n",
       "      <td>0</td>\n",
       "      <td>US</td>\n",
       "      <td>USD</td>\n",
       "      <td>1.0</td>\n",
       "      <td>&lt;p&gt;Join us for a quick, one-night, community-b...</td>\n",
       "      <td>ruf.org</td>\n",
       "      <td>1293832670</td>\n",
       "      <td>...</td>\n",
       "      <td>[{'event_id': 786878, 'cost': 35.0, 'availabil...</td>\n",
       "      <td>149</td>\n",
       "      <td>1280942776</td>\n",
       "      <td>3</td>\n",
       "      <td></td>\n",
       "      <td>US</td>\n",
       "      <td>32.776566</td>\n",
       "      <td>-79.930922</td>\n",
       "      <td>The Charleston, SC area</td>\n",
       "      <td>SC</td>\n",
       "    </tr>\n",
       "    <tr>\n",
       "      <th>2</th>\n",
       "      <td>premium</td>\n",
       "      <td>1296172800</td>\n",
       "      <td>2601</td>\n",
       "      <td>8</td>\n",
       "      <td>US</td>\n",
       "      <td>USD</td>\n",
       "      <td>1.0</td>\n",
       "      <td>&lt;h3&gt;&lt;span class=\"subcategory\"&gt;&lt;strong&gt;Teacher ...</td>\n",
       "      <td>pvsd.k12.ca.us</td>\n",
       "      <td>1291090956</td>\n",
       "      <td>...</td>\n",
       "      <td>[{'event_id': 787337, 'cost': 93.51, 'availabi...</td>\n",
       "      <td>214</td>\n",
       "      <td>1272559388</td>\n",
       "      <td>3</td>\n",
       "      <td>10100 Pioneer Blvd Suite 100</td>\n",
       "      <td>US</td>\n",
       "      <td>33.944201</td>\n",
       "      <td>-118.080419</td>\n",
       "      <td>Los Angeles County Office of Education</td>\n",
       "      <td>CA</td>\n",
       "    </tr>\n",
       "    <tr>\n",
       "      <th>3</th>\n",
       "      <td>premium</td>\n",
       "      <td>1388966400</td>\n",
       "      <td>12347</td>\n",
       "      <td>6</td>\n",
       "      <td>IE</td>\n",
       "      <td>EUR</td>\n",
       "      <td>1.0</td>\n",
       "      <td>&lt;p style=\"margin-bottom: 1.3em; padding-bottom...</td>\n",
       "      <td>irishtabletennis.com</td>\n",
       "      <td>1360681570</td>\n",
       "      <td>...</td>\n",
       "      <td>[{'event_id': 885645, 'cost': 25.0, 'availabil...</td>\n",
       "      <td>889</td>\n",
       "      <td>1283870102</td>\n",
       "      <td>3</td>\n",
       "      <td></td>\n",
       "      <td>None</td>\n",
       "      <td>NaN</td>\n",
       "      <td>NaN</td>\n",
       "      <td>None</td>\n",
       "      <td>None</td>\n",
       "    </tr>\n",
       "    <tr>\n",
       "      <th>4</th>\n",
       "      <td>premium</td>\n",
       "      <td>1297900800</td>\n",
       "      <td>2417</td>\n",
       "      <td>11</td>\n",
       "      <td>US</td>\n",
       "      <td>USD</td>\n",
       "      <td>0.0</td>\n",
       "      <td>&lt;p&gt;Writers and filmmakers need to understand t...</td>\n",
       "      <td>artsandbusinesscouncil.org</td>\n",
       "      <td>1291994666</td>\n",
       "      <td>...</td>\n",
       "      <td>[{'event_id': 1114349, 'cost': 150.0, 'availab...</td>\n",
       "      <td>35</td>\n",
       "      <td>1288984065</td>\n",
       "      <td>3</td>\n",
       "      <td>One Marina Park Drive</td>\n",
       "      <td>US</td>\n",
       "      <td>42.353848</td>\n",
       "      <td>-71.044276</td>\n",
       "      <td>Fish &amp; Richardson</td>\n",
       "      <td>MA</td>\n",
       "    </tr>\n",
       "  </tbody>\n",
       "</table>\n",
       "<p>5 rows × 44 columns</p>\n",
       "</div>"
      ],
      "text/plain": [
       "         acct_type  approx_payout_date  body_length  channels country  \\\n",
       "0  fraudster_event          1266062400         3852         5      US   \n",
       "1          premium          1296720000         3499         0      US   \n",
       "2          premium          1296172800         2601         8      US   \n",
       "3          premium          1388966400        12347         6      IE   \n",
       "4          premium          1297900800         2417        11      US   \n",
       "\n",
       "  currency  delivery_method  \\\n",
       "0      USD              0.0   \n",
       "1      USD              1.0   \n",
       "2      USD              1.0   \n",
       "3      EUR              1.0   \n",
       "4      USD              0.0   \n",
       "\n",
       "                                         description  \\\n",
       "0  <p><a href=\"http://s432.photobucket.com/albums...   \n",
       "1  <p>Join us for a quick, one-night, community-b...   \n",
       "2  <h3><span class=\"subcategory\"><strong>Teacher ...   \n",
       "3  <p style=\"margin-bottom: 1.3em; padding-bottom...   \n",
       "4  <p>Writers and filmmakers need to understand t...   \n",
       "\n",
       "                 email_domain  event_created     ...      \\\n",
       "0                   gmail.com     1262739706     ...       \n",
       "1                     ruf.org     1293832670     ...       \n",
       "2              pvsd.k12.ca.us     1291090956     ...       \n",
       "3        irishtabletennis.com     1360681570     ...       \n",
       "4  artsandbusinesscouncil.org     1291994666     ...       \n",
       "\n",
       "                                        ticket_types  user_age  user_created  \\\n",
       "0  [{'event_id': 527017, 'cost': 25.0, 'availabil...        36    1259613950   \n",
       "1  [{'event_id': 786878, 'cost': 35.0, 'availabil...       149    1280942776   \n",
       "2  [{'event_id': 787337, 'cost': 93.51, 'availabi...       214    1272559388   \n",
       "3  [{'event_id': 885645, 'cost': 25.0, 'availabil...       889    1283870102   \n",
       "4  [{'event_id': 1114349, 'cost': 150.0, 'availab...        35    1288984065   \n",
       "\n",
       "   user_type                 venue_address  venue_country  venue_latitude  \\\n",
       "0          1         717 Washington Avenue             US       25.777471   \n",
       "1          3                                           US       32.776566   \n",
       "2          3  10100 Pioneer Blvd Suite 100             US       33.944201   \n",
       "3          3                                         None             NaN   \n",
       "4          3        One Marina Park Drive              US       42.353848   \n",
       "\n",
       "   venue_longitude                              venue_name venue_state  \n",
       "0       -80.133433             INK Nightclub - South Beach          FL  \n",
       "1       -79.930922                 The Charleston, SC area          SC  \n",
       "2      -118.080419  Los Angeles County Office of Education          CA  \n",
       "3              NaN                                    None        None  \n",
       "4       -71.044276                       Fish & Richardson          MA  \n",
       "\n",
       "[5 rows x 44 columns]"
      ]
     },
     "execution_count": 4,
     "metadata": {},
     "output_type": "execute_result"
    }
   ],
   "source": [
    "df.head()"
   ]
  },
  {
   "cell_type": "code",
   "execution_count": 5,
   "metadata": {},
   "outputs": [
    {
     "data": {
      "text/plain": [
       "premium             12373\n",
       "fraudster_event       851\n",
       "fraudster             437\n",
       "spammer_limited       218\n",
       "spammer_warn          144\n",
       "tos_warn               91\n",
       "spammer_noinvite       84\n",
       "tos_lock               77\n",
       "locked                 54\n",
       "fraudster_att           5\n",
       "spammer_web             2\n",
       "spammer                 1\n",
       "Name: acct_type, dtype: int64"
      ]
     },
     "execution_count": 5,
     "metadata": {},
     "output_type": "execute_result"
    }
   ],
   "source": [
    "df['acct_type'].value_counts()"
   ]
  },
  {
   "cell_type": "code",
   "execution_count": 6,
   "metadata": {},
   "outputs": [
    {
     "data": {
      "text/plain": [
       "Index(['acct_type', 'approx_payout_date', 'body_length', 'channels', 'country',\n",
       "       'currency', 'delivery_method', 'description', 'email_domain',\n",
       "       'event_created', 'event_end', 'event_published', 'event_start',\n",
       "       'fb_published', 'gts', 'has_analytics', 'has_header', 'has_logo',\n",
       "       'listed', 'name', 'name_length', 'num_order', 'num_payouts',\n",
       "       'object_id', 'org_desc', 'org_facebook', 'org_name', 'org_twitter',\n",
       "       'payee_name', 'payout_type', 'previous_payouts', 'sale_duration',\n",
       "       'sale_duration2', 'show_map', 'ticket_types', 'user_age',\n",
       "       'user_created', 'user_type', 'venue_address', 'venue_country',\n",
       "       'venue_latitude', 'venue_longitude', 'venue_name', 'venue_state'],\n",
       "      dtype='object')"
      ]
     },
     "execution_count": 6,
     "metadata": {},
     "output_type": "execute_result"
    }
   ],
   "source": [
    "df.columns"
   ]
  },
  {
   "cell_type": "code",
   "execution_count": 7,
   "metadata": {},
   "outputs": [
    {
     "data": {
      "text/html": [
       "<div>\n",
       "<style scoped>\n",
       "    .dataframe tbody tr th:only-of-type {\n",
       "        vertical-align: middle;\n",
       "    }\n",
       "\n",
       "    .dataframe tbody tr th {\n",
       "        vertical-align: top;\n",
       "    }\n",
       "\n",
       "    .dataframe thead th {\n",
       "        text-align: right;\n",
       "    }\n",
       "</style>\n",
       "<table border=\"1\" class=\"dataframe\">\n",
       "  <thead>\n",
       "    <tr style=\"text-align: right;\">\n",
       "      <th></th>\n",
       "      <th>count</th>\n",
       "      <th>mean</th>\n",
       "      <th>std</th>\n",
       "      <th>min</th>\n",
       "      <th>25%</th>\n",
       "      <th>50%</th>\n",
       "      <th>75%</th>\n",
       "      <th>max</th>\n",
       "    </tr>\n",
       "  </thead>\n",
       "  <tbody>\n",
       "    <tr>\n",
       "      <th>approx_payout_date</th>\n",
       "      <td>14337.0</td>\n",
       "      <td>1.350933e+09</td>\n",
       "      <td>2.401300e+07</td>\n",
       "      <td>1.171256e+09</td>\n",
       "      <td>1.334221e+09</td>\n",
       "      <td>1.355805e+09</td>\n",
       "      <td>1.370646e+09</td>\n",
       "      <td>1.523488e+09</td>\n",
       "    </tr>\n",
       "    <tr>\n",
       "      <th>body_length</th>\n",
       "      <td>14337.0</td>\n",
       "      <td>3.672522e+03</td>\n",
       "      <td>5.758113e+03</td>\n",
       "      <td>0.000000e+00</td>\n",
       "      <td>7.500000e+02</td>\n",
       "      <td>1.990000e+03</td>\n",
       "      <td>4.280000e+03</td>\n",
       "      <td>6.553500e+04</td>\n",
       "    </tr>\n",
       "    <tr>\n",
       "      <th>channels</th>\n",
       "      <td>14337.0</td>\n",
       "      <td>6.176676e+00</td>\n",
       "      <td>3.860333e+00</td>\n",
       "      <td>0.000000e+00</td>\n",
       "      <td>5.000000e+00</td>\n",
       "      <td>6.000000e+00</td>\n",
       "      <td>8.000000e+00</td>\n",
       "      <td>1.300000e+01</td>\n",
       "    </tr>\n",
       "    <tr>\n",
       "      <th>delivery_method</th>\n",
       "      <td>14321.0</td>\n",
       "      <td>4.395643e-01</td>\n",
       "      <td>5.914866e-01</td>\n",
       "      <td>0.000000e+00</td>\n",
       "      <td>0.000000e+00</td>\n",
       "      <td>0.000000e+00</td>\n",
       "      <td>1.000000e+00</td>\n",
       "      <td>3.000000e+00</td>\n",
       "    </tr>\n",
       "    <tr>\n",
       "      <th>event_created</th>\n",
       "      <td>14337.0</td>\n",
       "      <td>1.345825e+09</td>\n",
       "      <td>2.404107e+07</td>\n",
       "      <td>1.170332e+09</td>\n",
       "      <td>1.329754e+09</td>\n",
       "      <td>1.351043e+09</td>\n",
       "      <td>1.365346e+09</td>\n",
       "      <td>1.382012e+09</td>\n",
       "    </tr>\n",
       "    <tr>\n",
       "      <th>event_end</th>\n",
       "      <td>14337.0</td>\n",
       "      <td>1.350501e+09</td>\n",
       "      <td>2.401299e+07</td>\n",
       "      <td>1.170824e+09</td>\n",
       "      <td>1.333789e+09</td>\n",
       "      <td>1.355373e+09</td>\n",
       "      <td>1.370214e+09</td>\n",
       "      <td>1.523056e+09</td>\n",
       "    </tr>\n",
       "    <tr>\n",
       "      <th>event_published</th>\n",
       "      <td>14238.0</td>\n",
       "      <td>1.340854e+09</td>\n",
       "      <td>8.750386e+07</td>\n",
       "      <td>0.000000e+00</td>\n",
       "      <td>1.329499e+09</td>\n",
       "      <td>1.351099e+09</td>\n",
       "      <td>1.365478e+09</td>\n",
       "      <td>1.381608e+09</td>\n",
       "    </tr>\n",
       "    <tr>\n",
       "      <th>event_start</th>\n",
       "      <td>14337.0</td>\n",
       "      <td>1.350205e+09</td>\n",
       "      <td>2.398787e+07</td>\n",
       "      <td>1.170819e+09</td>\n",
       "      <td>1.333406e+09</td>\n",
       "      <td>1.355000e+09</td>\n",
       "      <td>1.370048e+09</td>\n",
       "      <td>1.418850e+09</td>\n",
       "    </tr>\n",
       "    <tr>\n",
       "      <th>fb_published</th>\n",
       "      <td>14337.0</td>\n",
       "      <td>1.274325e-01</td>\n",
       "      <td>3.334685e-01</td>\n",
       "      <td>0.000000e+00</td>\n",
       "      <td>0.000000e+00</td>\n",
       "      <td>0.000000e+00</td>\n",
       "      <td>0.000000e+00</td>\n",
       "      <td>1.000000e+00</td>\n",
       "    </tr>\n",
       "    <tr>\n",
       "      <th>gts</th>\n",
       "      <td>14337.0</td>\n",
       "      <td>2.430231e+03</td>\n",
       "      <td>9.142308e+03</td>\n",
       "      <td>0.000000e+00</td>\n",
       "      <td>1.164100e+02</td>\n",
       "      <td>4.319300e+02</td>\n",
       "      <td>1.547260e+03</td>\n",
       "      <td>3.062939e+05</td>\n",
       "    </tr>\n",
       "    <tr>\n",
       "      <th>has_analytics</th>\n",
       "      <td>14337.0</td>\n",
       "      <td>7.302783e-02</td>\n",
       "      <td>2.601913e-01</td>\n",
       "      <td>0.000000e+00</td>\n",
       "      <td>0.000000e+00</td>\n",
       "      <td>0.000000e+00</td>\n",
       "      <td>0.000000e+00</td>\n",
       "      <td>1.000000e+00</td>\n",
       "    </tr>\n",
       "    <tr>\n",
       "      <th>has_header</th>\n",
       "      <td>8928.0</td>\n",
       "      <td>2.020609e-01</td>\n",
       "      <td>4.015599e-01</td>\n",
       "      <td>0.000000e+00</td>\n",
       "      <td>0.000000e+00</td>\n",
       "      <td>0.000000e+00</td>\n",
       "      <td>0.000000e+00</td>\n",
       "      <td>1.000000e+00</td>\n",
       "    </tr>\n",
       "    <tr>\n",
       "      <th>has_logo</th>\n",
       "      <td>14337.0</td>\n",
       "      <td>8.420869e-01</td>\n",
       "      <td>3.646722e-01</td>\n",
       "      <td>0.000000e+00</td>\n",
       "      <td>1.000000e+00</td>\n",
       "      <td>1.000000e+00</td>\n",
       "      <td>1.000000e+00</td>\n",
       "      <td>1.000000e+00</td>\n",
       "    </tr>\n",
       "    <tr>\n",
       "      <th>name_length</th>\n",
       "      <td>14337.0</td>\n",
       "      <td>4.162935e+01</td>\n",
       "      <td>2.315810e+01</td>\n",
       "      <td>0.000000e+00</td>\n",
       "      <td>2.600000e+01</td>\n",
       "      <td>3.800000e+01</td>\n",
       "      <td>5.300000e+01</td>\n",
       "      <td>2.540000e+02</td>\n",
       "    </tr>\n",
       "    <tr>\n",
       "      <th>num_order</th>\n",
       "      <td>14337.0</td>\n",
       "      <td>2.801067e+01</td>\n",
       "      <td>9.476968e+01</td>\n",
       "      <td>0.000000e+00</td>\n",
       "      <td>2.000000e+00</td>\n",
       "      <td>8.000000e+00</td>\n",
       "      <td>2.300000e+01</td>\n",
       "      <td>2.000000e+03</td>\n",
       "    </tr>\n",
       "    <tr>\n",
       "      <th>num_payouts</th>\n",
       "      <td>14337.0</td>\n",
       "      <td>3.375330e+01</td>\n",
       "      <td>1.251789e+02</td>\n",
       "      <td>0.000000e+00</td>\n",
       "      <td>0.000000e+00</td>\n",
       "      <td>2.000000e+00</td>\n",
       "      <td>1.300000e+01</td>\n",
       "      <td>1.858000e+03</td>\n",
       "    </tr>\n",
       "    <tr>\n",
       "      <th>object_id</th>\n",
       "      <td>14337.0</td>\n",
       "      <td>4.531344e+06</td>\n",
       "      <td>1.987661e+06</td>\n",
       "      <td>4.714600e+04</td>\n",
       "      <td>2.902989e+06</td>\n",
       "      <td>4.580386e+06</td>\n",
       "      <td>6.073577e+06</td>\n",
       "      <td>8.792893e+06</td>\n",
       "    </tr>\n",
       "    <tr>\n",
       "      <th>org_facebook</th>\n",
       "      <td>14278.0</td>\n",
       "      <td>7.974436e+00</td>\n",
       "      <td>1.176124e+01</td>\n",
       "      <td>0.000000e+00</td>\n",
       "      <td>0.000000e+00</td>\n",
       "      <td>0.000000e+00</td>\n",
       "      <td>1.400000e+01</td>\n",
       "      <td>9.100000e+01</td>\n",
       "    </tr>\n",
       "    <tr>\n",
       "      <th>org_twitter</th>\n",
       "      <td>14278.0</td>\n",
       "      <td>4.306976e+00</td>\n",
       "      <td>6.011520e+00</td>\n",
       "      <td>0.000000e+00</td>\n",
       "      <td>0.000000e+00</td>\n",
       "      <td>0.000000e+00</td>\n",
       "      <td>1.100000e+01</td>\n",
       "      <td>3.400000e+01</td>\n",
       "    </tr>\n",
       "    <tr>\n",
       "      <th>sale_duration</th>\n",
       "      <td>14182.0</td>\n",
       "      <td>4.686969e+01</td>\n",
       "      <td>5.482525e+01</td>\n",
       "      <td>-1.094000e+03</td>\n",
       "      <td>1.600000e+01</td>\n",
       "      <td>3.200000e+01</td>\n",
       "      <td>5.900000e+01</td>\n",
       "      <td>9.800000e+02</td>\n",
       "    </tr>\n",
       "    <tr>\n",
       "      <th>sale_duration2</th>\n",
       "      <td>14337.0</td>\n",
       "      <td>5.057676e+01</td>\n",
       "      <td>5.967809e+01</td>\n",
       "      <td>-1.094000e+03</td>\n",
       "      <td>1.700000e+01</td>\n",
       "      <td>3.500000e+01</td>\n",
       "      <td>6.300000e+01</td>\n",
       "      <td>9.800000e+02</td>\n",
       "    </tr>\n",
       "    <tr>\n",
       "      <th>show_map</th>\n",
       "      <td>14337.0</td>\n",
       "      <td>8.441794e-01</td>\n",
       "      <td>3.626978e-01</td>\n",
       "      <td>0.000000e+00</td>\n",
       "      <td>1.000000e+00</td>\n",
       "      <td>1.000000e+00</td>\n",
       "      <td>1.000000e+00</td>\n",
       "      <td>1.000000e+00</td>\n",
       "    </tr>\n",
       "    <tr>\n",
       "      <th>user_age</th>\n",
       "      <td>14337.0</td>\n",
       "      <td>3.742265e+02</td>\n",
       "      <td>4.185936e+02</td>\n",
       "      <td>0.000000e+00</td>\n",
       "      <td>1.300000e+01</td>\n",
       "      <td>2.420000e+02</td>\n",
       "      <td>6.030000e+02</td>\n",
       "      <td>3.794000e+03</td>\n",
       "    </tr>\n",
       "    <tr>\n",
       "      <th>user_created</th>\n",
       "      <td>14337.0</td>\n",
       "      <td>1.313492e+09</td>\n",
       "      <td>4.152174e+07</td>\n",
       "      <td>1.011210e+09</td>\n",
       "      <td>1.286824e+09</td>\n",
       "      <td>1.316636e+09</td>\n",
       "      <td>1.346790e+09</td>\n",
       "      <td>1.381543e+09</td>\n",
       "    </tr>\n",
       "    <tr>\n",
       "      <th>user_type</th>\n",
       "      <td>14337.0</td>\n",
       "      <td>2.711097e+00</td>\n",
       "      <td>1.606726e+00</td>\n",
       "      <td>1.000000e+00</td>\n",
       "      <td>1.000000e+00</td>\n",
       "      <td>3.000000e+00</td>\n",
       "      <td>3.000000e+00</td>\n",
       "      <td>1.030000e+02</td>\n",
       "    </tr>\n",
       "    <tr>\n",
       "      <th>venue_latitude</th>\n",
       "      <td>13261.0</td>\n",
       "      <td>3.522174e+01</td>\n",
       "      <td>2.020759e+01</td>\n",
       "      <td>-4.504521e+01</td>\n",
       "      <td>3.395934e+01</td>\n",
       "      <td>3.997410e+01</td>\n",
       "      <td>4.485704e+01</td>\n",
       "      <td>6.484402e+01</td>\n",
       "    </tr>\n",
       "    <tr>\n",
       "      <th>venue_longitude</th>\n",
       "      <td>13261.0</td>\n",
       "      <td>-5.949037e+01</td>\n",
       "      <td>6.656903e+01</td>\n",
       "      <td>-1.593902e+02</td>\n",
       "      <td>-9.695783e+01</td>\n",
       "      <td>-7.942558e+01</td>\n",
       "      <td>-3.187449e+00</td>\n",
       "      <td>1.761695e+02</td>\n",
       "    </tr>\n",
       "  </tbody>\n",
       "</table>\n",
       "</div>"
      ],
      "text/plain": [
       "                      count          mean           std           min  \\\n",
       "approx_payout_date  14337.0  1.350933e+09  2.401300e+07  1.171256e+09   \n",
       "body_length         14337.0  3.672522e+03  5.758113e+03  0.000000e+00   \n",
       "channels            14337.0  6.176676e+00  3.860333e+00  0.000000e+00   \n",
       "delivery_method     14321.0  4.395643e-01  5.914866e-01  0.000000e+00   \n",
       "event_created       14337.0  1.345825e+09  2.404107e+07  1.170332e+09   \n",
       "event_end           14337.0  1.350501e+09  2.401299e+07  1.170824e+09   \n",
       "event_published     14238.0  1.340854e+09  8.750386e+07  0.000000e+00   \n",
       "event_start         14337.0  1.350205e+09  2.398787e+07  1.170819e+09   \n",
       "fb_published        14337.0  1.274325e-01  3.334685e-01  0.000000e+00   \n",
       "gts                 14337.0  2.430231e+03  9.142308e+03  0.000000e+00   \n",
       "has_analytics       14337.0  7.302783e-02  2.601913e-01  0.000000e+00   \n",
       "has_header           8928.0  2.020609e-01  4.015599e-01  0.000000e+00   \n",
       "has_logo            14337.0  8.420869e-01  3.646722e-01  0.000000e+00   \n",
       "name_length         14337.0  4.162935e+01  2.315810e+01  0.000000e+00   \n",
       "num_order           14337.0  2.801067e+01  9.476968e+01  0.000000e+00   \n",
       "num_payouts         14337.0  3.375330e+01  1.251789e+02  0.000000e+00   \n",
       "object_id           14337.0  4.531344e+06  1.987661e+06  4.714600e+04   \n",
       "org_facebook        14278.0  7.974436e+00  1.176124e+01  0.000000e+00   \n",
       "org_twitter         14278.0  4.306976e+00  6.011520e+00  0.000000e+00   \n",
       "sale_duration       14182.0  4.686969e+01  5.482525e+01 -1.094000e+03   \n",
       "sale_duration2      14337.0  5.057676e+01  5.967809e+01 -1.094000e+03   \n",
       "show_map            14337.0  8.441794e-01  3.626978e-01  0.000000e+00   \n",
       "user_age            14337.0  3.742265e+02  4.185936e+02  0.000000e+00   \n",
       "user_created        14337.0  1.313492e+09  4.152174e+07  1.011210e+09   \n",
       "user_type           14337.0  2.711097e+00  1.606726e+00  1.000000e+00   \n",
       "venue_latitude      13261.0  3.522174e+01  2.020759e+01 -4.504521e+01   \n",
       "venue_longitude     13261.0 -5.949037e+01  6.656903e+01 -1.593902e+02   \n",
       "\n",
       "                             25%           50%           75%           max  \n",
       "approx_payout_date  1.334221e+09  1.355805e+09  1.370646e+09  1.523488e+09  \n",
       "body_length         7.500000e+02  1.990000e+03  4.280000e+03  6.553500e+04  \n",
       "channels            5.000000e+00  6.000000e+00  8.000000e+00  1.300000e+01  \n",
       "delivery_method     0.000000e+00  0.000000e+00  1.000000e+00  3.000000e+00  \n",
       "event_created       1.329754e+09  1.351043e+09  1.365346e+09  1.382012e+09  \n",
       "event_end           1.333789e+09  1.355373e+09  1.370214e+09  1.523056e+09  \n",
       "event_published     1.329499e+09  1.351099e+09  1.365478e+09  1.381608e+09  \n",
       "event_start         1.333406e+09  1.355000e+09  1.370048e+09  1.418850e+09  \n",
       "fb_published        0.000000e+00  0.000000e+00  0.000000e+00  1.000000e+00  \n",
       "gts                 1.164100e+02  4.319300e+02  1.547260e+03  3.062939e+05  \n",
       "has_analytics       0.000000e+00  0.000000e+00  0.000000e+00  1.000000e+00  \n",
       "has_header          0.000000e+00  0.000000e+00  0.000000e+00  1.000000e+00  \n",
       "has_logo            1.000000e+00  1.000000e+00  1.000000e+00  1.000000e+00  \n",
       "name_length         2.600000e+01  3.800000e+01  5.300000e+01  2.540000e+02  \n",
       "num_order           2.000000e+00  8.000000e+00  2.300000e+01  2.000000e+03  \n",
       "num_payouts         0.000000e+00  2.000000e+00  1.300000e+01  1.858000e+03  \n",
       "object_id           2.902989e+06  4.580386e+06  6.073577e+06  8.792893e+06  \n",
       "org_facebook        0.000000e+00  0.000000e+00  1.400000e+01  9.100000e+01  \n",
       "org_twitter         0.000000e+00  0.000000e+00  1.100000e+01  3.400000e+01  \n",
       "sale_duration       1.600000e+01  3.200000e+01  5.900000e+01  9.800000e+02  \n",
       "sale_duration2      1.700000e+01  3.500000e+01  6.300000e+01  9.800000e+02  \n",
       "show_map            1.000000e+00  1.000000e+00  1.000000e+00  1.000000e+00  \n",
       "user_age            1.300000e+01  2.420000e+02  6.030000e+02  3.794000e+03  \n",
       "user_created        1.286824e+09  1.316636e+09  1.346790e+09  1.381543e+09  \n",
       "user_type           1.000000e+00  3.000000e+00  3.000000e+00  1.030000e+02  \n",
       "venue_latitude      3.395934e+01  3.997410e+01  4.485704e+01  6.484402e+01  \n",
       "venue_longitude    -9.695783e+01 -7.942558e+01 -3.187449e+00  1.761695e+02  "
      ]
     },
     "execution_count": 7,
     "metadata": {},
     "output_type": "execute_result"
    }
   ],
   "source": [
    "df.describe().T"
   ]
  },
  {
   "cell_type": "code",
   "execution_count": 8,
   "metadata": {},
   "outputs": [
    {
     "name": "stdout",
     "output_type": "stream",
     "text": [
      "(14337, 44)\n"
     ]
    }
   ],
   "source": [
    "print(df.shape)"
   ]
  },
  {
   "cell_type": "code",
   "execution_count": 9,
   "metadata": {},
   "outputs": [
    {
     "name": "stdout",
     "output_type": "stream",
     "text": [
      "<class 'pandas.core.frame.DataFrame'>\n",
      "Int64Index: 14337 entries, 0 to 14336\n",
      "Data columns (total 44 columns):\n",
      "acct_type             14337 non-null object\n",
      "approx_payout_date    14337 non-null int64\n",
      "body_length           14337 non-null int64\n",
      "channels              14337 non-null int64\n",
      "country               14256 non-null object\n",
      "currency              14337 non-null object\n",
      "delivery_method       14321 non-null float64\n",
      "description           14337 non-null object\n",
      "email_domain          14337 non-null object\n",
      "event_created         14337 non-null int64\n",
      "event_end             14337 non-null int64\n",
      "event_published       14238 non-null float64\n",
      "event_start           14337 non-null int64\n",
      "fb_published          14337 non-null int64\n",
      "gts                   14337 non-null float64\n",
      "has_analytics         14337 non-null int64\n",
      "has_header            8928 non-null float64\n",
      "has_logo              14337 non-null int64\n",
      "listed                14337 non-null object\n",
      "name                  14337 non-null object\n",
      "name_length           14337 non-null int64\n",
      "num_order             14337 non-null int64\n",
      "num_payouts           14337 non-null int64\n",
      "object_id             14337 non-null int64\n",
      "org_desc              14337 non-null object\n",
      "org_facebook          14278 non-null float64\n",
      "org_name              14337 non-null object\n",
      "org_twitter           14278 non-null float64\n",
      "payee_name            14337 non-null object\n",
      "payout_type           14337 non-null object\n",
      "previous_payouts      14337 non-null object\n",
      "sale_duration         14182 non-null float64\n",
      "sale_duration2        14337 non-null int64\n",
      "show_map              14337 non-null int64\n",
      "ticket_types          14337 non-null object\n",
      "user_age              14337 non-null int64\n",
      "user_created          14337 non-null int64\n",
      "user_type             14337 non-null int64\n",
      "venue_address         14337 non-null object\n",
      "venue_country         13261 non-null object\n",
      "venue_latitude        13261 non-null float64\n",
      "venue_longitude       13261 non-null float64\n",
      "venue_name            13261 non-null object\n",
      "venue_state           13261 non-null object\n",
      "dtypes: float64(9), int64(18), object(17)\n",
      "memory usage: 4.9+ MB\n"
     ]
    }
   ],
   "source": [
    "df.info()"
   ]
  },
  {
   "cell_type": "code",
   "execution_count": 10,
   "metadata": {},
   "outputs": [],
   "source": [
    "sample = df.iloc[0]\n",
    "html_description = HTML(sample['description'])"
   ]
  },
  {
   "cell_type": "markdown",
   "metadata": {},
   "source": [
    "## Scatter plots"
   ]
  },
  {
   "cell_type": "code",
   "execution_count": 11,
   "metadata": {},
   "outputs": [],
   "source": [
    "#num_vars = ['body_length','channels','delivery_method','event_published','fb_published','gts']"
   ]
  },
  {
   "cell_type": "code",
   "execution_count": 12,
   "metadata": {},
   "outputs": [],
   "source": [
    "#ax = scatter_matrix(df[num_vars],figsize=(8,8),diagonal = 'kde')"
   ]
  },
  {
   "cell_type": "code",
   "execution_count": 13,
   "metadata": {},
   "outputs": [],
   "source": [
    "#num_vars = ['has_analytics','has_header','has_logo','name_length','num_order','num_payouts']"
   ]
  },
  {
   "cell_type": "code",
   "execution_count": 14,
   "metadata": {},
   "outputs": [],
   "source": [
    "#ax = scatter_matrix(df[num_vars],figsize=(8,8),diagonal = 'kde')"
   ]
  },
  {
   "cell_type": "code",
   "execution_count": 15,
   "metadata": {},
   "outputs": [],
   "source": [
    "#num_vars = ['org_facebook','org_twitter','sale_duration','show_map','user_age', 'user_type']"
   ]
  },
  {
   "cell_type": "code",
   "execution_count": 16,
   "metadata": {},
   "outputs": [],
   "source": [
    "#ax = scatter_matrix(df[num_vars],figsize=(8,8),diagonal = 'kde')"
   ]
  },
  {
   "cell_type": "code",
   "execution_count": 17,
   "metadata": {},
   "outputs": [],
   "source": [
    "#num_vars = ['body_length','channels','delivery_method','event_published','fb_published','gts', 'has_analytics','has_header','has_logo','name_length','num_order','num_payouts','org_facebook','org_twitter','sale_duration','show_map','user_age', 'user_type']"
   ]
  },
  {
   "cell_type": "code",
   "execution_count": 18,
   "metadata": {},
   "outputs": [],
   "source": [
    "#ax = scatter_matrix(df[num_vars],figsize=(12,12),diagonal = 'kde')"
   ]
  },
  {
   "cell_type": "markdown",
   "metadata": {},
   "source": [
    "## Clean up data"
   ]
  },
  {
   "cell_type": "code",
   "execution_count": 19,
   "metadata": {},
   "outputs": [],
   "source": [
    "from scrubbington import scrub_everything, scrub_fraud_no_fraud, scrub_datetime"
   ]
  },
  {
   "cell_type": "code",
   "execution_count": 20,
   "metadata": {},
   "outputs": [],
   "source": [
    "df = pd.read_json('../data/data.json')"
   ]
  },
  {
   "cell_type": "code",
   "execution_count": 21,
   "metadata": {},
   "outputs": [],
   "source": [
    "feature_names = ['acct_type', 'org_name']"
   ]
  },
  {
   "cell_type": "code",
   "execution_count": 22,
   "metadata": {},
   "outputs": [],
   "source": [
    "df_test, y, X = scrub_everything(df, feature_names)"
   ]
  },
  {
   "cell_type": "markdown",
   "metadata": {},
   "source": [
    "## Histograms"
   ]
  },
  {
   "cell_type": "code",
   "execution_count": 23,
   "metadata": {},
   "outputs": [
    {
     "name": "stdout",
     "output_type": "stream",
     "text": [
      "number of org names: 9501\n"
     ]
    }
   ],
   "source": [
    "unique_orgs = len(df_test['org_name'].unique())\n",
    "print(\"number of org names: {}\".format(unique_orgs))"
   ]
  },
  {
   "cell_type": "code",
   "execution_count": 24,
   "metadata": {},
   "outputs": [],
   "source": [
    "df2 = df_test['org_name']"
   ]
  },
  {
   "cell_type": "code",
   "execution_count": 25,
   "metadata": {},
   "outputs": [],
   "source": [
    "L = list(df2)\n",
    "M = Counter(L)"
   ]
  },
  {
   "cell_type": "code",
   "execution_count": 26,
   "metadata": {},
   "outputs": [],
   "source": [
    "c = dict(M)"
   ]
  },
  {
   "cell_type": "code",
   "execution_count": 27,
   "metadata": {},
   "outputs": [],
   "source": [
    "# for key in c:\n",
    "#     print(key, c[key])"
   ]
  },
  {
   "cell_type": "code",
   "execution_count": 28,
   "metadata": {},
   "outputs": [],
   "source": [
    "# Remove the unanimous org names\n",
    "N = sorted(list(M.values()), reverse=True)\n",
    "T = N[1:]"
   ]
  },
  {
   "cell_type": "code",
   "execution_count": 29,
   "metadata": {},
   "outputs": [
    {
     "name": "stdout",
     "output_type": "stream",
     "text": [
      "Number of posts by unanimous orgs: 1462\n"
     ]
    }
   ],
   "source": [
    "print(\"Number of posts by unanimous orgs: {}\".format(N[0]))"
   ]
  },
  {
   "cell_type": "markdown",
   "metadata": {},
   "source": [
    "### Histograms with and without posts by anonymous orgs"
   ]
  },
  {
   "cell_type": "code",
   "execution_count": 30,
   "metadata": {},
   "outputs": [
    {
     "data": {
      "image/png": "[encoded data removed]",
      "text/plain": [
       "<matplotlib.figure.Figure at 0x7f5ace306630>"
      ]
     },
     "metadata": {},
     "output_type": "display_data"
    }
   ],
   "source": [
    "fig, ax = plt.subplots(1,3, figsize=(16,5))\n",
    "ax[0].hist(N,bins=45);\n",
    "ax[0].set_xlabel('Number of posts')\n",
    "ax[0].set_ylabel('Number of org_names')\n",
    "ax[0].set_title('Histogram including anonymous orgs');\n",
    "ax[1].hist(N,bins=45);\n",
    "ax[1].set_xlabel('Number of posts')\n",
    "ax[1].set_ylabel('Number of org_names')\n",
    "ax[1].set_ylim(0,8)\n",
    "ax[1].set_title('Histogram including anonymous orgs');\n",
    "ax[2].hist(T,bins=45);\n",
    "ax[2].set_xlabel('Number of posts')\n",
    "ax[2].set_ylabel('Number of org_names')\n",
    "ax[2].set_title('Histogram excluding anonymous orgs');"
   ]
  },
  {
   "cell_type": "markdown",
   "metadata": {},
   "source": [
    "### Histogram for orgs with more than 2 posts"
   ]
  },
  {
   "cell_type": "code",
   "execution_count": 31,
   "metadata": {},
   "outputs": [],
   "source": [
    "L2 = []\n",
    "for x in T:\n",
    "    if x > 2:\n",
    "        L2.append(x)"
   ]
  },
  {
   "cell_type": "code",
   "execution_count": 32,
   "metadata": {},
   "outputs": [
    {
     "data": {
      "image/png": "[encoded data removed]",
      "text/plain": [
       "<matplotlib.figure.Figure at 0x7f5acdf8dc18>"
      ]
     },
     "metadata": {},
     "output_type": "display_data"
    }
   ],
   "source": [
    "fig, ax = plt.subplots(figsize=(7,5))\n",
    "ax.hist(L2,bins=42);\n",
    "plt.xlabel('Number of posts');\n",
    "plt.ylabel('Number of org_names');\n",
    "ax.set_title('Histogram for orgs with more than 2 posts');"
   ]
  },
  {
   "cell_type": "markdown",
   "metadata": {},
   "source": [
    "### Histogram of orgs with more than 3 posts"
   ]
  },
  {
   "cell_type": "code",
   "execution_count": 33,
   "metadata": {},
   "outputs": [],
   "source": [
    "L3 = []\n",
    "for x in T:\n",
    "    if x > 3:\n",
    "        L3.append(x)"
   ]
  },
  {
   "cell_type": "code",
   "execution_count": 34,
   "metadata": {},
   "outputs": [
    {
     "data": {
      "image/png": "[encoded data removed]",
      "text/plain": [
       "<matplotlib.figure.Figure at 0x7f5ad0742ef0>"
      ]
     },
     "metadata": {},
     "output_type": "display_data"
    }
   ],
   "source": [
    "fig, ax = plt.subplots(figsize=(7,5))\n",
    "ax.hist(L3,bins=41);\n",
    "plt.xlabel('Number of posts');\n",
    "plt.ylabel('Number of org_names');\n",
    "ax.set_title('Histogram of orgs with more than 3 posts');"
   ]
  },
  {
   "cell_type": "markdown",
   "metadata": {},
   "source": [
    "### Histogram of fraud for all orgs"
   ]
  },
  {
   "cell_type": "code",
   "execution_count": 35,
   "metadata": {},
   "outputs": [],
   "source": [
    "df3 = df_test[['org_name', 'fraud_no_fraud']]"
   ]
  },
  {
   "cell_type": "code",
   "execution_count": 36,
   "metadata": {},
   "outputs": [],
   "source": [
    "fraud_df3 = df3[df_test['fraud_no_fraud']==True]"
   ]
  },
  {
   "cell_type": "code",
   "execution_count": 53,
   "metadata": {},
   "outputs": [],
   "source": [
    "#df_test['fraud_no_fraud']==True"
   ]
  },
  {
   "cell_type": "code",
   "execution_count": 37,
   "metadata": {},
   "outputs": [],
   "source": [
    "# fraud_df3['org_name'].value_counts()"
   ]
  },
  {
   "cell_type": "code",
   "execution_count": 38,
   "metadata": {},
   "outputs": [],
   "source": [
    "# Org names with fraud\n",
    "fraud_L = fraud_df3.iloc[:,0]"
   ]
  },
  {
   "cell_type": "code",
   "execution_count": 39,
   "metadata": {},
   "outputs": [],
   "source": [
    "# Creating dictionay with fraud counts per org\n",
    "fraud_M = Counter(fraud_L)"
   ]
  },
  {
   "cell_type": "code",
   "execution_count": 40,
   "metadata": {},
   "outputs": [],
   "source": [
    "fraud_N = list(fraud_M.values())"
   ]
  },
  {
   "cell_type": "code",
   "execution_count": 41,
   "metadata": {},
   "outputs": [
    {
     "data": {
      "image/png": "[encoded data removed]",
      "text/plain": [
       "<matplotlib.figure.Figure at 0x7f5ad3c10ba8>"
      ]
     },
     "metadata": {},
     "output_type": "display_data"
    }
   ],
   "source": [
    "fig, ax = plt.subplots(1,2, figsize=(14,5))\n",
    "ax[0].hist(fraud_N,bins=45);\n",
    "ax[0].set_xlabel('Number of posts');\n",
    "ax[0].set_ylabel('Number of org_names');\n",
    "ax[0].set_title('Histogram of fraud for all orgs');\n",
    "ax[1].hist(fraud_N,bins=45);\n",
    "ax[1].set_xlabel('Number of posts');\n",
    "ax[1].set_ylabel('Number of org_names');\n",
    "ax[1].set_ylim(0,8)\n",
    "ax[1].set_title('Histogram of fraud for all orgs');"
   ]
  },
  {
   "cell_type": "markdown",
   "metadata": {},
   "source": [
    "### Histogram of fraud with more than 3 postings"
   ]
  },
  {
   "cell_type": "code",
   "execution_count": 42,
   "metadata": {},
   "outputs": [],
   "source": [
    "FL2 = []\n",
    "for x in fraud_N:\n",
    "    if x > 3:\n",
    "        FL2.append(x)"
   ]
  },
  {
   "cell_type": "code",
   "execution_count": 43,
   "metadata": {},
   "outputs": [
    {
     "data": {
      "image/png": "[encoded data removed]",
      "text/plain": [
       "<matplotlib.figure.Figure at 0x7f5ad67b09e8>"
      ]
     },
     "metadata": {},
     "output_type": "display_data"
    }
   ],
   "source": [
    "fig, ax = plt.subplots(figsize=(7,5))\n",
    "ax.hist(FL2,bins=50);\n",
    "plt.xlabel('Number of posts');\n",
    "plt.ylabel('Number of org_names');\n",
    "ax.set_title('Histogram of fraud with more than 3 postings');"
   ]
  },
  {
   "cell_type": "markdown",
   "metadata": {},
   "source": [
    "## Summary of EDA"
   ]
  },
  {
   "cell_type": "code",
   "execution_count": 44,
   "metadata": {},
   "outputs": [
    {
     "name": "stdout",
     "output_type": "stream",
     "text": [
      "number of org names: 9501\n"
     ]
    }
   ],
   "source": [
    "print(\"number of org names: {}\".format(unique_orgs))"
   ]
  },
  {
   "cell_type": "code",
   "execution_count": 45,
   "metadata": {},
   "outputs": [
    {
     "name": "stdout",
     "output_type": "stream",
     "text": [
      "Number of posts by anonymous orgs: 1462\n"
     ]
    }
   ],
   "source": [
    "print(\"Number of posts by anonymous orgs: {}\".format(N[0]))"
   ]
  },
  {
   "cell_type": "code",
   "execution_count": 46,
   "metadata": {},
   "outputs": [
    {
     "name": "stdout",
     "output_type": "stream",
     "text": [
      "Total number of frauds: 1293\n"
     ]
    }
   ],
   "source": [
    "print(\"Total number of frauds: {}\".format(len(fraud_df3)))"
   ]
  },
  {
   "cell_type": "code",
   "execution_count": 47,
   "metadata": {},
   "outputs": [
    {
     "name": "stdout",
     "output_type": "stream",
     "text": [
      "Number of frauds by anonymous orgs: 446\n"
     ]
    }
   ],
   "source": [
    "print(\"Number of frauds by anonymous orgs: {}\".format(fraud_M['']))"
   ]
  },
  {
   "cell_type": "markdown",
   "metadata": {},
   "source": [
    "## Adding a column for anonymous orgs"
   ]
  },
  {
   "cell_type": "code",
   "execution_count": 48,
   "metadata": {},
   "outputs": [],
   "source": [
    "length = len(df_test['org_name'])\n",
    "L_flag = []\n",
    "for i in range(length):\n",
    "    flag = len(df_test['org_name'][i]) == 0\n",
    "    L_flag.append(flag)"
   ]
  },
  {
   "cell_type": "code",
   "execution_count": 49,
   "metadata": {},
   "outputs": [
    {
     "data": {
      "text/plain": [
       "14337"
      ]
     },
     "execution_count": 49,
     "metadata": {},
     "output_type": "execute_result"
    }
   ],
   "source": [
    "len(L_flag)"
   ]
  },
  {
   "cell_type": "code",
   "execution_count": 50,
   "metadata": {},
   "outputs": [],
   "source": [
    "df4 = df_test[L_flag]"
   ]
  },
  {
   "cell_type": "code",
   "execution_count": 51,
   "metadata": {},
   "outputs": [
    {
     "data": {
      "text/html": [
       "<div>\n",
       "<style scoped>\n",
       "    .dataframe tbody tr th:only-of-type {\n",
       "        vertical-align: middle;\n",
       "    }\n",
       "\n",
       "    .dataframe tbody tr th {\n",
       "        vertical-align: top;\n",
       "    }\n",
       "\n",
       "    .dataframe thead th {\n",
       "        text-align: right;\n",
       "    }\n",
       "</style>\n",
       "<table border=\"1\" class=\"dataframe\">\n",
       "  <thead>\n",
       "    <tr style=\"text-align: right;\">\n",
       "      <th></th>\n",
       "      <th>org_name_bool</th>\n",
       "      <th>org_name</th>\n",
       "    </tr>\n",
       "  </thead>\n",
       "  <tbody>\n",
       "    <tr>\n",
       "      <th>0</th>\n",
       "      <td>False</td>\n",
       "      <td>Party Starz Ent &amp; Diverse Int'l Group</td>\n",
       "    </tr>\n",
       "    <tr>\n",
       "      <th>1</th>\n",
       "      <td>False</td>\n",
       "      <td>RUF at Winthrop University</td>\n",
       "    </tr>\n",
       "    <tr>\n",
       "      <th>2</th>\n",
       "      <td>False</td>\n",
       "      <td>University Preparation School in collaboration...</td>\n",
       "    </tr>\n",
       "    <tr>\n",
       "      <th>3</th>\n",
       "      <td>True</td>\n",
       "      <td></td>\n",
       "    </tr>\n",
       "    <tr>\n",
       "      <th>4</th>\n",
       "      <td>False</td>\n",
       "      <td>Arts &amp; Business Council of Greater Boston</td>\n",
       "    </tr>\n",
       "    <tr>\n",
       "      <th>5</th>\n",
       "      <td>False</td>\n",
       "      <td>Bluegrass Stallions Basketball</td>\n",
       "    </tr>\n",
       "    <tr>\n",
       "      <th>6</th>\n",
       "      <td>False</td>\n",
       "      <td>NABOE Business Owner Networking</td>\n",
       "    </tr>\n",
       "    <tr>\n",
       "      <th>7</th>\n",
       "      <td>False</td>\n",
       "      <td>The Magnetic Theatre</td>\n",
       "    </tr>\n",
       "    <tr>\n",
       "      <th>8</th>\n",
       "      <td>True</td>\n",
       "      <td></td>\n",
       "    </tr>\n",
       "    <tr>\n",
       "      <th>9</th>\n",
       "      <td>False</td>\n",
       "      <td>The Magnetic Theatre</td>\n",
       "    </tr>\n",
       "    <tr>\n",
       "      <th>10</th>\n",
       "      <td>False</td>\n",
       "      <td>San Francisco Family Support Network</td>\n",
       "    </tr>\n",
       "    <tr>\n",
       "      <th>11</th>\n",
       "      <td>False</td>\n",
       "      <td>forageSF</td>\n",
       "    </tr>\n",
       "    <tr>\n",
       "      <th>12</th>\n",
       "      <td>False</td>\n",
       "      <td>Ft. Worth Business Assistance Center</td>\n",
       "    </tr>\n",
       "    <tr>\n",
       "      <th>13</th>\n",
       "      <td>False</td>\n",
       "      <td>CCICE and CSPA</td>\n",
       "    </tr>\n",
       "    <tr>\n",
       "      <th>14</th>\n",
       "      <td>False</td>\n",
       "      <td>Simply Stylist</td>\n",
       "    </tr>\n",
       "    <tr>\n",
       "      <th>15</th>\n",
       "      <td>False</td>\n",
       "      <td>Reel Link Films</td>\n",
       "    </tr>\n",
       "    <tr>\n",
       "      <th>16</th>\n",
       "      <td>False</td>\n",
       "      <td>Reel Link Films</td>\n",
       "    </tr>\n",
       "    <tr>\n",
       "      <th>17</th>\n",
       "      <td>False</td>\n",
       "      <td>Friends of South Berwick Library</td>\n",
       "    </tr>\n",
       "    <tr>\n",
       "      <th>18</th>\n",
       "      <td>True</td>\n",
       "      <td></td>\n",
       "    </tr>\n",
       "    <tr>\n",
       "      <th>19</th>\n",
       "      <td>False</td>\n",
       "      <td>Mélange Productions, Inc.</td>\n",
       "    </tr>\n",
       "    <tr>\n",
       "      <th>20</th>\n",
       "      <td>False</td>\n",
       "      <td>The European Independent Film Festival (ÉCU)</td>\n",
       "    </tr>\n",
       "    <tr>\n",
       "      <th>21</th>\n",
       "      <td>False</td>\n",
       "      <td>Percussion Center</td>\n",
       "    </tr>\n",
       "    <tr>\n",
       "      <th>22</th>\n",
       "      <td>False</td>\n",
       "      <td>Calvary Church in Holland, MI</td>\n",
       "    </tr>\n",
       "    <tr>\n",
       "      <th>23</th>\n",
       "      <td>False</td>\n",
       "      <td>First American Title</td>\n",
       "    </tr>\n",
       "    <tr>\n",
       "      <th>24</th>\n",
       "      <td>False</td>\n",
       "      <td>Digital EYE Media</td>\n",
       "    </tr>\n",
       "    <tr>\n",
       "      <th>25</th>\n",
       "      <td>False</td>\n",
       "      <td>Scoutmaster Bucky</td>\n",
       "    </tr>\n",
       "    <tr>\n",
       "      <th>26</th>\n",
       "      <td>True</td>\n",
       "      <td></td>\n",
       "    </tr>\n",
       "    <tr>\n",
       "      <th>27</th>\n",
       "      <td>False</td>\n",
       "      <td>Chicago Tribune</td>\n",
       "    </tr>\n",
       "    <tr>\n",
       "      <th>28</th>\n",
       "      <td>False</td>\n",
       "      <td>American Academy of Facial Esthetics</td>\n",
       "    </tr>\n",
       "    <tr>\n",
       "      <th>29</th>\n",
       "      <td>False</td>\n",
       "      <td>DISTRIKT</td>\n",
       "    </tr>\n",
       "    <tr>\n",
       "      <th>...</th>\n",
       "      <td>...</td>\n",
       "      <td>...</td>\n",
       "    </tr>\n",
       "    <tr>\n",
       "      <th>14307</th>\n",
       "      <td>False</td>\n",
       "      <td>ATD - ImprovBoston</td>\n",
       "    </tr>\n",
       "    <tr>\n",
       "      <th>14308</th>\n",
       "      <td>False</td>\n",
       "      <td>Bethel Music</td>\n",
       "    </tr>\n",
       "    <tr>\n",
       "      <th>14309</th>\n",
       "      <td>True</td>\n",
       "      <td></td>\n",
       "    </tr>\n",
       "    <tr>\n",
       "      <th>14310</th>\n",
       "      <td>False</td>\n",
       "      <td>JourneyingFree</td>\n",
       "    </tr>\n",
       "    <tr>\n",
       "      <th>14311</th>\n",
       "      <td>False</td>\n",
       "      <td>Trinity Church of the Nazarene</td>\n",
       "    </tr>\n",
       "    <tr>\n",
       "      <th>14312</th>\n",
       "      <td>False</td>\n",
       "      <td>ABD Cycle Club</td>\n",
       "    </tr>\n",
       "    <tr>\n",
       "      <th>14313</th>\n",
       "      <td>False</td>\n",
       "      <td>IRIS Presents</td>\n",
       "    </tr>\n",
       "    <tr>\n",
       "      <th>14314</th>\n",
       "      <td>False</td>\n",
       "      <td>PIECES</td>\n",
       "    </tr>\n",
       "    <tr>\n",
       "      <th>14315</th>\n",
       "      <td>False</td>\n",
       "      <td>Swing in Utrecht</td>\n",
       "    </tr>\n",
       "    <tr>\n",
       "      <th>14316</th>\n",
       "      <td>False</td>\n",
       "      <td>THE FUNCTIONS ORG</td>\n",
       "    </tr>\n",
       "    <tr>\n",
       "      <th>14317</th>\n",
       "      <td>False</td>\n",
       "      <td>God Des and She</td>\n",
       "    </tr>\n",
       "    <tr>\n",
       "      <th>14318</th>\n",
       "      <td>False</td>\n",
       "      <td>Dating NYC</td>\n",
       "    </tr>\n",
       "    <tr>\n",
       "      <th>14319</th>\n",
       "      <td>True</td>\n",
       "      <td></td>\n",
       "    </tr>\n",
       "    <tr>\n",
       "      <th>14320</th>\n",
       "      <td>False</td>\n",
       "      <td>Newcastle University Christian Union &amp; Northum...</td>\n",
       "    </tr>\n",
       "    <tr>\n",
       "      <th>14321</th>\n",
       "      <td>False</td>\n",
       "      <td>The Fetch</td>\n",
       "    </tr>\n",
       "    <tr>\n",
       "      <th>14322</th>\n",
       "      <td>False</td>\n",
       "      <td>Boy Scout Troop 469</td>\n",
       "    </tr>\n",
       "    <tr>\n",
       "      <th>14323</th>\n",
       "      <td>True</td>\n",
       "      <td></td>\n",
       "    </tr>\n",
       "    <tr>\n",
       "      <th>14324</th>\n",
       "      <td>False</td>\n",
       "      <td>Legion Fetish Events</td>\n",
       "    </tr>\n",
       "    <tr>\n",
       "      <th>14325</th>\n",
       "      <td>False</td>\n",
       "      <td>Arthur Taylor..   \"High Society\"</td>\n",
       "    </tr>\n",
       "    <tr>\n",
       "      <th>14326</th>\n",
       "      <td>False</td>\n",
       "      <td>Sandie Byrne Medium</td>\n",
       "    </tr>\n",
       "    <tr>\n",
       "      <th>14327</th>\n",
       "      <td>False</td>\n",
       "      <td>Community Anti-Racism Education Initiative (CA...</td>\n",
       "    </tr>\n",
       "    <tr>\n",
       "      <th>14328</th>\n",
       "      <td>False</td>\n",
       "      <td>Making U Social</td>\n",
       "    </tr>\n",
       "    <tr>\n",
       "      <th>14329</th>\n",
       "      <td>False</td>\n",
       "      <td>Making U Social</td>\n",
       "    </tr>\n",
       "    <tr>\n",
       "      <th>14330</th>\n",
       "      <td>False</td>\n",
       "      <td>Center for Spritual Living - C.O.L.O.R.S.</td>\n",
       "    </tr>\n",
       "    <tr>\n",
       "      <th>14331</th>\n",
       "      <td>False</td>\n",
       "      <td>Revolution Group</td>\n",
       "    </tr>\n",
       "    <tr>\n",
       "      <th>14332</th>\n",
       "      <td>True</td>\n",
       "      <td></td>\n",
       "    </tr>\n",
       "    <tr>\n",
       "      <th>14333</th>\n",
       "      <td>False</td>\n",
       "      <td>ARCS Foundation, Inc., San Diego Chapter</td>\n",
       "    </tr>\n",
       "    <tr>\n",
       "      <th>14334</th>\n",
       "      <td>False</td>\n",
       "      <td>Tiffantasy Entertainment</td>\n",
       "    </tr>\n",
       "    <tr>\n",
       "      <th>14335</th>\n",
       "      <td>True</td>\n",
       "      <td></td>\n",
       "    </tr>\n",
       "    <tr>\n",
       "      <th>14336</th>\n",
       "      <td>False</td>\n",
       "      <td>ali osman</td>\n",
       "    </tr>\n",
       "  </tbody>\n",
       "</table>\n",
       "<p>14337 rows × 2 columns</p>\n",
       "</div>"
      ],
      "text/plain": [
       "       org_name_bool                                           org_name\n",
       "0              False              Party Starz Ent & Diverse Int'l Group\n",
       "1              False                         RUF at Winthrop University\n",
       "2              False  University Preparation School in collaboration...\n",
       "3               True                                                   \n",
       "4              False         Arts & Business Council of Greater Boston \n",
       "5              False                     Bluegrass Stallions Basketball\n",
       "6              False                    NABOE Business Owner Networking\n",
       "7              False                               The Magnetic Theatre\n",
       "8               True                                                   \n",
       "9              False                               The Magnetic Theatre\n",
       "10             False              San Francisco Family Support Network \n",
       "11             False                                           forageSF\n",
       "12             False               Ft. Worth Business Assistance Center\n",
       "13             False                                     CCICE and CSPA\n",
       "14             False                                     Simply Stylist\n",
       "15             False                                    Reel Link Films\n",
       "16             False                                    Reel Link Films\n",
       "17             False                   Friends of South Berwick Library\n",
       "18              True                                                   \n",
       "19             False                          Mélange Productions, Inc.\n",
       "20             False       The European Independent Film Festival (ÉCU)\n",
       "21             False                                  Percussion Center\n",
       "22             False                      Calvary Church in Holland, MI\n",
       "23             False                               First American Title\n",
       "24             False                                  Digital EYE Media\n",
       "25             False                                  Scoutmaster Bucky\n",
       "26              True                                                   \n",
       "27             False                                    Chicago Tribune\n",
       "28             False               American Academy of Facial Esthetics\n",
       "29             False                                           DISTRIKT\n",
       "...              ...                                                ...\n",
       "14307          False                                 ATD - ImprovBoston\n",
       "14308          False                                       Bethel Music\n",
       "14309           True                                                   \n",
       "14310          False                                     JourneyingFree\n",
       "14311          False                     Trinity Church of the Nazarene\n",
       "14312          False                                     ABD Cycle Club\n",
       "14313          False                                      IRIS Presents\n",
       "14314          False                                             PIECES\n",
       "14315          False                                   Swing in Utrecht\n",
       "14316          False                                  THE FUNCTIONS ORG\n",
       "14317          False                                    God Des and She\n",
       "14318          False                                         Dating NYC\n",
       "14319           True                                                   \n",
       "14320          False  Newcastle University Christian Union & Northum...\n",
       "14321          False                                          The Fetch\n",
       "14322          False                                Boy Scout Troop 469\n",
       "14323           True                                                   \n",
       "14324          False                               Legion Fetish Events\n",
       "14325          False                   Arthur Taylor..   \"High Society\"\n",
       "14326          False                                Sandie Byrne Medium\n",
       "14327          False  Community Anti-Racism Education Initiative (CA...\n",
       "14328          False                                    Making U Social\n",
       "14329          False                                    Making U Social\n",
       "14330          False          Center for Spritual Living - C.O.L.O.R.S.\n",
       "14331          False                                   Revolution Group\n",
       "14332           True                                                   \n",
       "14333          False           ARCS Foundation, Inc., San Diego Chapter\n",
       "14334          False                           Tiffantasy Entertainment\n",
       "14335           True                                                   \n",
       "14336          False                                          ali osman\n",
       "\n",
       "[14337 rows x 2 columns]"
      ]
     },
     "execution_count": 51,
     "metadata": {},
     "output_type": "execute_result"
    }
   ],
   "source": [
    "df_test['org_name_bool'] = L_flag\n",
    "df_test[['org_name_bool','org_name']]"
   ]
  },
  {
   "cell_type": "code",
   "execution_count": null,
   "metadata": {},
   "outputs": [],
   "source": []
  }
 ],
 "metadata": {
  "kernelspec": {
   "display_name": "Python 3",
   "language": "python",
   "name": "python3"
  },
  "language_info": {
   "codemirror_mode": {
    "name": "ipython",
    "version": 3
   },
   "file_extension": ".py",
   "mimetype": "text/x-python",
   "name": "python",
   "nbconvert_exporter": "python",
   "pygments_lexer": "ipython3",
   "version": "3.6.4"
  }
 },
 "nbformat": 4,
 "nbformat_minor": 2
}
