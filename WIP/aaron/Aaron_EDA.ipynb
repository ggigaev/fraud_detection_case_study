{
 "cells": [
  {
   "cell_type": "code",
   "execution_count": 259,
   "metadata": {
    "collapsed": true
   },
   "outputs": [],
   "source": [
    "import pandas as pd\n",
    "import numpy as np\n",
    "from IPython.core.display import HTML\n",
    "import matplotlib.pyplot as plt\n",
    "from pandas.plotting import scatter_matrix\n",
    "from collections import Counter\n",
    "%matplotlib inline"
   ]
  },
  {
   "cell_type": "code",
   "execution_count": 260,
   "metadata": {
    "collapsed": true
   },
   "outputs": [],
   "source": [
    "df = pd.read_json('data/data.json')"
   ]
  },
  {
   "cell_type": "markdown",
   "metadata": {},
   "source": [
    "# EDA"
   ]
  },
  {
   "cell_type": "code",
   "execution_count": 261,
   "metadata": {},
   "outputs": [
    {
     "data": {
      "text/plain": [
       "(14337, 44)"
      ]
     },
     "execution_count": 261,
     "metadata": {},
     "output_type": "execute_result"
    }
   ],
   "source": [
    "df.shape"
   ]
  },
  {
   "cell_type": "code",
   "execution_count": 262,
   "metadata": {},
   "outputs": [
    {
     "data": {
      "text/html": [
       "<div>\n",
       "<style>\n",
       "    .dataframe thead tr:only-child th {\n",
       "        text-align: right;\n",
       "    }\n",
       "\n",
       "    .dataframe thead th {\n",
       "        text-align: left;\n",
       "    }\n",
       "\n",
       "    .dataframe tbody tr th {\n",
       "        vertical-align: top;\n",
       "    }\n",
       "</style>\n",
       "<table border=\"1\" class=\"dataframe\">\n",
       "  <thead>\n",
       "    <tr style=\"text-align: right;\">\n",
       "      <th></th>\n",
       "      <th>acct_type</th>\n",
       "      <th>approx_payout_date</th>\n",
       "      <th>body_length</th>\n",
       "      <th>channels</th>\n",
       "      <th>country</th>\n",
       "      <th>currency</th>\n",
       "      <th>delivery_method</th>\n",
       "      <th>description</th>\n",
       "      <th>email_domain</th>\n",
       "      <th>event_created</th>\n",
       "      <th>...</th>\n",
       "      <th>ticket_types</th>\n",
       "      <th>user_age</th>\n",
       "      <th>user_created</th>\n",
       "      <th>user_type</th>\n",
       "      <th>venue_address</th>\n",
       "      <th>venue_country</th>\n",
       "      <th>venue_latitude</th>\n",
       "      <th>venue_longitude</th>\n",
       "      <th>venue_name</th>\n",
       "      <th>venue_state</th>\n",
       "    </tr>\n",
       "  </thead>\n",
       "  <tbody>\n",
       "    <tr>\n",
       "      <th>0</th>\n",
       "      <td>fraudster_event</td>\n",
       "      <td>1266062400</td>\n",
       "      <td>3852</td>\n",
       "      <td>5</td>\n",
       "      <td>US</td>\n",
       "      <td>USD</td>\n",
       "      <td>0.0</td>\n",
       "      <td>&lt;p&gt;&lt;a href=\"http://s432.photobucket.com/albums...</td>\n",
       "      <td>gmail.com</td>\n",
       "      <td>1262739706</td>\n",
       "      <td>...</td>\n",
       "      <td>[{'event_id': 527017, 'cost': 25.0, 'availabil...</td>\n",
       "      <td>36</td>\n",
       "      <td>1259613950</td>\n",
       "      <td>1</td>\n",
       "      <td>717 Washington Avenue</td>\n",
       "      <td>US</td>\n",
       "      <td>25.777471</td>\n",
       "      <td>-80.133433</td>\n",
       "      <td>INK Nightclub - South Beach</td>\n",
       "      <td>FL</td>\n",
       "    </tr>\n",
       "    <tr>\n",
       "      <th>1</th>\n",
       "      <td>premium</td>\n",
       "      <td>1296720000</td>\n",
       "      <td>3499</td>\n",
       "      <td>0</td>\n",
       "      <td>US</td>\n",
       "      <td>USD</td>\n",
       "      <td>1.0</td>\n",
       "      <td>&lt;p&gt;Join us for a quick, one-night, community-b...</td>\n",
       "      <td>ruf.org</td>\n",
       "      <td>1293832670</td>\n",
       "      <td>...</td>\n",
       "      <td>[{'event_id': 786878, 'cost': 35.0, 'availabil...</td>\n",
       "      <td>149</td>\n",
       "      <td>1280942776</td>\n",
       "      <td>3</td>\n",
       "      <td></td>\n",
       "      <td>US</td>\n",
       "      <td>32.776566</td>\n",
       "      <td>-79.930922</td>\n",
       "      <td>The Charleston, SC area</td>\n",
       "      <td>SC</td>\n",
       "    </tr>\n",
       "    <tr>\n",
       "      <th>2</th>\n",
       "      <td>premium</td>\n",
       "      <td>1296172800</td>\n",
       "      <td>2601</td>\n",
       "      <td>8</td>\n",
       "      <td>US</td>\n",
       "      <td>USD</td>\n",
       "      <td>1.0</td>\n",
       "      <td>&lt;h3&gt;&lt;span class=\"subcategory\"&gt;&lt;strong&gt;Teacher ...</td>\n",
       "      <td>pvsd.k12.ca.us</td>\n",
       "      <td>1291090956</td>\n",
       "      <td>...</td>\n",
       "      <td>[{'event_id': 787337, 'cost': 93.51, 'availabi...</td>\n",
       "      <td>214</td>\n",
       "      <td>1272559388</td>\n",
       "      <td>3</td>\n",
       "      <td>10100 Pioneer Blvd Suite 100</td>\n",
       "      <td>US</td>\n",
       "      <td>33.944201</td>\n",
       "      <td>-118.080419</td>\n",
       "      <td>Los Angeles County Office of Education</td>\n",
       "      <td>CA</td>\n",
       "    </tr>\n",
       "    <tr>\n",
       "      <th>3</th>\n",
       "      <td>premium</td>\n",
       "      <td>1388966400</td>\n",
       "      <td>12347</td>\n",
       "      <td>6</td>\n",
       "      <td>IE</td>\n",
       "      <td>EUR</td>\n",
       "      <td>1.0</td>\n",
       "      <td>&lt;p style=\"margin-bottom: 1.3em; padding-bottom...</td>\n",
       "      <td>irishtabletennis.com</td>\n",
       "      <td>1360681570</td>\n",
       "      <td>...</td>\n",
       "      <td>[{'event_id': 885645, 'cost': 25.0, 'availabil...</td>\n",
       "      <td>889</td>\n",
       "      <td>1283870102</td>\n",
       "      <td>3</td>\n",
       "      <td></td>\n",
       "      <td>None</td>\n",
       "      <td>NaN</td>\n",
       "      <td>NaN</td>\n",
       "      <td>None</td>\n",
       "      <td>None</td>\n",
       "    </tr>\n",
       "    <tr>\n",
       "      <th>4</th>\n",
       "      <td>premium</td>\n",
       "      <td>1297900800</td>\n",
       "      <td>2417</td>\n",
       "      <td>11</td>\n",
       "      <td>US</td>\n",
       "      <td>USD</td>\n",
       "      <td>0.0</td>\n",
       "      <td>&lt;p&gt;Writers and filmmakers need to understand t...</td>\n",
       "      <td>artsandbusinesscouncil.org</td>\n",
       "      <td>1291994666</td>\n",
       "      <td>...</td>\n",
       "      <td>[{'event_id': 1114349, 'cost': 150.0, 'availab...</td>\n",
       "      <td>35</td>\n",
       "      <td>1288984065</td>\n",
       "      <td>3</td>\n",
       "      <td>One Marina Park Drive</td>\n",
       "      <td>US</td>\n",
       "      <td>42.353848</td>\n",
       "      <td>-71.044276</td>\n",
       "      <td>Fish &amp; Richardson</td>\n",
       "      <td>MA</td>\n",
       "    </tr>\n",
       "  </tbody>\n",
       "</table>\n",
       "<p>5 rows × 44 columns</p>\n",
       "</div>"
      ],
      "text/plain": [
       "         acct_type  approx_payout_date  body_length  channels country  \\\n",
       "0  fraudster_event          1266062400         3852         5      US   \n",
       "1          premium          1296720000         3499         0      US   \n",
       "2          premium          1296172800         2601         8      US   \n",
       "3          premium          1388966400        12347         6      IE   \n",
       "4          premium          1297900800         2417        11      US   \n",
       "\n",
       "  currency  delivery_method  \\\n",
       "0      USD              0.0   \n",
       "1      USD              1.0   \n",
       "2      USD              1.0   \n",
       "3      EUR              1.0   \n",
       "4      USD              0.0   \n",
       "\n",
       "                                         description  \\\n",
       "0  <p><a href=\"http://s432.photobucket.com/albums...   \n",
       "1  <p>Join us for a quick, one-night, community-b...   \n",
       "2  <h3><span class=\"subcategory\"><strong>Teacher ...   \n",
       "3  <p style=\"margin-bottom: 1.3em; padding-bottom...   \n",
       "4  <p>Writers and filmmakers need to understand t...   \n",
       "\n",
       "                 email_domain  event_created     ...      \\\n",
       "0                   gmail.com     1262739706     ...       \n",
       "1                     ruf.org     1293832670     ...       \n",
       "2              pvsd.k12.ca.us     1291090956     ...       \n",
       "3        irishtabletennis.com     1360681570     ...       \n",
       "4  artsandbusinesscouncil.org     1291994666     ...       \n",
       "\n",
       "                                        ticket_types  user_age  user_created  \\\n",
       "0  [{'event_id': 527017, 'cost': 25.0, 'availabil...        36    1259613950   \n",
       "1  [{'event_id': 786878, 'cost': 35.0, 'availabil...       149    1280942776   \n",
       "2  [{'event_id': 787337, 'cost': 93.51, 'availabi...       214    1272559388   \n",
       "3  [{'event_id': 885645, 'cost': 25.0, 'availabil...       889    1283870102   \n",
       "4  [{'event_id': 1114349, 'cost': 150.0, 'availab...        35    1288984065   \n",
       "\n",
       "   user_type                 venue_address  venue_country  venue_latitude  \\\n",
       "0          1         717 Washington Avenue             US       25.777471   \n",
       "1          3                                           US       32.776566   \n",
       "2          3  10100 Pioneer Blvd Suite 100             US       33.944201   \n",
       "3          3                                         None             NaN   \n",
       "4          3        One Marina Park Drive              US       42.353848   \n",
       "\n",
       "   venue_longitude                              venue_name venue_state  \n",
       "0       -80.133433             INK Nightclub - South Beach          FL  \n",
       "1       -79.930922                 The Charleston, SC area          SC  \n",
       "2      -118.080419  Los Angeles County Office of Education          CA  \n",
       "3              NaN                                    None        None  \n",
       "4       -71.044276                       Fish & Richardson          MA  \n",
       "\n",
       "[5 rows x 44 columns]"
      ]
     },
     "execution_count": 262,
     "metadata": {},
     "output_type": "execute_result"
    }
   ],
   "source": [
    "df.head(5)"
   ]
  },
  {
   "cell_type": "code",
   "execution_count": 263,
   "metadata": {},
   "outputs": [
    {
     "data": {
      "text/html": [
       "<div>\n",
       "<style>\n",
       "    .dataframe thead tr:only-child th {\n",
       "        text-align: right;\n",
       "    }\n",
       "\n",
       "    .dataframe thead th {\n",
       "        text-align: left;\n",
       "    }\n",
       "\n",
       "    .dataframe tbody tr th {\n",
       "        vertical-align: top;\n",
       "    }\n",
       "</style>\n",
       "<table border=\"1\" class=\"dataframe\">\n",
       "  <thead>\n",
       "    <tr style=\"text-align: right;\">\n",
       "      <th></th>\n",
       "      <th>approx_payout_date</th>\n",
       "      <th>body_length</th>\n",
       "      <th>channels</th>\n",
       "      <th>delivery_method</th>\n",
       "      <th>event_created</th>\n",
       "      <th>event_end</th>\n",
       "      <th>event_published</th>\n",
       "      <th>event_start</th>\n",
       "      <th>fb_published</th>\n",
       "      <th>gts</th>\n",
       "      <th>...</th>\n",
       "      <th>org_facebook</th>\n",
       "      <th>org_twitter</th>\n",
       "      <th>sale_duration</th>\n",
       "      <th>sale_duration2</th>\n",
       "      <th>show_map</th>\n",
       "      <th>user_age</th>\n",
       "      <th>user_created</th>\n",
       "      <th>user_type</th>\n",
       "      <th>venue_latitude</th>\n",
       "      <th>venue_longitude</th>\n",
       "    </tr>\n",
       "  </thead>\n",
       "  <tbody>\n",
       "    <tr>\n",
       "      <th>count</th>\n",
       "      <td>1.433700e+04</td>\n",
       "      <td>14337.000000</td>\n",
       "      <td>14337.000000</td>\n",
       "      <td>14321.000000</td>\n",
       "      <td>1.433700e+04</td>\n",
       "      <td>1.433700e+04</td>\n",
       "      <td>1.423800e+04</td>\n",
       "      <td>1.433700e+04</td>\n",
       "      <td>14337.000000</td>\n",
       "      <td>14337.000000</td>\n",
       "      <td>...</td>\n",
       "      <td>14278.000000</td>\n",
       "      <td>14278.000000</td>\n",
       "      <td>14182.000000</td>\n",
       "      <td>14337.000000</td>\n",
       "      <td>14337.000000</td>\n",
       "      <td>14337.000000</td>\n",
       "      <td>1.433700e+04</td>\n",
       "      <td>14337.000000</td>\n",
       "      <td>13261.000000</td>\n",
       "      <td>13261.000000</td>\n",
       "    </tr>\n",
       "    <tr>\n",
       "      <th>mean</th>\n",
       "      <td>1.350933e+09</td>\n",
       "      <td>3672.521936</td>\n",
       "      <td>6.176676</td>\n",
       "      <td>0.439564</td>\n",
       "      <td>1.345825e+09</td>\n",
       "      <td>1.350501e+09</td>\n",
       "      <td>1.340854e+09</td>\n",
       "      <td>1.350205e+09</td>\n",
       "      <td>0.127433</td>\n",
       "      <td>2430.231492</td>\n",
       "      <td>...</td>\n",
       "      <td>7.974436</td>\n",
       "      <td>4.306976</td>\n",
       "      <td>46.869694</td>\n",
       "      <td>50.576759</td>\n",
       "      <td>0.844179</td>\n",
       "      <td>374.226547</td>\n",
       "      <td>1.313492e+09</td>\n",
       "      <td>2.711097</td>\n",
       "      <td>35.221736</td>\n",
       "      <td>-59.490368</td>\n",
       "    </tr>\n",
       "    <tr>\n",
       "      <th>std</th>\n",
       "      <td>2.401300e+07</td>\n",
       "      <td>5758.113003</td>\n",
       "      <td>3.860333</td>\n",
       "      <td>0.591487</td>\n",
       "      <td>2.404107e+07</td>\n",
       "      <td>2.401299e+07</td>\n",
       "      <td>8.750386e+07</td>\n",
       "      <td>2.398787e+07</td>\n",
       "      <td>0.333468</td>\n",
       "      <td>9142.308260</td>\n",
       "      <td>...</td>\n",
       "      <td>11.761241</td>\n",
       "      <td>6.011520</td>\n",
       "      <td>54.825253</td>\n",
       "      <td>59.678090</td>\n",
       "      <td>0.362698</td>\n",
       "      <td>418.593616</td>\n",
       "      <td>4.152174e+07</td>\n",
       "      <td>1.606726</td>\n",
       "      <td>20.207588</td>\n",
       "      <td>66.569034</td>\n",
       "    </tr>\n",
       "    <tr>\n",
       "      <th>min</th>\n",
       "      <td>1.171256e+09</td>\n",
       "      <td>0.000000</td>\n",
       "      <td>0.000000</td>\n",
       "      <td>0.000000</td>\n",
       "      <td>1.170332e+09</td>\n",
       "      <td>1.170824e+09</td>\n",
       "      <td>0.000000e+00</td>\n",
       "      <td>1.170819e+09</td>\n",
       "      <td>0.000000</td>\n",
       "      <td>0.000000</td>\n",
       "      <td>...</td>\n",
       "      <td>0.000000</td>\n",
       "      <td>0.000000</td>\n",
       "      <td>-1094.000000</td>\n",
       "      <td>-1094.000000</td>\n",
       "      <td>0.000000</td>\n",
       "      <td>0.000000</td>\n",
       "      <td>1.011210e+09</td>\n",
       "      <td>1.000000</td>\n",
       "      <td>-45.045208</td>\n",
       "      <td>-159.390183</td>\n",
       "    </tr>\n",
       "    <tr>\n",
       "      <th>25%</th>\n",
       "      <td>1.334221e+09</td>\n",
       "      <td>750.000000</td>\n",
       "      <td>5.000000</td>\n",
       "      <td>0.000000</td>\n",
       "      <td>1.329754e+09</td>\n",
       "      <td>1.333789e+09</td>\n",
       "      <td>1.329499e+09</td>\n",
       "      <td>1.333406e+09</td>\n",
       "      <td>0.000000</td>\n",
       "      <td>116.410000</td>\n",
       "      <td>...</td>\n",
       "      <td>0.000000</td>\n",
       "      <td>0.000000</td>\n",
       "      <td>16.000000</td>\n",
       "      <td>17.000000</td>\n",
       "      <td>1.000000</td>\n",
       "      <td>13.000000</td>\n",
       "      <td>1.286824e+09</td>\n",
       "      <td>1.000000</td>\n",
       "      <td>33.959338</td>\n",
       "      <td>-96.957828</td>\n",
       "    </tr>\n",
       "    <tr>\n",
       "      <th>50%</th>\n",
       "      <td>1.355805e+09</td>\n",
       "      <td>1990.000000</td>\n",
       "      <td>6.000000</td>\n",
       "      <td>0.000000</td>\n",
       "      <td>1.351043e+09</td>\n",
       "      <td>1.355373e+09</td>\n",
       "      <td>1.351099e+09</td>\n",
       "      <td>1.355000e+09</td>\n",
       "      <td>0.000000</td>\n",
       "      <td>431.930000</td>\n",
       "      <td>...</td>\n",
       "      <td>0.000000</td>\n",
       "      <td>0.000000</td>\n",
       "      <td>32.000000</td>\n",
       "      <td>35.000000</td>\n",
       "      <td>1.000000</td>\n",
       "      <td>242.000000</td>\n",
       "      <td>1.316636e+09</td>\n",
       "      <td>3.000000</td>\n",
       "      <td>39.974104</td>\n",
       "      <td>-79.425579</td>\n",
       "    </tr>\n",
       "    <tr>\n",
       "      <th>75%</th>\n",
       "      <td>1.370646e+09</td>\n",
       "      <td>4280.000000</td>\n",
       "      <td>8.000000</td>\n",
       "      <td>1.000000</td>\n",
       "      <td>1.365346e+09</td>\n",
       "      <td>1.370214e+09</td>\n",
       "      <td>1.365478e+09</td>\n",
       "      <td>1.370048e+09</td>\n",
       "      <td>0.000000</td>\n",
       "      <td>1547.260000</td>\n",
       "      <td>...</td>\n",
       "      <td>14.000000</td>\n",
       "      <td>11.000000</td>\n",
       "      <td>59.000000</td>\n",
       "      <td>63.000000</td>\n",
       "      <td>1.000000</td>\n",
       "      <td>603.000000</td>\n",
       "      <td>1.346790e+09</td>\n",
       "      <td>3.000000</td>\n",
       "      <td>44.857040</td>\n",
       "      <td>-3.187449</td>\n",
       "    </tr>\n",
       "    <tr>\n",
       "      <th>max</th>\n",
       "      <td>1.523488e+09</td>\n",
       "      <td>65535.000000</td>\n",
       "      <td>13.000000</td>\n",
       "      <td>3.000000</td>\n",
       "      <td>1.382012e+09</td>\n",
       "      <td>1.523056e+09</td>\n",
       "      <td>1.381608e+09</td>\n",
       "      <td>1.418850e+09</td>\n",
       "      <td>1.000000</td>\n",
       "      <td>306293.930000</td>\n",
       "      <td>...</td>\n",
       "      <td>91.000000</td>\n",
       "      <td>34.000000</td>\n",
       "      <td>980.000000</td>\n",
       "      <td>980.000000</td>\n",
       "      <td>1.000000</td>\n",
       "      <td>3794.000000</td>\n",
       "      <td>1.381543e+09</td>\n",
       "      <td>103.000000</td>\n",
       "      <td>64.844022</td>\n",
       "      <td>176.169492</td>\n",
       "    </tr>\n",
       "  </tbody>\n",
       "</table>\n",
       "<p>8 rows × 27 columns</p>\n",
       "</div>"
      ],
      "text/plain": [
       "       approx_payout_date   body_length      channels  delivery_method  \\\n",
       "count        1.433700e+04  14337.000000  14337.000000     14321.000000   \n",
       "mean         1.350933e+09   3672.521936      6.176676         0.439564   \n",
       "std          2.401300e+07   5758.113003      3.860333         0.591487   \n",
       "min          1.171256e+09      0.000000      0.000000         0.000000   \n",
       "25%          1.334221e+09    750.000000      5.000000         0.000000   \n",
       "50%          1.355805e+09   1990.000000      6.000000         0.000000   \n",
       "75%          1.370646e+09   4280.000000      8.000000         1.000000   \n",
       "max          1.523488e+09  65535.000000     13.000000         3.000000   \n",
       "\n",
       "       event_created     event_end  event_published   event_start  \\\n",
       "count   1.433700e+04  1.433700e+04     1.423800e+04  1.433700e+04   \n",
       "mean    1.345825e+09  1.350501e+09     1.340854e+09  1.350205e+09   \n",
       "std     2.404107e+07  2.401299e+07     8.750386e+07  2.398787e+07   \n",
       "min     1.170332e+09  1.170824e+09     0.000000e+00  1.170819e+09   \n",
       "25%     1.329754e+09  1.333789e+09     1.329499e+09  1.333406e+09   \n",
       "50%     1.351043e+09  1.355373e+09     1.351099e+09  1.355000e+09   \n",
       "75%     1.365346e+09  1.370214e+09     1.365478e+09  1.370048e+09   \n",
       "max     1.382012e+09  1.523056e+09     1.381608e+09  1.418850e+09   \n",
       "\n",
       "       fb_published            gts       ...         org_facebook  \\\n",
       "count  14337.000000   14337.000000       ...         14278.000000   \n",
       "mean       0.127433    2430.231492       ...             7.974436   \n",
       "std        0.333468    9142.308260       ...            11.761241   \n",
       "min        0.000000       0.000000       ...             0.000000   \n",
       "25%        0.000000     116.410000       ...             0.000000   \n",
       "50%        0.000000     431.930000       ...             0.000000   \n",
       "75%        0.000000    1547.260000       ...            14.000000   \n",
       "max        1.000000  306293.930000       ...            91.000000   \n",
       "\n",
       "        org_twitter  sale_duration  sale_duration2      show_map  \\\n",
       "count  14278.000000   14182.000000    14337.000000  14337.000000   \n",
       "mean       4.306976      46.869694       50.576759      0.844179   \n",
       "std        6.011520      54.825253       59.678090      0.362698   \n",
       "min        0.000000   -1094.000000    -1094.000000      0.000000   \n",
       "25%        0.000000      16.000000       17.000000      1.000000   \n",
       "50%        0.000000      32.000000       35.000000      1.000000   \n",
       "75%       11.000000      59.000000       63.000000      1.000000   \n",
       "max       34.000000     980.000000      980.000000      1.000000   \n",
       "\n",
       "           user_age  user_created     user_type  venue_latitude  \\\n",
       "count  14337.000000  1.433700e+04  14337.000000    13261.000000   \n",
       "mean     374.226547  1.313492e+09      2.711097       35.221736   \n",
       "std      418.593616  4.152174e+07      1.606726       20.207588   \n",
       "min        0.000000  1.011210e+09      1.000000      -45.045208   \n",
       "25%       13.000000  1.286824e+09      1.000000       33.959338   \n",
       "50%      242.000000  1.316636e+09      3.000000       39.974104   \n",
       "75%      603.000000  1.346790e+09      3.000000       44.857040   \n",
       "max     3794.000000  1.381543e+09    103.000000       64.844022   \n",
       "\n",
       "       venue_longitude  \n",
       "count     13261.000000  \n",
       "mean        -59.490368  \n",
       "std          66.569034  \n",
       "min        -159.390183  \n",
       "25%         -96.957828  \n",
       "50%         -79.425579  \n",
       "75%          -3.187449  \n",
       "max         176.169492  \n",
       "\n",
       "[8 rows x 27 columns]"
      ]
     },
     "execution_count": 263,
     "metadata": {},
     "output_type": "execute_result"
    }
   ],
   "source": [
    "df.describe()"
   ]
  },
  {
   "cell_type": "code",
   "execution_count": 264,
   "metadata": {},
   "outputs": [
    {
     "name": "stdout",
     "output_type": "stream",
     "text": [
      "<class 'pandas.core.frame.DataFrame'>\n",
      "Int64Index: 14337 entries, 0 to 14336\n",
      "Data columns (total 44 columns):\n",
      "acct_type             14337 non-null object\n",
      "approx_payout_date    14337 non-null int64\n",
      "body_length           14337 non-null int64\n",
      "channels              14337 non-null int64\n",
      "country               14256 non-null object\n",
      "currency              14337 non-null object\n",
      "delivery_method       14321 non-null float64\n",
      "description           14337 non-null object\n",
      "email_domain          14337 non-null object\n",
      "event_created         14337 non-null int64\n",
      "event_end             14337 non-null int64\n",
      "event_published       14238 non-null float64\n",
      "event_start           14337 non-null int64\n",
      "fb_published          14337 non-null int64\n",
      "gts                   14337 non-null float64\n",
      "has_analytics         14337 non-null int64\n",
      "has_header            8928 non-null float64\n",
      "has_logo              14337 non-null int64\n",
      "listed                14337 non-null object\n",
      "name                  14337 non-null object\n",
      "name_length           14337 non-null int64\n",
      "num_order             14337 non-null int64\n",
      "num_payouts           14337 non-null int64\n",
      "object_id             14337 non-null int64\n",
      "org_desc              14337 non-null object\n",
      "org_facebook          14278 non-null float64\n",
      "org_name              14337 non-null object\n",
      "org_twitter           14278 non-null float64\n",
      "payee_name            14337 non-null object\n",
      "payout_type           14337 non-null object\n",
      "previous_payouts      14337 non-null object\n",
      "sale_duration         14182 non-null float64\n",
      "sale_duration2        14337 non-null int64\n",
      "show_map              14337 non-null int64\n",
      "ticket_types          14337 non-null object\n",
      "user_age              14337 non-null int64\n",
      "user_created          14337 non-null int64\n",
      "user_type             14337 non-null int64\n",
      "venue_address         14337 non-null object\n",
      "venue_country         13261 non-null object\n",
      "venue_latitude        13261 non-null float64\n",
      "venue_longitude       13261 non-null float64\n",
      "venue_name            13261 non-null object\n",
      "venue_state           13261 non-null object\n",
      "dtypes: float64(9), int64(18), object(17)\n",
      "memory usage: 4.9+ MB\n"
     ]
    }
   ],
   "source": [
    "df.info()"
   ]
  },
  {
   "cell_type": "code",
   "execution_count": 265,
   "metadata": {},
   "outputs": [
    {
     "data": {
      "text/plain": [
       "premium             12373\n",
       "fraudster_event       851\n",
       "fraudster             437\n",
       "spammer_limited       218\n",
       "spammer_warn          144\n",
       "tos_warn               91\n",
       "spammer_noinvite       84\n",
       "tos_lock               77\n",
       "locked                 54\n",
       "fraudster_att           5\n",
       "spammer_web             2\n",
       "spammer                 1\n",
       "Name: acct_type, dtype: int64"
      ]
     },
     "execution_count": 265,
     "metadata": {},
     "output_type": "execute_result"
    }
   ],
   "source": [
    "df['acct_type'].value_counts() "
   ]
  },
  {
   "cell_type": "code",
   "execution_count": 266,
   "metadata": {},
   "outputs": [
    {
     "data": {
      "text/plain": [
       "array(['fraudster_event', 'premium', 'spammer_warn', 'fraudster',\n",
       "       'spammer_limited', 'spammer_noinvite', 'locked', 'tos_lock',\n",
       "       'tos_warn', 'fraudster_att', 'spammer_web', 'spammer'],\n",
       "      dtype=object)"
      ]
     },
     "execution_count": 266,
     "metadata": {},
     "output_type": "execute_result"
    }
   ],
   "source": [
    "df['acct_type'].unique()"
   ]
  },
  {
   "cell_type": "code",
   "execution_count": 267,
   "metadata": {},
   "outputs": [],
   "source": [
    "df['fraud_no_fraud'] = df['acct_type'].astype(str).str[:5] == 'fraud'"
   ]
  },
  {
   "cell_type": "code",
   "execution_count": 268,
   "metadata": {},
   "outputs": [
    {
     "data": {
      "text/plain": [
       "'Total number of Frauds: 1293'"
      ]
     },
     "execution_count": 268,
     "metadata": {},
     "output_type": "execute_result"
    }
   ],
   "source": [
    "\"Total number of Frauds: {}\".format(len(df[df['fraud_no_fraud']==True]))"
   ]
  },
  {
   "cell_type": "code",
   "execution_count": 269,
   "metadata": {},
   "outputs": [
    {
     "data": {
      "text/plain": [
       "'Percentage of Fraud from all Events: 0.09018623142916929'"
      ]
     },
     "execution_count": 269,
     "metadata": {},
     "output_type": "execute_result"
    }
   ],
   "source": [
    "\"Percentage of Fraud from all Events: {}\".format((len(df[df['fraud_no_fraud']==True]))/len(df))"
   ]
  },
  {
   "cell_type": "code",
   "execution_count": 270,
   "metadata": {},
   "outputs": [
    {
     "data": {
      "text/html": [
       "<p><a href=\"http://s432.photobucket.com/albums/qq49/digusonline/?action=view&amp;current=supersunday.jpg\" target=\"_blank\"><img src=\"http://i432.photobucket.com/albums/qq49/digusonline/supersunday.jpg\" border=\"0\" alt=\"Photobucket\" /></a></p>\r\n",
       "<p> </p>\r\n",
       "<p style=\"text-align: center;\"><font size=\"3\"><strong>Party Starz Entertaintment &amp; Diverse International Group Presents...<br /></strong></font><br /><font face=\"tahoma,arial,helvetica,sans-serif\" size=\"4\"><strong>The Official \"99 Hour No Sleep\" Super Bowl </strong></font></p>\r\n",
       "<p style=\"text-align: center;\"><font face=\"tahoma,arial,helvetica,sans-serif\" size=\"4\"><strong>Weekend </strong></font><font face=\"tahoma,arial,helvetica,sans-serif\" size=\"4\"><strong>Grand Finale</strong></font></p>\r\n",
       "<p><br /><span style=\"font-family: Times New Roman,serif;\"><font size=\"3\"><font face=\"tahoma,arial,helvetica,sans-serif\">No matter who wins or loses, this post-game party cannot be missed! Enjoy the drink specials and all night music!<strong> </strong></font></font><span style=\"font-family: Times New Roman,serif;\"><font face=\"tahoma,arial,helvetica,sans-serif\" size=\"3\">The ultimate \"99 No Sleep\" Super Bowl Weekend Grand Finale! Sunday, February 7th, 2010 @ Ink Nightclub-South Beach (717 Washington Ave, Miami Bch, FL 33139).</font></span></span></p>\r\n",
       "<p><span style=\"font-family: Times New Roman,serif;\"><span style=\"font-family: Times New Roman,serif;\"><font face=\"tahoma,arial,helvetica,sans-serif\" size=\"3\">Hosted by 99 Jamz with special appearances by Fast Life Youngstaz. Special invited guests: Billy Blue, Dorrough and Brisco and with performances by various artist's and many many more at South Beach Miami's finest venue! This is a party you have to see to believe! This is everyone's last chance to make that impression, so don't half-step, bring your \"A\" game and party with all of the hottest artists, celebrities, models and superstar athletes that are guaranteed to be in the building!</font></span></span></p>\r\n",
       "<p><span style=\"font-family: Times New Roman,serif;\"><font size=\"3\"><span style=\"font-family: Times New Roman,serif;\"><font face=\"tahoma,arial,helvetica,sans-serif\">DJ Q &amp; DJ Slym will ber keepig the party jumping til the sun comes up with the hottest Hip-Hop, R&amp;B, Reggae, Old School and more. </font></span></font></span></p>\r\n",
       "<p><span style=\"font-family: Times New Roman,serif;\"><font size=\"3\"><span style=\"font-family: Times New Roman,serif;\"><font face=\"tahoma,arial,helvetica,sans-serif\">Doors open @ 10pm. Ladies are 18+ and 21+ for Gents. 2-4-1 drinks until 1am, plus the best bottle specials ALL NIGHT LONG!!! We're offering Super Bowl game ticket stub discounts all night!</font></span></font></span></p>\r\n",
       "<p><span style=\"font-family: Times New Roman,serif;\"><font size=\"3\"><span style=\"font-family: Times New Roman,serif;\"><font face=\"tahoma,arial,helvetica,sans-serif\">Dress code is enforced, but it's not what you wear but how you wear it! All-Night Drink Specials! For more information &amp; table reservations email</font></span></font></span><span style=\"font-family: Times New Roman,serif;\"><font size=\"3\"><span style=\"font-family: Times New Roman,serif;\"><font face=\"tahoma,arial,helvetica,sans-serif\">: <a href=\"mailto:99hrnosleepweekend@gmail.com\">99hrnosleepweekend@gmail.com</a> or 305.742.4880.</font></span></font></span></p>\r\n",
       "<p><span style=\"font-family: Times New Roman,serif;\"></span></p>\r\n",
       "<p> </p>\r\n",
       "<p style=\"text-align: center;\"><span style=\"font-family: Times New Roman,serif;\"><font size=\"3\"><span style=\"font-family: Times New Roman,serif;\"><font face=\"tahoma,arial,helvetica,sans-serif\">This is a 99 Hour No Sleep Celebrity Super Bowl Weekend event! <a \r\n",
       "<p> </p>"
      ],
      "text/plain": [
       "<IPython.core.display.HTML object>"
      ]
     },
     "execution_count": 270,
     "metadata": {},
     "output_type": "execute_result"
    }
   ],
   "source": [
    "#Read HTML from description column\n",
    "sample = df.iloc[0]\n",
    "HTML(sample['description'])"
   ]
  },
  {
   "cell_type": "markdown",
   "metadata": {},
   "source": [
    "# Datetime Conversion"
   ]
  },
  {
   "cell_type": "code",
   "execution_count": 271,
   "metadata": {
    "collapsed": true
   },
   "outputs": [],
   "source": [
    "#dates?\n",
    "# event_created         14337 non-null int64\n",
    "# event_end             14337 non-null int64\n",
    "# event_published       14238 non-null float64\n",
    "# event_start           14337 non-null int64\n",
    "# user_created          14337 non-null int64\n",
    "#convert epoch time to date time stamp\n",
    "df['approx_payout_date']=df['approx_payout_date'].astype(\"datetime64[s]\")\n",
    "df['event_created']=df['event_created'].astype(\"datetime64[s]\")\n",
    "df['event_end']=df['event_end'].astype(\"datetime64[s]\")\n",
    "df['event_published']=df['event_published'].astype(\"datetime64[s]\")\n",
    "df['event_start']=df['event_start'].astype(\"datetime64[s]\")\n",
    "df['user_created']=df['user_created'].astype(\"datetime64[s]\")"
   ]
  },
  {
   "cell_type": "code",
   "execution_count": 272,
   "metadata": {},
   "outputs": [
    {
     "data": {
      "text/plain": [
       "0   2009-11-30 20:45:50\n",
       "1   2010-08-04 17:26:16\n",
       "2   2010-04-29 16:43:08\n",
       "3   2010-09-07 14:35:02\n",
       "4   2010-11-05 19:07:45\n",
       "Name: user_created, dtype: datetime64[ns]"
      ]
     },
     "execution_count": 272,
     "metadata": {},
     "output_type": "execute_result"
    }
   ],
   "source": [
    "df['user_created'].head(5)"
   ]
  },
  {
   "cell_type": "code",
   "execution_count": 273,
   "metadata": {},
   "outputs": [
    {
     "data": {
      "text/plain": [
       "0   2010-02-13 12:00:00\n",
       "1   2011-02-03 08:00:00\n",
       "2   2011-01-28 00:00:00\n",
       "3   2014-01-06 00:00:00\n",
       "4   2011-02-17 00:00:00\n",
       "Name: approx_payout_date, dtype: datetime64[ns]"
      ]
     },
     "execution_count": 273,
     "metadata": {},
     "output_type": "execute_result"
    }
   ],
   "source": [
    "df['approx_payout_date'].head(5)"
   ]
  },
  {
   "cell_type": "code",
   "execution_count": 274,
   "metadata": {
    "collapsed": true
   },
   "outputs": [],
   "source": [
    "#df[event_delta] is the difference in time when event was created and published\n",
    "df['event_delta']=df['event_published']-df['event_created']"
   ]
  },
  {
   "cell_type": "code",
   "execution_count": 275,
   "metadata": {},
   "outputs": [
    {
     "data": {
      "text/plain": [
       "0   4 days 06:48:52\n",
       "1   0 days 00:10:25\n",
       "2   0 days 00:15:52\n",
       "3   0 days 00:31:16\n",
       "4   0 days 00:05:00\n",
       "Name: event_delta, dtype: timedelta64[ns]"
      ]
     },
     "execution_count": 275,
     "metadata": {},
     "output_type": "execute_result"
    }
   ],
   "source": [
    "df['event_delta'].head(5)"
   ]
  },
  {
   "cell_type": "code",
   "execution_count": 276,
   "metadata": {
    "collapsed": true
   },
   "outputs": [],
   "source": [
    "#df[user_delta] is the difference in time between when the event_created and when the user_created\n",
    "df['user_delta']=df['event_created']-df['user_created']"
   ]
  },
  {
   "cell_type": "code",
   "execution_count": 277,
   "metadata": {},
   "outputs": [
    {
     "data": {
      "text/plain": [
       "0    36 days 04:15:56\n",
       "1   149 days 04:31:34\n",
       "2   214 days 11:39:28\n",
       "3   889 days 00:31:08\n",
       "4    34 days 20:16:41\n",
       "Name: user_delta, dtype: timedelta64[ns]"
      ]
     },
     "execution_count": 277,
     "metadata": {},
     "output_type": "execute_result"
    }
   ],
   "source": [
    "df['user_delta'].head(5)"
   ]
  },
  {
   "cell_type": "code",
   "execution_count": 278,
   "metadata": {},
   "outputs": [
    {
     "data": {
      "text/plain": [
       "count                        14238\n",
       "mean     -58 days +11:06:46.803905\n",
       "std       977 days 14:23:43.952691\n",
       "min          -15981 days +12:11:31\n",
       "25%         0 days 00:05:58.250000\n",
       "50%         0 days 00:21:36.500000\n",
       "75%         0 days 06:49:56.500000\n",
       "max              600 days 20:30:38\n",
       "Name: event_delta, dtype: object"
      ]
     },
     "execution_count": 278,
     "metadata": {},
     "output_type": "execute_result"
    }
   ],
   "source": [
    "df['event_delta'].describe()"
   ]
  },
  {
   "cell_type": "code",
   "execution_count": 279,
   "metadata": {},
   "outputs": [
    {
     "data": {
      "text/plain": [
       "count                       14337\n",
       "mean     374 days 05:25:26.838878\n",
       "std      418 days 14:17:39.638202\n",
       "min               0 days 00:00:00\n",
       "25%              12 days 20:37:38\n",
       "50%             241 days 22:35:42\n",
       "75%             602 days 23:04:46\n",
       "max            3793 days 22:14:30\n",
       "Name: user_delta, dtype: object"
      ]
     },
     "execution_count": 279,
     "metadata": {},
     "output_type": "execute_result"
    }
   ],
   "source": [
    "df['user_delta'].describe()"
   ]
  },
  {
   "cell_type": "markdown",
   "metadata": {},
   "source": [
    "# Total Fraud/No Fraud Histogram/Count based on Hours"
   ]
  },
  {
   "cell_type": "code",
   "execution_count": 280,
   "metadata": {},
   "outputs": [],
   "source": [
    "df['user_hour_delta']=df['user_delta'] / np.timedelta64(1, 'h')"
   ]
  },
  {
   "cell_type": "code",
   "execution_count": 281,
   "metadata": {},
   "outputs": [
    {
     "data": {
      "text/plain": [
       "Text(0,0.5,'Count of Fraud/No Fraud')"
      ]
     },
     "execution_count": 281,
     "metadata": {},
     "output_type": "execute_result"
    },
    {
     "data": {
      "image/png": "[encoded data removed]",
      "text/plain": [
       "<matplotlib.figure.Figure at 0x7fec732ba6a0>"
      ]
     },
     "metadata": {},
     "output_type": "display_data"
    }
   ],
   "source": [
    "df['user_hour_delta'].hist(figsize=(10,5),bins=10, range=[0,100])\n",
    "plt.title(\"Total Fraud/No Fraud Based on Time between when a user_created & event_created\")\n",
    "plt.xlabel(\"Hours between user_created & event_created\")\n",
    "plt.ylabel(\"Count of Fraud/No Fraud\")"
   ]
  },
  {
   "cell_type": "code",
   "execution_count": 282,
   "metadata": {},
   "outputs": [],
   "source": [
    "df['event_hour_delta']=df['event_delta'] / np.timedelta64(1, 'h')"
   ]
  },
  {
   "cell_type": "code",
   "execution_count": 283,
   "metadata": {},
   "outputs": [],
   "source": [
    "df['event_min_delta']=df['event_hour_delta']*60"
   ]
  },
  {
   "cell_type": "code",
   "execution_count": 338,
   "metadata": {},
   "outputs": [
    {
     "data": {
      "text/plain": [
       "6168.866666666667"
      ]
     },
     "execution_count": 338,
     "metadata": {},
     "output_type": "execute_result"
    }
   ],
   "source": [
    "df['event_min_delta'][0]"
   ]
  },
  {
   "cell_type": "code",
   "execution_count": 315,
   "metadata": {},
   "outputs": [
    {
     "data": {
      "text/plain": [
       "0    6168.866667\n",
       "1      10.416667\n",
       "2      15.866667\n",
       "3      31.266667\n",
       "4       5.000000\n",
       "Name: event_min_delta, dtype: float64"
      ]
     },
     "execution_count": 315,
     "metadata": {},
     "output_type": "execute_result"
    }
   ],
   "source": [
    "df['event_min_delta'].head(5)"
   ]
  },
  {
   "cell_type": "code",
   "execution_count": 285,
   "metadata": {},
   "outputs": [
    {
     "data": {
      "text/plain": [
       "Text(0,0.5,'Count of Fraud/No Fraud')"
      ]
     },
     "execution_count": 285,
     "metadata": {},
     "output_type": "execute_result"
    },
    {
     "data": {
      "image/png": "[encoded data removed]",
      "text/plain": [
       "<matplotlib.figure.Figure at 0x7fec73571160>"
      ]
     },
     "metadata": {},
     "output_type": "display_data"
    }
   ],
   "source": [
    "df['event_hour_delta'].hist(figsize=(10,5),bins=10, range=[0,100])\n",
    "plt.title(\"Total Fraud/No Fraud Based on Time between an event_created & event_published\")\n",
    "plt.xlabel(\"Hours between event_created & event_published\")\n",
    "plt.ylabel(\"Count of Fraud/No Fraud\")"
   ]
  },
  {
   "cell_type": "code",
   "execution_count": 286,
   "metadata": {},
   "outputs": [
    {
     "data": {
      "text/html": [
       "<div>\n",
       "<style>\n",
       "    .dataframe thead tr:only-child th {\n",
       "        text-align: right;\n",
       "    }\n",
       "\n",
       "    .dataframe thead th {\n",
       "        text-align: left;\n",
       "    }\n",
       "\n",
       "    .dataframe tbody tr th {\n",
       "        vertical-align: top;\n",
       "    }\n",
       "</style>\n",
       "<table border=\"1\" class=\"dataframe\">\n",
       "  <thead>\n",
       "    <tr style=\"text-align: right;\">\n",
       "      <th></th>\n",
       "      <th>acct_type</th>\n",
       "      <th>approx_payout_date</th>\n",
       "      <th>body_length</th>\n",
       "      <th>channels</th>\n",
       "      <th>country</th>\n",
       "      <th>currency</th>\n",
       "      <th>delivery_method</th>\n",
       "      <th>description</th>\n",
       "      <th>email_domain</th>\n",
       "      <th>event_created</th>\n",
       "      <th>...</th>\n",
       "      <th>venue_latitude</th>\n",
       "      <th>venue_longitude</th>\n",
       "      <th>venue_name</th>\n",
       "      <th>venue_state</th>\n",
       "      <th>fraud_no_fraud</th>\n",
       "      <th>event_delta</th>\n",
       "      <th>user_delta</th>\n",
       "      <th>user_hour_delta</th>\n",
       "      <th>event_hour_delta</th>\n",
       "      <th>event_min_delta</th>\n",
       "    </tr>\n",
       "  </thead>\n",
       "  <tbody>\n",
       "    <tr>\n",
       "      <th>0</th>\n",
       "      <td>fraudster_event</td>\n",
       "      <td>2010-02-13 12:00:00</td>\n",
       "      <td>3852</td>\n",
       "      <td>5</td>\n",
       "      <td>US</td>\n",
       "      <td>USD</td>\n",
       "      <td>0.0</td>\n",
       "      <td>&lt;p&gt;&lt;a href=\"http://s432.photobucket.com/albums...</td>\n",
       "      <td>gmail.com</td>\n",
       "      <td>2010-01-06 01:01:46</td>\n",
       "      <td>...</td>\n",
       "      <td>25.777471</td>\n",
       "      <td>-80.133433</td>\n",
       "      <td>INK Nightclub - South Beach</td>\n",
       "      <td>FL</td>\n",
       "      <td>True</td>\n",
       "      <td>4 days 06:48:52</td>\n",
       "      <td>36 days 04:15:56</td>\n",
       "      <td>868.265556</td>\n",
       "      <td>102.814444</td>\n",
       "      <td>6168.866667</td>\n",
       "    </tr>\n",
       "    <tr>\n",
       "      <th>1</th>\n",
       "      <td>premium</td>\n",
       "      <td>2011-02-03 08:00:00</td>\n",
       "      <td>3499</td>\n",
       "      <td>0</td>\n",
       "      <td>US</td>\n",
       "      <td>USD</td>\n",
       "      <td>1.0</td>\n",
       "      <td>&lt;p&gt;Join us for a quick, one-night, community-b...</td>\n",
       "      <td>ruf.org</td>\n",
       "      <td>2010-12-31 21:57:50</td>\n",
       "      <td>...</td>\n",
       "      <td>32.776566</td>\n",
       "      <td>-79.930922</td>\n",
       "      <td>The Charleston, SC area</td>\n",
       "      <td>SC</td>\n",
       "      <td>False</td>\n",
       "      <td>0 days 00:10:25</td>\n",
       "      <td>149 days 04:31:34</td>\n",
       "      <td>3580.526111</td>\n",
       "      <td>0.173611</td>\n",
       "      <td>10.416667</td>\n",
       "    </tr>\n",
       "    <tr>\n",
       "      <th>2</th>\n",
       "      <td>premium</td>\n",
       "      <td>2011-01-28 00:00:00</td>\n",
       "      <td>2601</td>\n",
       "      <td>8</td>\n",
       "      <td>US</td>\n",
       "      <td>USD</td>\n",
       "      <td>1.0</td>\n",
       "      <td>&lt;h3&gt;&lt;span class=\"subcategory\"&gt;&lt;strong&gt;Teacher ...</td>\n",
       "      <td>pvsd.k12.ca.us</td>\n",
       "      <td>2010-11-30 04:22:36</td>\n",
       "      <td>...</td>\n",
       "      <td>33.944201</td>\n",
       "      <td>-118.080419</td>\n",
       "      <td>Los Angeles County Office of Education</td>\n",
       "      <td>CA</td>\n",
       "      <td>False</td>\n",
       "      <td>0 days 00:15:52</td>\n",
       "      <td>214 days 11:39:28</td>\n",
       "      <td>5147.657778</td>\n",
       "      <td>0.264444</td>\n",
       "      <td>15.866667</td>\n",
       "    </tr>\n",
       "    <tr>\n",
       "      <th>3</th>\n",
       "      <td>premium</td>\n",
       "      <td>2014-01-06 00:00:00</td>\n",
       "      <td>12347</td>\n",
       "      <td>6</td>\n",
       "      <td>IE</td>\n",
       "      <td>EUR</td>\n",
       "      <td>1.0</td>\n",
       "      <td>&lt;p style=\"margin-bottom: 1.3em; padding-bottom...</td>\n",
       "      <td>irishtabletennis.com</td>\n",
       "      <td>2013-02-12 15:06:10</td>\n",
       "      <td>...</td>\n",
       "      <td>NaN</td>\n",
       "      <td>NaN</td>\n",
       "      <td>None</td>\n",
       "      <td>None</td>\n",
       "      <td>False</td>\n",
       "      <td>0 days 00:31:16</td>\n",
       "      <td>889 days 00:31:08</td>\n",
       "      <td>21336.518889</td>\n",
       "      <td>0.521111</td>\n",
       "      <td>31.266667</td>\n",
       "    </tr>\n",
       "    <tr>\n",
       "      <th>4</th>\n",
       "      <td>premium</td>\n",
       "      <td>2011-02-17 00:00:00</td>\n",
       "      <td>2417</td>\n",
       "      <td>11</td>\n",
       "      <td>US</td>\n",
       "      <td>USD</td>\n",
       "      <td>0.0</td>\n",
       "      <td>&lt;p&gt;Writers and filmmakers need to understand t...</td>\n",
       "      <td>artsandbusinesscouncil.org</td>\n",
       "      <td>2010-12-10 15:24:26</td>\n",
       "      <td>...</td>\n",
       "      <td>42.353848</td>\n",
       "      <td>-71.044276</td>\n",
       "      <td>Fish &amp; Richardson</td>\n",
       "      <td>MA</td>\n",
       "      <td>False</td>\n",
       "      <td>0 days 00:05:00</td>\n",
       "      <td>34 days 20:16:41</td>\n",
       "      <td>836.278056</td>\n",
       "      <td>0.083333</td>\n",
       "      <td>5.000000</td>\n",
       "    </tr>\n",
       "  </tbody>\n",
       "</table>\n",
       "<p>5 rows × 50 columns</p>\n",
       "</div>"
      ],
      "text/plain": [
       "         acct_type  approx_payout_date  body_length  channels country  \\\n",
       "0  fraudster_event 2010-02-13 12:00:00         3852         5      US   \n",
       "1          premium 2011-02-03 08:00:00         3499         0      US   \n",
       "2          premium 2011-01-28 00:00:00         2601         8      US   \n",
       "3          premium 2014-01-06 00:00:00        12347         6      IE   \n",
       "4          premium 2011-02-17 00:00:00         2417        11      US   \n",
       "\n",
       "  currency  delivery_method  \\\n",
       "0      USD              0.0   \n",
       "1      USD              1.0   \n",
       "2      USD              1.0   \n",
       "3      EUR              1.0   \n",
       "4      USD              0.0   \n",
       "\n",
       "                                         description  \\\n",
       "0  <p><a href=\"http://s432.photobucket.com/albums...   \n",
       "1  <p>Join us for a quick, one-night, community-b...   \n",
       "2  <h3><span class=\"subcategory\"><strong>Teacher ...   \n",
       "3  <p style=\"margin-bottom: 1.3em; padding-bottom...   \n",
       "4  <p>Writers and filmmakers need to understand t...   \n",
       "\n",
       "                 email_domain       event_created       ...        \\\n",
       "0                   gmail.com 2010-01-06 01:01:46       ...         \n",
       "1                     ruf.org 2010-12-31 21:57:50       ...         \n",
       "2              pvsd.k12.ca.us 2010-11-30 04:22:36       ...         \n",
       "3        irishtabletennis.com 2013-02-12 15:06:10       ...         \n",
       "4  artsandbusinesscouncil.org 2010-12-10 15:24:26       ...         \n",
       "\n",
       "  venue_latitude venue_longitude                              venue_name  \\\n",
       "0      25.777471      -80.133433             INK Nightclub - South Beach   \n",
       "1      32.776566      -79.930922                 The Charleston, SC area   \n",
       "2      33.944201     -118.080419  Los Angeles County Office of Education   \n",
       "3            NaN             NaN                                    None   \n",
       "4      42.353848      -71.044276                       Fish & Richardson   \n",
       "\n",
       "   venue_state  fraud_no_fraud     event_delta        user_delta  \\\n",
       "0           FL            True 4 days 06:48:52  36 days 04:15:56   \n",
       "1           SC           False 0 days 00:10:25 149 days 04:31:34   \n",
       "2           CA           False 0 days 00:15:52 214 days 11:39:28   \n",
       "3         None           False 0 days 00:31:16 889 days 00:31:08   \n",
       "4           MA           False 0 days 00:05:00  34 days 20:16:41   \n",
       "\n",
       "   user_hour_delta event_hour_delta event_min_delta  \n",
       "0       868.265556       102.814444     6168.866667  \n",
       "1      3580.526111         0.173611       10.416667  \n",
       "2      5147.657778         0.264444       15.866667  \n",
       "3     21336.518889         0.521111       31.266667  \n",
       "4       836.278056         0.083333        5.000000  \n",
       "\n",
       "[5 rows x 50 columns]"
      ]
     },
     "execution_count": 286,
     "metadata": {},
     "output_type": "execute_result"
    }
   ],
   "source": [
    "df.head(5)"
   ]
  },
  {
   "cell_type": "markdown",
   "metadata": {},
   "source": [
    "# Fraud Histogram/Count based on Hours"
   ]
  },
  {
   "cell_type": "code",
   "execution_count": 287,
   "metadata": {},
   "outputs": [],
   "source": [
    "df_fraud=df[df['fraud_no_fraud']==True]"
   ]
  },
  {
   "cell_type": "code",
   "execution_count": 288,
   "metadata": {},
   "outputs": [
    {
     "data": {
      "text/html": [
       "<div>\n",
       "<style>\n",
       "    .dataframe thead tr:only-child th {\n",
       "        text-align: right;\n",
       "    }\n",
       "\n",
       "    .dataframe thead th {\n",
       "        text-align: left;\n",
       "    }\n",
       "\n",
       "    .dataframe tbody tr th {\n",
       "        vertical-align: top;\n",
       "    }\n",
       "</style>\n",
       "<table border=\"1\" class=\"dataframe\">\n",
       "  <thead>\n",
       "    <tr style=\"text-align: right;\">\n",
       "      <th></th>\n",
       "      <th>acct_type</th>\n",
       "      <th>approx_payout_date</th>\n",
       "      <th>body_length</th>\n",
       "      <th>channels</th>\n",
       "      <th>country</th>\n",
       "      <th>currency</th>\n",
       "      <th>delivery_method</th>\n",
       "      <th>description</th>\n",
       "      <th>email_domain</th>\n",
       "      <th>event_created</th>\n",
       "      <th>...</th>\n",
       "      <th>venue_latitude</th>\n",
       "      <th>venue_longitude</th>\n",
       "      <th>venue_name</th>\n",
       "      <th>venue_state</th>\n",
       "      <th>fraud_no_fraud</th>\n",
       "      <th>event_delta</th>\n",
       "      <th>user_delta</th>\n",
       "      <th>user_hour_delta</th>\n",
       "      <th>event_hour_delta</th>\n",
       "      <th>event_min_delta</th>\n",
       "    </tr>\n",
       "  </thead>\n",
       "  <tbody>\n",
       "    <tr>\n",
       "      <th>0</th>\n",
       "      <td>fraudster_event</td>\n",
       "      <td>2010-02-13 12:00:00</td>\n",
       "      <td>3852</td>\n",
       "      <td>5</td>\n",
       "      <td>US</td>\n",
       "      <td>USD</td>\n",
       "      <td>0.0</td>\n",
       "      <td>&lt;p&gt;&lt;a href=\"http://s432.photobucket.com/albums...</td>\n",
       "      <td>gmail.com</td>\n",
       "      <td>2010-01-06 01:01:46</td>\n",
       "      <td>...</td>\n",
       "      <td>25.777471</td>\n",
       "      <td>-80.133433</td>\n",
       "      <td>INK Nightclub - South Beach</td>\n",
       "      <td>FL</td>\n",
       "      <td>True</td>\n",
       "      <td>4 days 06:48:52</td>\n",
       "      <td>36 days 04:15:56</td>\n",
       "      <td>868.265556</td>\n",
       "      <td>102.814444</td>\n",
       "      <td>6168.866667</td>\n",
       "    </tr>\n",
       "    <tr>\n",
       "      <th>26</th>\n",
       "      <td>fraudster</td>\n",
       "      <td>2011-03-08 18:00:00</td>\n",
       "      <td>870</td>\n",
       "      <td>11</td>\n",
       "      <td>US</td>\n",
       "      <td>USD</td>\n",
       "      <td>0.0</td>\n",
       "      <td>&lt;h1 class=\"post\"&gt;Welcome&lt;/h1&gt;\\r\\n&lt;p&gt; &lt;/p&gt;\\r\\n&lt;...</td>\n",
       "      <td>hotmail.com</td>\n",
       "      <td>2011-03-03 16:56:56</td>\n",
       "      <td>...</td>\n",
       "      <td>40.750228</td>\n",
       "      <td>-73.983714</td>\n",
       "      <td>The Setai</td>\n",
       "      <td>NY</td>\n",
       "      <td>True</td>\n",
       "      <td>0 days 00:01:22</td>\n",
       "      <td>41 days 14:30:39</td>\n",
       "      <td>998.510833</td>\n",
       "      <td>0.022778</td>\n",
       "      <td>1.366667</td>\n",
       "    </tr>\n",
       "    <tr>\n",
       "      <th>51</th>\n",
       "      <td>fraudster_event</td>\n",
       "      <td>2012-02-17 08:00:00</td>\n",
       "      <td>536</td>\n",
       "      <td>6</td>\n",
       "      <td>US</td>\n",
       "      <td>USD</td>\n",
       "      <td>0.0</td>\n",
       "      <td>&lt;p&gt;&lt;span style=\"font-size: x-large;\"&gt;Okay ever...</td>\n",
       "      <td>cox.net</td>\n",
       "      <td>2011-10-02 08:38:16</td>\n",
       "      <td>...</td>\n",
       "      <td>32.702072</td>\n",
       "      <td>-117.085088</td>\n",
       "      <td>The Jacobs Center at Market Creek</td>\n",
       "      <td>CA</td>\n",
       "      <td>True</td>\n",
       "      <td>0 days 00:09:15</td>\n",
       "      <td>76 days 05:38:22</td>\n",
       "      <td>1829.639444</td>\n",
       "      <td>0.154167</td>\n",
       "      <td>9.250000</td>\n",
       "    </tr>\n",
       "    <tr>\n",
       "      <th>54</th>\n",
       "      <td>fraudster</td>\n",
       "      <td>2011-08-08 00:00:00</td>\n",
       "      <td>3081</td>\n",
       "      <td>11</td>\n",
       "      <td></td>\n",
       "      <td>GBP</td>\n",
       "      <td>0.0</td>\n",
       "      <td>&lt;h3&gt;&lt;strong&gt;&lt;strong&gt;&lt;span style=\"font-family: ...</td>\n",
       "      <td>hotmail.co.uk</td>\n",
       "      <td>2011-07-26 21:50:51</td>\n",
       "      <td>...</td>\n",
       "      <td>0.000000</td>\n",
       "      <td>0.000000</td>\n",
       "      <td>Olympia Exhibition Hall</td>\n",
       "      <td></td>\n",
       "      <td>True</td>\n",
       "      <td>0 days 01:01:05</td>\n",
       "      <td>0 days 00:00:01</td>\n",
       "      <td>0.000278</td>\n",
       "      <td>1.018056</td>\n",
       "      <td>61.083333</td>\n",
       "    </tr>\n",
       "    <tr>\n",
       "      <th>70</th>\n",
       "      <td>fraudster</td>\n",
       "      <td>2011-12-03 07:00:00</td>\n",
       "      <td>0</td>\n",
       "      <td>13</td>\n",
       "      <td>US</td>\n",
       "      <td>USD</td>\n",
       "      <td>0.0</td>\n",
       "      <td></td>\n",
       "      <td>yahoo.com</td>\n",
       "      <td>2011-09-23 16:39:02</td>\n",
       "      <td>...</td>\n",
       "      <td>39.308752</td>\n",
       "      <td>-76.716174</td>\n",
       "      <td></td>\n",
       "      <td>MD</td>\n",
       "      <td>True</td>\n",
       "      <td>45 days 03:52:32</td>\n",
       "      <td>0 days 00:07:36</td>\n",
       "      <td>0.126667</td>\n",
       "      <td>1083.875556</td>\n",
       "      <td>65032.533333</td>\n",
       "    </tr>\n",
       "  </tbody>\n",
       "</table>\n",
       "<p>5 rows × 50 columns</p>\n",
       "</div>"
      ],
      "text/plain": [
       "          acct_type  approx_payout_date  body_length  channels country  \\\n",
       "0   fraudster_event 2010-02-13 12:00:00         3852         5      US   \n",
       "26        fraudster 2011-03-08 18:00:00          870        11      US   \n",
       "51  fraudster_event 2012-02-17 08:00:00          536         6      US   \n",
       "54        fraudster 2011-08-08 00:00:00         3081        11           \n",
       "70        fraudster 2011-12-03 07:00:00            0        13      US   \n",
       "\n",
       "   currency  delivery_method  \\\n",
       "0       USD              0.0   \n",
       "26      USD              0.0   \n",
       "51      USD              0.0   \n",
       "54      GBP              0.0   \n",
       "70      USD              0.0   \n",
       "\n",
       "                                          description   email_domain  \\\n",
       "0   <p><a href=\"http://s432.photobucket.com/albums...      gmail.com   \n",
       "26  <h1 class=\"post\">Welcome</h1>\\r\\n<p> </p>\\r\\n<...    hotmail.com   \n",
       "51  <p><span style=\"font-size: x-large;\">Okay ever...        cox.net   \n",
       "54  <h3><strong><strong><span style=\"font-family: ...  hotmail.co.uk   \n",
       "70                                                         yahoo.com   \n",
       "\n",
       "         event_created       ...       venue_latitude venue_longitude  \\\n",
       "0  2010-01-06 01:01:46       ...            25.777471      -80.133433   \n",
       "26 2011-03-03 16:56:56       ...            40.750228      -73.983714   \n",
       "51 2011-10-02 08:38:16       ...            32.702072     -117.085088   \n",
       "54 2011-07-26 21:50:51       ...             0.000000        0.000000   \n",
       "70 2011-09-23 16:39:02       ...            39.308752      -76.716174   \n",
       "\n",
       "                           venue_name  venue_state  fraud_no_fraud  \\\n",
       "0         INK Nightclub - South Beach           FL            True   \n",
       "26                          The Setai           NY            True   \n",
       "51  The Jacobs Center at Market Creek           CA            True   \n",
       "54            Olympia Exhibition Hall                         True   \n",
       "70                                              MD            True   \n",
       "\n",
       "        event_delta       user_delta  user_hour_delta event_hour_delta  \\\n",
       "0   4 days 06:48:52 36 days 04:15:56       868.265556       102.814444   \n",
       "26  0 days 00:01:22 41 days 14:30:39       998.510833         0.022778   \n",
       "51  0 days 00:09:15 76 days 05:38:22      1829.639444         0.154167   \n",
       "54  0 days 01:01:05  0 days 00:00:01         0.000278         1.018056   \n",
       "70 45 days 03:52:32  0 days 00:07:36         0.126667      1083.875556   \n",
       "\n",
       "   event_min_delta  \n",
       "0      6168.866667  \n",
       "26        1.366667  \n",
       "51        9.250000  \n",
       "54       61.083333  \n",
       "70    65032.533333  \n",
       "\n",
       "[5 rows x 50 columns]"
      ]
     },
     "execution_count": 288,
     "metadata": {},
     "output_type": "execute_result"
    }
   ],
   "source": [
    "df_fraud.head()"
   ]
  },
  {
   "cell_type": "code",
   "execution_count": 289,
   "metadata": {},
   "outputs": [],
   "source": [
    "less_10hours_df1=df_fraud[df_fraud['user_hour_delta']<=10]\n",
    "less_10hours_df2=df_fraud[df_fraud['event_hour_delta']<=10]"
   ]
  },
  {
   "cell_type": "code",
   "execution_count": 323,
   "metadata": {},
   "outputs": [],
   "source": [
    "df_nofraud_plot = df[df['fraud_no_fraud']==False]"
   ]
  },
  {
   "cell_type": "code",
   "execution_count": 329,
   "metadata": {},
   "outputs": [
    {
     "data": {
      "text/plain": [
       "[<matplotlib.lines.Line2D at 0x7fecf4269588>]"
      ]
     },
     "execution_count": 329,
     "metadata": {},
     "output_type": "execute_result"
    },
    {
     "data": {
      "image/png": "[encoded data removed]",
      "text/plain": [
       "<matplotlib.figure.Figure at 0x7fecf7a17940>"
      ]
     },
     "metadata": {},
     "output_type": "display_data"
    }
   ],
   "source": [
    "x_range_fraud = np.arange(60)\n",
    "y_values_fraud = np.zeros(60)\n",
    "total_num_frauds = 1293\n",
    "\n",
    "for i in x_range:\n",
    "    y_values_fraud[i] = len(df_fraud[df_fraud['event_min_delta']<=i])\n",
    "y_values_fraud=y_values_fraud/total_num_frauds\n",
    "    \n",
    "plt.plot(x_range_fraud, y_values_fraud)"
   ]
  },
  {
   "cell_type": "code",
   "execution_count": 330,
   "metadata": {},
   "outputs": [
    {
     "data": {
      "text/plain": [
       "[<matplotlib.lines.Line2D at 0x7fecf593e6a0>]"
      ]
     },
     "execution_count": 330,
     "metadata": {},
     "output_type": "execute_result"
    },
    {
     "data": {
      "image/png": "[encoded data removed]",
      "text/plain": [
       "<matplotlib.figure.Figure at 0x7fecf60a6588>"
      ]
     },
     "metadata": {},
     "output_type": "display_data"
    }
   ],
   "source": [
    "x_range = np.arange(60)\n",
    "y_values = np.zeros(60)\n",
    "total_num_no_frauds = 13044\n",
    "\n",
    "for i in x_range:\n",
    "    y_values[i] = len(df_nofraud_plot[df_nofraud_plot['event_min_delta']<=i])\n",
    "y_values=y_values/total_num_no_frauds\n",
    "    \n",
    "plt.plot(x_range, y_values)"
   ]
  },
  {
   "cell_type": "code",
   "execution_count": 333,
   "metadata": {},
   "outputs": [
    {
     "data": {
      "text/plain": [
       "[<matplotlib.lines.Line2D at 0x7fed12bd0b38>]"
      ]
     },
     "execution_count": 333,
     "metadata": {},
     "output_type": "execute_result"
    },
    {
     "data": {
      "image/png": "[encoded data removed]",
      "text/plain": [
       "<matplotlib.figure.Figure at 0x7fecf4e7c668>"
      ]
     },
     "metadata": {},
     "output_type": "display_data"
    }
   ],
   "source": [
    "plt.plot(x_range, np.abs(y_values-y_values_fraud))"
   ]
  },
  {
   "cell_type": "code",
   "execution_count": 335,
   "metadata": {},
   "outputs": [
    {
     "data": {
      "text/plain": [
       "0.23584355929707135"
      ]
     },
     "execution_count": 335,
     "metadata": {},
     "output_type": "execute_result"
    }
   ],
   "source": [
    "diff = np.abs(y_values-y_values_fraud)\n",
    "max_diff = diff.max()\n",
    "max_diff"
   ]
  },
  {
   "cell_type": "code",
   "execution_count": 293,
   "metadata": {},
   "outputs": [
    {
     "data": {
      "text/plain": [
       "Text(0,0.5,'Count of Fraud')"
      ]
     },
     "execution_count": 293,
     "metadata": {},
     "output_type": "execute_result"
    },
    {
     "data": {
      "image/png": "[encoded data removed]",
      "text/plain": [
       "<matplotlib.figure.Figure at 0x7fec75d79470>"
      ]
     },
     "metadata": {},
     "output_type": "display_data"
    }
   ],
   "source": [
    "#This histogram tells us that around 1200 cases of fraud happens within the first 10 hours from when an event is created and when an event is published.\n",
    "df_fraud['event_hour_delta'].hist(figsize=(10,5),bins=10, range=[0,100])\n",
    "plt.title(\"Total Fraud Based on Time between an event_created & event_published\")\n",
    "plt.xlabel(\"Hours between event_created & event_published\")\n",
    "plt.ylabel(\"Count of Fraud\")"
   ]
  },
  {
   "cell_type": "code",
   "execution_count": 294,
   "metadata": {},
   "outputs": [
    {
     "data": {
      "text/plain": [
       "'1140 cases of fraud happen within the first 10 hours between the time an event has been created vs when it is published'"
      ]
     },
     "execution_count": 294,
     "metadata": {},
     "output_type": "execute_result"
    }
   ],
   "source": [
    "'{} cases of fraud happen within the first 10 hours between the time an event has been created vs when it is published'.format(less_10hours_df2['event_hour_delta'].value_counts().sum())"
   ]
  },
  {
   "cell_type": "code",
   "execution_count": 295,
   "metadata": {},
   "outputs": [
    {
     "data": {
      "text/plain": [
       "Text(0,0.5,'Count of Fraud')"
      ]
     },
     "execution_count": 295,
     "metadata": {},
     "output_type": "execute_result"
    },
    {
     "data": {
      "image/png": "[encoded data removed]",
      "text/plain": [
       "<matplotlib.figure.Figure at 0x7fecef3e6c50>"
      ]
     },
     "metadata": {},
     "output_type": "display_data"
    }
   ],
   "source": [
    "#This histogram tells us that around 700 cases of fraud happens within the first 10 hours from when a user creates an account and makes an event.\n",
    "df_fraud['user_hour_delta'].hist(figsize=(10,5),bins=10, range=[0,100])\n",
    "plt.title(\"Total Fraud Based on Time between when a user_created & event_created\")\n",
    "plt.xlabel(\"Hours between user_created & event_created\")\n",
    "plt.ylabel(\"Count of Fraud\")"
   ]
  },
  {
   "cell_type": "code",
   "execution_count": 296,
   "metadata": {},
   "outputs": [
    {
     "data": {
      "text/plain": [
       "'729 cases of fraud happen within the first 10 hours between the time a user account has been created vs when an event was created'"
      ]
     },
     "execution_count": 296,
     "metadata": {},
     "output_type": "execute_result"
    }
   ],
   "source": [
    "'{} cases of fraud happen within the first 10 hours between the time a user account has been created vs when an event was created'.format(less_10hours_df1['user_hour_delta'].value_counts().sum())"
   ]
  },
  {
   "cell_type": "markdown",
   "metadata": {},
   "source": [
    "# No Fraud Histogram/Count based on Hours"
   ]
  },
  {
   "cell_type": "code",
   "execution_count": 297,
   "metadata": {},
   "outputs": [],
   "source": [
    "df_nofraud=df[df['fraud_no_fraud']==False]"
   ]
  },
  {
   "cell_type": "code",
   "execution_count": 298,
   "metadata": {},
   "outputs": [
    {
     "data": {
      "text/html": [
       "<div>\n",
       "<style>\n",
       "    .dataframe thead tr:only-child th {\n",
       "        text-align: right;\n",
       "    }\n",
       "\n",
       "    .dataframe thead th {\n",
       "        text-align: left;\n",
       "    }\n",
       "\n",
       "    .dataframe tbody tr th {\n",
       "        vertical-align: top;\n",
       "    }\n",
       "</style>\n",
       "<table border=\"1\" class=\"dataframe\">\n",
       "  <thead>\n",
       "    <tr style=\"text-align: right;\">\n",
       "      <th></th>\n",
       "      <th>acct_type</th>\n",
       "      <th>approx_payout_date</th>\n",
       "      <th>body_length</th>\n",
       "      <th>channels</th>\n",
       "      <th>country</th>\n",
       "      <th>currency</th>\n",
       "      <th>delivery_method</th>\n",
       "      <th>description</th>\n",
       "      <th>email_domain</th>\n",
       "      <th>event_created</th>\n",
       "      <th>...</th>\n",
       "      <th>venue_latitude</th>\n",
       "      <th>venue_longitude</th>\n",
       "      <th>venue_name</th>\n",
       "      <th>venue_state</th>\n",
       "      <th>fraud_no_fraud</th>\n",
       "      <th>event_delta</th>\n",
       "      <th>user_delta</th>\n",
       "      <th>user_hour_delta</th>\n",
       "      <th>event_hour_delta</th>\n",
       "      <th>event_min_delta</th>\n",
       "    </tr>\n",
       "  </thead>\n",
       "  <tbody>\n",
       "    <tr>\n",
       "      <th>1</th>\n",
       "      <td>premium</td>\n",
       "      <td>2011-02-03 08:00:00</td>\n",
       "      <td>3499</td>\n",
       "      <td>0</td>\n",
       "      <td>US</td>\n",
       "      <td>USD</td>\n",
       "      <td>1.0</td>\n",
       "      <td>&lt;p&gt;Join us for a quick, one-night, community-b...</td>\n",
       "      <td>ruf.org</td>\n",
       "      <td>2010-12-31 21:57:50</td>\n",
       "      <td>...</td>\n",
       "      <td>32.776566</td>\n",
       "      <td>-79.930922</td>\n",
       "      <td>The Charleston, SC area</td>\n",
       "      <td>SC</td>\n",
       "      <td>False</td>\n",
       "      <td>00:10:25</td>\n",
       "      <td>149 days 04:31:34</td>\n",
       "      <td>3580.526111</td>\n",
       "      <td>0.173611</td>\n",
       "      <td>10.416667</td>\n",
       "    </tr>\n",
       "    <tr>\n",
       "      <th>2</th>\n",
       "      <td>premium</td>\n",
       "      <td>2011-01-28 00:00:00</td>\n",
       "      <td>2601</td>\n",
       "      <td>8</td>\n",
       "      <td>US</td>\n",
       "      <td>USD</td>\n",
       "      <td>1.0</td>\n",
       "      <td>&lt;h3&gt;&lt;span class=\"subcategory\"&gt;&lt;strong&gt;Teacher ...</td>\n",
       "      <td>pvsd.k12.ca.us</td>\n",
       "      <td>2010-11-30 04:22:36</td>\n",
       "      <td>...</td>\n",
       "      <td>33.944201</td>\n",
       "      <td>-118.080419</td>\n",
       "      <td>Los Angeles County Office of Education</td>\n",
       "      <td>CA</td>\n",
       "      <td>False</td>\n",
       "      <td>00:15:52</td>\n",
       "      <td>214 days 11:39:28</td>\n",
       "      <td>5147.657778</td>\n",
       "      <td>0.264444</td>\n",
       "      <td>15.866667</td>\n",
       "    </tr>\n",
       "    <tr>\n",
       "      <th>3</th>\n",
       "      <td>premium</td>\n",
       "      <td>2014-01-06 00:00:00</td>\n",
       "      <td>12347</td>\n",
       "      <td>6</td>\n",
       "      <td>IE</td>\n",
       "      <td>EUR</td>\n",
       "      <td>1.0</td>\n",
       "      <td>&lt;p style=\"margin-bottom: 1.3em; padding-bottom...</td>\n",
       "      <td>irishtabletennis.com</td>\n",
       "      <td>2013-02-12 15:06:10</td>\n",
       "      <td>...</td>\n",
       "      <td>NaN</td>\n",
       "      <td>NaN</td>\n",
       "      <td>None</td>\n",
       "      <td>None</td>\n",
       "      <td>False</td>\n",
       "      <td>00:31:16</td>\n",
       "      <td>889 days 00:31:08</td>\n",
       "      <td>21336.518889</td>\n",
       "      <td>0.521111</td>\n",
       "      <td>31.266667</td>\n",
       "    </tr>\n",
       "    <tr>\n",
       "      <th>4</th>\n",
       "      <td>premium</td>\n",
       "      <td>2011-02-17 00:00:00</td>\n",
       "      <td>2417</td>\n",
       "      <td>11</td>\n",
       "      <td>US</td>\n",
       "      <td>USD</td>\n",
       "      <td>0.0</td>\n",
       "      <td>&lt;p&gt;Writers and filmmakers need to understand t...</td>\n",
       "      <td>artsandbusinesscouncil.org</td>\n",
       "      <td>2010-12-10 15:24:26</td>\n",
       "      <td>...</td>\n",
       "      <td>42.353848</td>\n",
       "      <td>-71.044276</td>\n",
       "      <td>Fish &amp; Richardson</td>\n",
       "      <td>MA</td>\n",
       "      <td>False</td>\n",
       "      <td>00:05:00</td>\n",
       "      <td>34 days 20:16:41</td>\n",
       "      <td>836.278056</td>\n",
       "      <td>0.083333</td>\n",
       "      <td>5.000000</td>\n",
       "    </tr>\n",
       "    <tr>\n",
       "      <th>5</th>\n",
       "      <td>premium</td>\n",
       "      <td>2011-03-19 01:00:00</td>\n",
       "      <td>117</td>\n",
       "      <td>6</td>\n",
       "      <td>US</td>\n",
       "      <td>USD</td>\n",
       "      <td>0.0</td>\n",
       "      <td>&lt;p&gt;Come join the Bluegrass Stallions as they t...</td>\n",
       "      <td>bluegrassstallions.com</td>\n",
       "      <td>2011-01-07 17:36:50</td>\n",
       "      <td>...</td>\n",
       "      <td>38.209797</td>\n",
       "      <td>-84.558831</td>\n",
       "      <td>Georgetown College Alumni Gymnasium</td>\n",
       "      <td>KY</td>\n",
       "      <td>False</td>\n",
       "      <td>00:01:02</td>\n",
       "      <td>299 days 02:31:40</td>\n",
       "      <td>7178.527778</td>\n",
       "      <td>0.017222</td>\n",
       "      <td>1.033333</td>\n",
       "    </tr>\n",
       "  </tbody>\n",
       "</table>\n",
       "<p>5 rows × 50 columns</p>\n",
       "</div>"
      ],
      "text/plain": [
       "  acct_type  approx_payout_date  body_length  channels country currency  \\\n",
       "1   premium 2011-02-03 08:00:00         3499         0      US      USD   \n",
       "2   premium 2011-01-28 00:00:00         2601         8      US      USD   \n",
       "3   premium 2014-01-06 00:00:00        12347         6      IE      EUR   \n",
       "4   premium 2011-02-17 00:00:00         2417        11      US      USD   \n",
       "5   premium 2011-03-19 01:00:00          117         6      US      USD   \n",
       "\n",
       "   delivery_method                                        description  \\\n",
       "1              1.0  <p>Join us for a quick, one-night, community-b...   \n",
       "2              1.0  <h3><span class=\"subcategory\"><strong>Teacher ...   \n",
       "3              1.0  <p style=\"margin-bottom: 1.3em; padding-bottom...   \n",
       "4              0.0  <p>Writers and filmmakers need to understand t...   \n",
       "5              0.0  <p>Come join the Bluegrass Stallions as they t...   \n",
       "\n",
       "                 email_domain       event_created       ...        \\\n",
       "1                     ruf.org 2010-12-31 21:57:50       ...         \n",
       "2              pvsd.k12.ca.us 2010-11-30 04:22:36       ...         \n",
       "3        irishtabletennis.com 2013-02-12 15:06:10       ...         \n",
       "4  artsandbusinesscouncil.org 2010-12-10 15:24:26       ...         \n",
       "5      bluegrassstallions.com 2011-01-07 17:36:50       ...         \n",
       "\n",
       "  venue_latitude venue_longitude                              venue_name  \\\n",
       "1      32.776566      -79.930922                 The Charleston, SC area   \n",
       "2      33.944201     -118.080419  Los Angeles County Office of Education   \n",
       "3            NaN             NaN                                    None   \n",
       "4      42.353848      -71.044276                       Fish & Richardson   \n",
       "5      38.209797      -84.558831     Georgetown College Alumni Gymnasium   \n",
       "\n",
       "   venue_state  fraud_no_fraud  event_delta        user_delta  \\\n",
       "1           SC           False     00:10:25 149 days 04:31:34   \n",
       "2           CA           False     00:15:52 214 days 11:39:28   \n",
       "3         None           False     00:31:16 889 days 00:31:08   \n",
       "4           MA           False     00:05:00  34 days 20:16:41   \n",
       "5           KY           False     00:01:02 299 days 02:31:40   \n",
       "\n",
       "   user_hour_delta event_hour_delta event_min_delta  \n",
       "1      3580.526111         0.173611       10.416667  \n",
       "2      5147.657778         0.264444       15.866667  \n",
       "3     21336.518889         0.521111       31.266667  \n",
       "4       836.278056         0.083333        5.000000  \n",
       "5      7178.527778         0.017222        1.033333  \n",
       "\n",
       "[5 rows x 50 columns]"
      ]
     },
     "execution_count": 298,
     "metadata": {},
     "output_type": "execute_result"
    }
   ],
   "source": [
    "df_nofraud.head()"
   ]
  },
  {
   "cell_type": "code",
   "execution_count": 299,
   "metadata": {},
   "outputs": [],
   "source": [
    "less_10hours_nodf1=df_nofraud[df_nofraud['user_hour_delta']<=10]\n",
    "less_10hours_nodf2=df_nofraud[df_nofraud['event_hour_delta']<=10]"
   ]
  },
  {
   "cell_type": "code",
   "execution_count": 300,
   "metadata": {},
   "outputs": [
    {
     "data": {
      "text/plain": [
       "Text(0,0.5,'Count of No Fraud')"
      ]
     },
     "execution_count": 300,
     "metadata": {},
     "output_type": "execute_result"
    },
    {
     "data": {
      "image/png": "[encoded data removed]",
      "text/plain": [
       "<matplotlib.figure.Figure at 0x7fecef453f98>"
      ]
     },
     "metadata": {},
     "output_type": "display_data"
    }
   ],
   "source": [
    "#This histogram tells us that around 9000 cases where fraud does not exist within the first 10 hours from when an event is created and when an event is published.\n",
    "df_nofraud['event_hour_delta'].hist(figsize=(10,5),bins=10, range=[0,100])\n",
    "plt.title(\"Total No Fraud Based on Time between an event_created & event_published\")\n",
    "plt.xlabel(\"Hours between event_created & event_published\")\n",
    "plt.ylabel(\"Count of No Fraud\")"
   ]
  },
  {
   "cell_type": "code",
   "execution_count": 301,
   "metadata": {},
   "outputs": [
    {
     "data": {
      "text/plain": [
       "'9646 cases of no fraud happen within the first 10 hours between the time an event has been created vs when it is published'"
      ]
     },
     "execution_count": 301,
     "metadata": {},
     "output_type": "execute_result"
    }
   ],
   "source": [
    "'{} cases of no fraud happen within the first 10 hours between the time an event has been created vs when it is published'.format(less_10hours_nodf2['event_hour_delta'].value_counts().sum())"
   ]
  },
  {
   "cell_type": "code",
   "execution_count": 302,
   "metadata": {},
   "outputs": [
    {
     "data": {
      "text/plain": [
       "Text(0,0.5,'Count of No Fraud')"
      ]
     },
     "execution_count": 302,
     "metadata": {},
     "output_type": "execute_result"
    },
    {
     "data": {
      "image/png": "[encoded data removed]",
      "text/plain": [
       "<matplotlib.figure.Figure at 0x7fecf1062748>"
      ]
     },
     "metadata": {},
     "output_type": "display_data"
    }
   ],
   "source": [
    "#This histogram tells us that around 2000 cases where fraud does not exist within the first 10 hours from when a user creates an account and makes an event.\n",
    "df_nofraud['user_hour_delta'].hist(figsize=(10,5),bins=10, range=[0,100])\n",
    "plt.title(\"Total No Fraud Based on Time between when a user_created & event_created\")\n",
    "plt.xlabel(\"Hours between user_created & event_created\")\n",
    "plt.ylabel(\"Count of No Fraud\")"
   ]
  },
  {
   "cell_type": "code",
   "execution_count": 303,
   "metadata": {},
   "outputs": [
    {
     "data": {
      "text/plain": [
       "'2021 cases of fraud happen within the first 10 hours between the time a user account has been created vs when an event was created'"
      ]
     },
     "execution_count": 303,
     "metadata": {},
     "output_type": "execute_result"
    }
   ],
   "source": [
    "'{} cases of fraud happen within the first 10 hours between the time a user account has been created vs when an event was created'.format(less_10hours_nodf1['user_hour_delta'].value_counts().sum())"
   ]
  },
  {
   "cell_type": "markdown",
   "metadata": {},
   "source": [
    "# Org. Name"
   ]
  },
  {
   "cell_type": "code",
   "execution_count": 304,
   "metadata": {},
   "outputs": [
    {
     "data": {
      "text/plain": [
       "'Total Number of Organizations: 9501'"
      ]
     },
     "execution_count": 304,
     "metadata": {},
     "output_type": "execute_result"
    }
   ],
   "source": [
    "\"Total Number of Organizations: {}\".format(len(df['org_name'].unique()))"
   ]
  },
  {
   "cell_type": "code",
   "execution_count": 305,
   "metadata": {},
   "outputs": [],
   "source": [
    "list_org_names=list(df['org_name'])\n",
    "counted_list = Counter(list_org_names)\n",
    "# Remove the unanimous org names\n",
    "N = sorted(list(counted_list.values()), reverse=True)\n",
    "T = N[1:]"
   ]
  },
  {
   "cell_type": "code",
   "execution_count": 306,
   "metadata": {},
   "outputs": [
    {
     "data": {
      "text/plain": [
       "'Total Number of Events by Anonymous Organizations: 1462'"
      ]
     },
     "execution_count": 306,
     "metadata": {},
     "output_type": "execute_result"
    }
   ],
   "source": [
    "\"Total Number of Events by Anonymous Organizations: {}\".format(N[0])"
   ]
  },
  {
   "cell_type": "markdown",
   "metadata": {},
   "source": [
    "# Org Name with Fraud"
   ]
  },
  {
   "cell_type": "code",
   "execution_count": 307,
   "metadata": {},
   "outputs": [],
   "source": [
    "df_org_frad_nofraud=df[['org_name', 'fraud_no_fraud']]\n",
    "df_org_frad_nofraud1=df_org_frad_nofraud[df_org_frad_nofraud['fraud_no_fraud']==True]"
   ]
  },
  {
   "cell_type": "code",
   "execution_count": 308,
   "metadata": {},
   "outputs": [],
   "source": [
    "Anonymous_Org_Fraud_Cases=Counter(df_org_frad_nofraud1.iloc[:,0])"
   ]
  },
  {
   "cell_type": "code",
   "execution_count": 309,
   "metadata": {},
   "outputs": [
    {
     "data": {
      "text/plain": [
       "'Number of Frauds by Anonymous Organizations: 446'"
      ]
     },
     "execution_count": 309,
     "metadata": {},
     "output_type": "execute_result"
    }
   ],
   "source": [
    "\"Number of Frauds by Anonymous Organizations: {}\".format(Anonymous_Org_Fraud_Cases[''])"
   ]
  },
  {
   "cell_type": "code",
   "execution_count": 310,
   "metadata": {},
   "outputs": [
    {
     "data": {
      "text/plain": [
       "'Percentage of Frauds by Anonymous Organizations: 0.30506155950752395'"
      ]
     },
     "execution_count": 310,
     "metadata": {},
     "output_type": "execute_result"
    }
   ],
   "source": [
    "\"Percentage of Frauds by Anonymous Organizations: {}\".format(Anonymous_Org_Fraud_Cases['']/N[0])"
   ]
  },
  {
   "cell_type": "markdown",
   "metadata": {},
   "source": [
    "### Histograms with/without Events by Anonymous Orgs"
   ]
  },
  {
   "cell_type": "code",
   "execution_count": 311,
   "metadata": {},
   "outputs": [
    {
     "data": {
      "image/png": "[encoded data removed]",
      "text/plain": [
       "<matplotlib.figure.Figure at 0x7fecf0eaf940>"
      ]
     },
     "metadata": {},
     "output_type": "display_data"
    }
   ],
   "source": [
    "fig, ax = plt.subplots(1,3, figsize=(20,10))\n",
    "ax[0].hist(N,bins=5);\n",
    "ax[0].set_xlabel('Number of posts')\n",
    "ax[0].set_ylabel('Number of org_names')\n",
    "ax[0].set_title('Histogram including anonymous orgs');\n",
    "ax[1].hist(N,bins=5);\n",
    "ax[1].set_xlabel('Number of posts')\n",
    "ax[1].set_ylabel('Number of org_names')\n",
    "ax[1].set_title('Histogram including anonymous orgs');\n",
    "ax[1].set_ylim (0,8)\n",
    "ax[2].hist(T,bins= 5);\n",
    "ax[2].set_xlabel('Number of posts')\n",
    "ax[2].set_ylabel('Number of org_names')\n",
    "ax[2].set_title('Histogram excluding anonymous orgs');"
   ]
  },
  {
   "cell_type": "markdown",
   "metadata": {},
   "source": [
    "### Histogram for orgs with more than 2 posts & more than 3 posts"
   ]
  },
  {
   "cell_type": "code",
   "execution_count": 312,
   "metadata": {},
   "outputs": [],
   "source": [
    "L2 = []\n",
    "for x in T:\n",
    "    if x > 2:\n",
    "        L2.append(x)"
   ]
  },
  {
   "cell_type": "code",
   "execution_count": 313,
   "metadata": {},
   "outputs": [],
   "source": [
    "L3 = []\n",
    "for x in T:\n",
    "    if x > 3:\n",
    "        L3.append(x)"
   ]
  },
  {
   "cell_type": "code",
   "execution_count": 314,
   "metadata": {},
   "outputs": [
    {
     "data": {
      "image/png": "[encoded data removed]",
      "text/plain": [
       "<matplotlib.figure.Figure at 0x7fecf58a3ac8>"
      ]
     },
     "metadata": {},
     "output_type": "display_data"
    },
    {
     "data": {
      "image/png": "[encoded data removed]",
      "text/plain": [
       "<matplotlib.figure.Figure at 0x7fecf562b4a8>"
      ]
     },
     "metadata": {},
     "output_type": "display_data"
    }
   ],
   "source": [
    "fig, ax = plt.subplots(figsize=(7,5))\n",
    "ax.hist(L2,bins=42);\n",
    "plt.xlabel('Number of posts');\n",
    "plt.ylabel('Number of org_names');\n",
    "ax.set_title('Histogram for orgs with more than 2 posts');\n",
    "fig, ax = plt.subplots(figsize=(7,5))\n",
    "ax.hist(L3,bins=41);\n",
    "plt.xlabel('Number of posts');\n",
    "plt.ylabel('Number of org_names');\n",
    "ax.set_title('Histogram of orgs with more than 3 posts');"
   ]
  },
  {
   "cell_type": "code",
   "execution_count": null,
   "metadata": {},
   "outputs": [],
   "source": []
  },
  {
   "cell_type": "code",
   "execution_count": null,
   "metadata": {},
   "outputs": [],
   "source": []
  },
  {
   "cell_type": "code",
   "execution_count": null,
   "metadata": {},
   "outputs": [],
   "source": []
  },
  {
   "cell_type": "code",
   "execution_count": null,
   "metadata": {},
   "outputs": [],
   "source": []
  }
 ],
 "metadata": {
  "kernelspec": {
   "display_name": "Python 3",
   "language": "python",
   "name": "python3"
  },
  "language_info": {
   "codemirror_mode": {
    "name": "ipython",
    "version": 3
   },
   "file_extension": ".py",
   "mimetype": "text/x-python",
   "name": "python",
   "nbconvert_exporter": "python",
   "pygments_lexer": "ipython3",
   "version": "3.6.3"
  }
 },
 "nbformat": 4,
 "nbformat_minor": 2
}
