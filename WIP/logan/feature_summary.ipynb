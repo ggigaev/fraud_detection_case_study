{
 "cells": [
  {
   "cell_type": "code",
   "execution_count": 28,
   "metadata": {},
   "outputs": [],
   "source": [
    "import pandas as pd\n",
    "from IPython.core.display import HTML\n",
    "\n",
    "import src.scrubbington as srcb"
   ]
  },
  {
   "cell_type": "code",
   "execution_count": 2,
   "metadata": {},
   "outputs": [],
   "source": [
    "df = pd.read_json('data/data.json')"
   ]
  },
  {
   "cell_type": "code",
   "execution_count": 3,
   "metadata": {
    "scrolled": true
   },
   "outputs": [
    {
     "data": {
      "text/html": [
       "<div>\n",
       "<style scoped>\n",
       "    .dataframe tbody tr th:only-of-type {\n",
       "        vertical-align: middle;\n",
       "    }\n",
       "\n",
       "    .dataframe tbody tr th {\n",
       "        vertical-align: top;\n",
       "    }\n",
       "\n",
       "    .dataframe thead th {\n",
       "        text-align: right;\n",
       "    }\n",
       "</style>\n",
       "<table border=\"1\" class=\"dataframe\">\n",
       "  <thead>\n",
       "    <tr style=\"text-align: right;\">\n",
       "      <th></th>\n",
       "      <th>acct_type</th>\n",
       "      <th>approx_payout_date</th>\n",
       "      <th>body_length</th>\n",
       "      <th>channels</th>\n",
       "      <th>country</th>\n",
       "      <th>currency</th>\n",
       "      <th>delivery_method</th>\n",
       "      <th>description</th>\n",
       "      <th>email_domain</th>\n",
       "      <th>event_created</th>\n",
       "      <th>...</th>\n",
       "      <th>ticket_types</th>\n",
       "      <th>user_age</th>\n",
       "      <th>user_created</th>\n",
       "      <th>user_type</th>\n",
       "      <th>venue_address</th>\n",
       "      <th>venue_country</th>\n",
       "      <th>venue_latitude</th>\n",
       "      <th>venue_longitude</th>\n",
       "      <th>venue_name</th>\n",
       "      <th>venue_state</th>\n",
       "    </tr>\n",
       "  </thead>\n",
       "  <tbody>\n",
       "    <tr>\n",
       "      <th>0</th>\n",
       "      <td>fraudster_event</td>\n",
       "      <td>1266062400</td>\n",
       "      <td>3852</td>\n",
       "      <td>5</td>\n",
       "      <td>US</td>\n",
       "      <td>USD</td>\n",
       "      <td>0.0</td>\n",
       "      <td>&lt;p&gt;&lt;a href=\"http://s432.photobucket.com/albums...</td>\n",
       "      <td>gmail.com</td>\n",
       "      <td>1262739706</td>\n",
       "      <td>...</td>\n",
       "      <td>[{'event_id': 527017, 'cost': 25.0, 'availabil...</td>\n",
       "      <td>36</td>\n",
       "      <td>1259613950</td>\n",
       "      <td>1</td>\n",
       "      <td>717 Washington Avenue</td>\n",
       "      <td>US</td>\n",
       "      <td>25.777471</td>\n",
       "      <td>-80.133433</td>\n",
       "      <td>INK Nightclub - South Beach</td>\n",
       "      <td>FL</td>\n",
       "    </tr>\n",
       "    <tr>\n",
       "      <th>1</th>\n",
       "      <td>premium</td>\n",
       "      <td>1296720000</td>\n",
       "      <td>3499</td>\n",
       "      <td>0</td>\n",
       "      <td>US</td>\n",
       "      <td>USD</td>\n",
       "      <td>1.0</td>\n",
       "      <td>&lt;p&gt;Join us for a quick, one-night, community-b...</td>\n",
       "      <td>ruf.org</td>\n",
       "      <td>1293832670</td>\n",
       "      <td>...</td>\n",
       "      <td>[{'event_id': 786878, 'cost': 35.0, 'availabil...</td>\n",
       "      <td>149</td>\n",
       "      <td>1280942776</td>\n",
       "      <td>3</td>\n",
       "      <td></td>\n",
       "      <td>US</td>\n",
       "      <td>32.776566</td>\n",
       "      <td>-79.930922</td>\n",
       "      <td>The Charleston, SC area</td>\n",
       "      <td>SC</td>\n",
       "    </tr>\n",
       "    <tr>\n",
       "      <th>2</th>\n",
       "      <td>premium</td>\n",
       "      <td>1296172800</td>\n",
       "      <td>2601</td>\n",
       "      <td>8</td>\n",
       "      <td>US</td>\n",
       "      <td>USD</td>\n",
       "      <td>1.0</td>\n",
       "      <td>&lt;h3&gt;&lt;span class=\"subcategory\"&gt;&lt;strong&gt;Teacher ...</td>\n",
       "      <td>pvsd.k12.ca.us</td>\n",
       "      <td>1291090956</td>\n",
       "      <td>...</td>\n",
       "      <td>[{'event_id': 787337, 'cost': 93.51, 'availabi...</td>\n",
       "      <td>214</td>\n",
       "      <td>1272559388</td>\n",
       "      <td>3</td>\n",
       "      <td>10100 Pioneer Blvd Suite 100</td>\n",
       "      <td>US</td>\n",
       "      <td>33.944201</td>\n",
       "      <td>-118.080419</td>\n",
       "      <td>Los Angeles County Office of Education</td>\n",
       "      <td>CA</td>\n",
       "    </tr>\n",
       "    <tr>\n",
       "      <th>3</th>\n",
       "      <td>premium</td>\n",
       "      <td>1388966400</td>\n",
       "      <td>12347</td>\n",
       "      <td>6</td>\n",
       "      <td>IE</td>\n",
       "      <td>EUR</td>\n",
       "      <td>1.0</td>\n",
       "      <td>&lt;p style=\"margin-bottom: 1.3em; padding-bottom...</td>\n",
       "      <td>irishtabletennis.com</td>\n",
       "      <td>1360681570</td>\n",
       "      <td>...</td>\n",
       "      <td>[{'event_id': 885645, 'cost': 25.0, 'availabil...</td>\n",
       "      <td>889</td>\n",
       "      <td>1283870102</td>\n",
       "      <td>3</td>\n",
       "      <td></td>\n",
       "      <td>None</td>\n",
       "      <td>NaN</td>\n",
       "      <td>NaN</td>\n",
       "      <td>None</td>\n",
       "      <td>None</td>\n",
       "    </tr>\n",
       "    <tr>\n",
       "      <th>4</th>\n",
       "      <td>premium</td>\n",
       "      <td>1297900800</td>\n",
       "      <td>2417</td>\n",
       "      <td>11</td>\n",
       "      <td>US</td>\n",
       "      <td>USD</td>\n",
       "      <td>0.0</td>\n",
       "      <td>&lt;p&gt;Writers and filmmakers need to understand t...</td>\n",
       "      <td>artsandbusinesscouncil.org</td>\n",
       "      <td>1291994666</td>\n",
       "      <td>...</td>\n",
       "      <td>[{'event_id': 1114349, 'cost': 150.0, 'availab...</td>\n",
       "      <td>35</td>\n",
       "      <td>1288984065</td>\n",
       "      <td>3</td>\n",
       "      <td>One Marina Park Drive</td>\n",
       "      <td>US</td>\n",
       "      <td>42.353848</td>\n",
       "      <td>-71.044276</td>\n",
       "      <td>Fish &amp; Richardson</td>\n",
       "      <td>MA</td>\n",
       "    </tr>\n",
       "  </tbody>\n",
       "</table>\n",
       "<p>5 rows × 44 columns</p>\n",
       "</div>"
      ],
      "text/plain": [
       "         acct_type  approx_payout_date  body_length  channels country  \\\n",
       "0  fraudster_event          1266062400         3852         5      US   \n",
       "1          premium          1296720000         3499         0      US   \n",
       "2          premium          1296172800         2601         8      US   \n",
       "3          premium          1388966400        12347         6      IE   \n",
       "4          premium          1297900800         2417        11      US   \n",
       "\n",
       "  currency  delivery_method  \\\n",
       "0      USD              0.0   \n",
       "1      USD              1.0   \n",
       "2      USD              1.0   \n",
       "3      EUR              1.0   \n",
       "4      USD              0.0   \n",
       "\n",
       "                                         description  \\\n",
       "0  <p><a href=\"http://s432.photobucket.com/albums...   \n",
       "1  <p>Join us for a quick, one-night, community-b...   \n",
       "2  <h3><span class=\"subcategory\"><strong>Teacher ...   \n",
       "3  <p style=\"margin-bottom: 1.3em; padding-bottom...   \n",
       "4  <p>Writers and filmmakers need to understand t...   \n",
       "\n",
       "                 email_domain  event_created     ...      \\\n",
       "0                   gmail.com     1262739706     ...       \n",
       "1                     ruf.org     1293832670     ...       \n",
       "2              pvsd.k12.ca.us     1291090956     ...       \n",
       "3        irishtabletennis.com     1360681570     ...       \n",
       "4  artsandbusinesscouncil.org     1291994666     ...       \n",
       "\n",
       "                                        ticket_types  user_age  user_created  \\\n",
       "0  [{'event_id': 527017, 'cost': 25.0, 'availabil...        36    1259613950   \n",
       "1  [{'event_id': 786878, 'cost': 35.0, 'availabil...       149    1280942776   \n",
       "2  [{'event_id': 787337, 'cost': 93.51, 'availabi...       214    1272559388   \n",
       "3  [{'event_id': 885645, 'cost': 25.0, 'availabil...       889    1283870102   \n",
       "4  [{'event_id': 1114349, 'cost': 150.0, 'availab...        35    1288984065   \n",
       "\n",
       "   user_type                 venue_address  venue_country  venue_latitude  \\\n",
       "0          1         717 Washington Avenue             US       25.777471   \n",
       "1          3                                           US       32.776566   \n",
       "2          3  10100 Pioneer Blvd Suite 100             US       33.944201   \n",
       "3          3                                         None             NaN   \n",
       "4          3        One Marina Park Drive              US       42.353848   \n",
       "\n",
       "   venue_longitude                              venue_name venue_state  \n",
       "0       -80.133433             INK Nightclub - South Beach          FL  \n",
       "1       -79.930922                 The Charleston, SC area          SC  \n",
       "2      -118.080419  Los Angeles County Office of Education          CA  \n",
       "3              NaN                                    None        None  \n",
       "4       -71.044276                       Fish & Richardson          MA  \n",
       "\n",
       "[5 rows x 44 columns]"
      ]
     },
     "execution_count": 3,
     "metadata": {},
     "output_type": "execute_result"
    }
   ],
   "source": [
    "df.head()"
   ]
  },
  {
   "cell_type": "code",
   "execution_count": 32,
   "metadata": {},
   "outputs": [
    {
     "data": {
      "text/plain": [
       "acct_type                                               fraudster_event\n",
       "approx_payout_date                                           1266062400\n",
       "body_length                                                        3852\n",
       "channels                                                              5\n",
       "country                                                              US\n",
       "currency                                                            USD\n",
       "delivery_method                                                       0\n",
       "description           <p><a href=\"http://s432.photobucket.com/albums...\n",
       "email_domain                                                  gmail.com\n",
       "event_created                                                1262739706\n",
       "event_end                                                    1265630400\n",
       "event_published                                             1.26311e+09\n",
       "event_start                                                  1265594400\n",
       "fb_published                                                          0\n",
       "gts                                                                   0\n",
       "has_analytics                                                         0\n",
       "has_header                                                            1\n",
       "has_logo                                                              0\n",
       "listed                                                                y\n",
       "name                  99 HOUR \"NO SLEEP\" SUPER BOWL CELEBRITY WEEKEN...\n",
       "name_length                                                          60\n",
       "num_order                                                             0\n",
       "num_payouts                                                           0\n",
       "object_id                                                        527017\n",
       "org_desc                                                               \n",
       "org_facebook                                                          0\n",
       "org_name                          Party Starz Ent & Diverse Int'l Group\n",
       "org_twitter                                                           0\n",
       "payee_name                                                             \n",
       "payout_type                                                            \n",
       "previous_payouts                                                     []\n",
       "sale_duration                                                        29\n",
       "sale_duration2                                                       33\n",
       "show_map                                                              1\n",
       "ticket_types          [{'event_id': 527017, 'cost': 25.0, 'availabil...\n",
       "user_age                                                             36\n",
       "user_created                                                 1259613950\n",
       "user_type                                                             1\n",
       "venue_address                                     717 Washington Avenue\n",
       "venue_country                                                        US\n",
       "venue_latitude                                                  25.7775\n",
       "venue_longitude                                                -80.1334\n",
       "venue_name                                  INK Nightclub - South Beach\n",
       "venue_state                                                          FL\n",
       "Name: 0, dtype: object"
      ]
     },
     "execution_count": 32,
     "metadata": {},
     "output_type": "execute_result"
    }
   ],
   "source": [
    "sample = df.iloc[0]\n",
    "sample"
   ]
  },
  {
   "cell_type": "markdown",
   "metadata": {},
   "source": [
    "# acct_type (Account Type)\n",
    "\n",
    "**LABEL COLUMN, NEVER USE IN MODELS**\n",
    "\n",
    "---"
   ]
  },
  {
   "cell_type": "markdown",
   "metadata": {},
   "source": [
    "# approx_payout_date (Approximate Payout Date)\n",
    "\n",
    "Assumption: The day the cash from ticket sales was paid to the user.\n",
    "\n",
    "*Will this data be available when an event is first created?*\n",
    "\n",
    "**Incorporation Difficulty: EASY**\n",
    "\n",
    "**Importance: Probably Unavailable**\n",
    "\n",
    "We want to detect Fraud BEFORE payout, right?\n",
    "\n",
    "First sample:        \n",
    "Event Published - 1263110000 - GMT: Sunday, January 10, 2010 7:53:20 AM     \n",
    "Event Start - 1265594400 - GMT: Monday, February 8, 2010 2:00:00 AM        \n",
    "Approximate Payout Date - 1266062400 - GMT: Saturday, February 13, 2010 12:00:00 PM     \n",
    "\n",
    "---"
   ]
  },
  {
   "cell_type": "markdown",
   "metadata": {},
   "source": [
    "# body_length (Body Length)\n",
    "\n",
    "Assupmtion: The length of the description\n",
    "\n",
    "**Incorporation Difficulty: EASY**\n",
    "\n",
    "**Importance: Low?**\n",
    "\n",
    "---"
   ]
  },
  {
   "cell_type": "markdown",
   "metadata": {},
   "source": [
    "# channels (Event Marketing Channels)\n",
    "\n",
    "Assumption: How many different channels was the event marketed in?\n",
    "\n",
    "**Incorporation Difficulty: EASY**\n",
    "\n",
    "**Importance: Medium-High?**\n",
    "\n",
    "---"
   ]
  },
  {
   "cell_type": "markdown",
   "metadata": {},
   "source": [
    "# country (Country of Event)\n",
    "\n",
    "Assumption: How many different channels was the event marketed in?\n",
    "\n",
    "72 Unique Countries     \n",
    "13321 (93%) in USA, GB, CA, AUS\n",
    "\n",
    "**Incorporation: Easy!**   \n",
    "\n",
    "**Importance: Low?**\n",
    "\n",
    "**NULL VALUES PRESENT**\n",
    "\n",
    "---"
   ]
  },
  {
   "cell_type": "code",
   "execution_count": null,
   "metadata": {},
   "outputs": [],
   "source": []
  },
  {
   "cell_type": "code",
   "execution_count": null,
   "metadata": {},
   "outputs": [],
   "source": []
  },
  {
   "cell_type": "code",
   "execution_count": null,
   "metadata": {},
   "outputs": [],
   "source": []
  },
  {
   "cell_type": "code",
   "execution_count": null,
   "metadata": {},
   "outputs": [],
   "source": []
  },
  {
   "cell_type": "code",
   "execution_count": null,
   "metadata": {},
   "outputs": [],
   "source": []
  },
  {
   "cell_type": "code",
   "execution_count": null,
   "metadata": {},
   "outputs": [],
   "source": []
  },
  {
   "cell_type": "code",
   "execution_count": null,
   "metadata": {},
   "outputs": [],
   "source": []
  },
  {
   "cell_type": "code",
   "execution_count": null,
   "metadata": {},
   "outputs": [],
   "source": []
  },
  {
   "cell_type": "code",
   "execution_count": null,
   "metadata": {},
   "outputs": [],
   "source": []
  },
  {
   "cell_type": "code",
   "execution_count": null,
   "metadata": {},
   "outputs": [],
   "source": []
  },
  {
   "cell_type": "code",
   "execution_count": null,
   "metadata": {},
   "outputs": [],
   "source": []
  },
  {
   "cell_type": "code",
   "execution_count": null,
   "metadata": {},
   "outputs": [],
   "source": []
  },
  {
   "cell_type": "markdown",
   "metadata": {},
   "source": [
    "# Description"
   ]
  },
  {
   "cell_type": "code",
   "execution_count": 9,
   "metadata": {
    "collapsed": true
   },
   "outputs": [
    {
     "data": {
      "text/html": [
       "<p><a href=\"http://s432.photobucket.com/albums/qq49/digusonline/?action=view&amp;current=supersunday.jpg\" target=\"_blank\"><img src=\"http://i432.photobucket.com/albums/qq49/digusonline/supersunday.jpg\" border=\"0\" alt=\"Photobucket\" /></a></p>\r\n",
       "<p> </p>\r\n",
       "<p style=\"text-align: center;\"><font size=\"3\"><strong>Party Starz Entertaintment &amp; Diverse International Group Presents...<br /></strong></font><br /><font face=\"tahoma,arial,helvetica,sans-serif\" size=\"4\"><strong>The Official \"99 Hour No Sleep\" Super Bowl </strong></font></p>\r\n",
       "<p style=\"text-align: center;\"><font face=\"tahoma,arial,helvetica,sans-serif\" size=\"4\"><strong>Weekend </strong></font><font face=\"tahoma,arial,helvetica,sans-serif\" size=\"4\"><strong>Grand Finale</strong></font></p>\r\n",
       "<p><br /><span style=\"font-family: Times New Roman,serif;\"><font size=\"3\"><font face=\"tahoma,arial,helvetica,sans-serif\">No matter who wins or loses, this post-game party cannot be missed! Enjoy the drink specials and all night music!<strong> </strong></font></font><span style=\"font-family: Times New Roman,serif;\"><font face=\"tahoma,arial,helvetica,sans-serif\" size=\"3\">The ultimate \"99 No Sleep\" Super Bowl Weekend Grand Finale! Sunday, February 7th, 2010 @ Ink Nightclub-South Beach (717 Washington Ave, Miami Bch, FL 33139).</font></span></span></p>\r\n",
       "<p><span style=\"font-family: Times New Roman,serif;\"><span style=\"font-family: Times New Roman,serif;\"><font face=\"tahoma,arial,helvetica,sans-serif\" size=\"3\">Hosted by 99 Jamz with special appearances by Fast Life Youngstaz. Special invited guests: Billy Blue, Dorrough and Brisco and with performances by various artist's and many many more at South Beach Miami's finest venue! This is a party you have to see to believe! This is everyone's last chance to make that impression, so don't half-step, bring your \"A\" game and party with all of the hottest artists, celebrities, models and superstar athletes that are guaranteed to be in the building!</font></span></span></p>\r\n",
       "<p><span style=\"font-family: Times New Roman,serif;\"><font size=\"3\"><span style=\"font-family: Times New Roman,serif;\"><font face=\"tahoma,arial,helvetica,sans-serif\">DJ Q &amp; DJ Slym will ber keepig the party jumping til the sun comes up with the hottest Hip-Hop, R&amp;B, Reggae, Old School and more. </font></span></font></span></p>\r\n",
       "<p><span style=\"font-family: Times New Roman,serif;\"><font size=\"3\"><span style=\"font-family: Times New Roman,serif;\"><font face=\"tahoma,arial,helvetica,sans-serif\">Doors open @ 10pm. Ladies are 18+ and 21+ for Gents. 2-4-1 drinks until 1am, plus the best bottle specials ALL NIGHT LONG!!! We're offering Super Bowl game ticket stub discounts all night!</font></span></font></span></p>\r\n",
       "<p><span style=\"font-family: Times New Roman,serif;\"><font size=\"3\"><span style=\"font-family: Times New Roman,serif;\"><font face=\"tahoma,arial,helvetica,sans-serif\">Dress code is enforced, but it's not what you wear but how you wear it! All-Night Drink Specials! For more information &amp; table reservations email</font></span></font></span><span style=\"font-family: Times New Roman,serif;\"><font size=\"3\"><span style=\"font-family: Times New Roman,serif;\"><font face=\"tahoma,arial,helvetica,sans-serif\">: <a href=\"mailto:99hrnosleepweekend@gmail.com\">99hrnosleepweekend@gmail.com</a> or 305.742.4880.</font></span></font></span></p>\r\n",
       "<p><span style=\"font-family: Times New Roman,serif;\"></span></p>\r\n",
       "<p> </p>\r\n",
       "<p style=\"text-align: center;\"><span style=\"font-family: Times New Roman,serif;\"><font size=\"3\"><span style=\"font-family: Times New Roman,serif;\"><font face=\"tahoma,arial,helvetica,sans-serif\">This is a 99 Hour No Sleep Celebrity Super Bowl Weekend event! <a \r\n",
       "<p> </p>"
      ],
      "text/plain": [
       "<IPython.core.display.HTML object>"
      ]
     },
     "execution_count": 9,
     "metadata": {},
     "output_type": "execute_result"
    }
   ],
   "source": [
    "HTML(sample['description'])"
   ]
  },
  {
   "cell_type": "code",
   "execution_count": 10,
   "metadata": {},
   "outputs": [
    {
     "data": {
      "text/plain": [
       "acct_type                                               fraudster_event\n",
       "approx_payout_date                                           1266062400\n",
       "body_length                                                        3852\n",
       "channels                                                              5\n",
       "country                                                              US\n",
       "currency                                                            USD\n",
       "delivery_method                                                       0\n",
       "description           <p><a href=\"http://s432.photobucket.com/albums...\n",
       "email_domain                                                  gmail.com\n",
       "event_created                                                1262739706\n",
       "event_end                                                    1265630400\n",
       "event_published                                             1.26311e+09\n",
       "event_start                                                  1265594400\n",
       "fb_published                                                          0\n",
       "gts                                                                   0\n",
       "has_analytics                                                         0\n",
       "has_header                                                            1\n",
       "has_logo                                                              0\n",
       "listed                                                                y\n",
       "name                  99 HOUR \"NO SLEEP\" SUPER BOWL CELEBRITY WEEKEN...\n",
       "name_length                                                          60\n",
       "num_order                                                             0\n",
       "num_payouts                                                           0\n",
       "object_id                                                        527017\n",
       "org_desc                                                               \n",
       "org_facebook                                                          0\n",
       "org_name                          Party Starz Ent & Diverse Int'l Group\n",
       "org_twitter                                                           0\n",
       "payee_name                                                             \n",
       "payout_type                                                            \n",
       "previous_payouts                                                     []\n",
       "sale_duration                                                        29\n",
       "sale_duration2                                                       33\n",
       "show_map                                                              1\n",
       "ticket_types          [{'event_id': 527017, 'cost': 25.0, 'availabil...\n",
       "user_age                                                             36\n",
       "user_created                                                 1259613950\n",
       "user_type                                                             1\n",
       "venue_address                                     717 Washington Avenue\n",
       "venue_country                                                        US\n",
       "venue_latitude                                                  25.7775\n",
       "venue_longitude                                                -80.1334\n",
       "venue_name                                  INK Nightclub - South Beach\n",
       "venue_state                                                          FL\n",
       "Name: 0, dtype: object"
      ]
     },
     "execution_count": 10,
     "metadata": {},
     "output_type": "execute_result"
    }
   ],
   "source": [
    "sample"
   ]
  },
  {
   "cell_type": "code",
   "execution_count": 11,
   "metadata": {},
   "outputs": [
    {
     "data": {
      "text/plain": [
       "'99 HOUR \"NO SLEEP\" SUPER BOWL CELEBRITY WEEKEND GRAND FINALE'"
      ]
     },
     "execution_count": 11,
     "metadata": {},
     "output_type": "execute_result"
    }
   ],
   "source": [
    "sample['name']"
   ]
  },
  {
   "cell_type": "code",
   "execution_count": 12,
   "metadata": {},
   "outputs": [
    {
     "data": {
      "text/plain": [
       "(14337, 44)"
      ]
     },
     "execution_count": 12,
     "metadata": {},
     "output_type": "execute_result"
    }
   ],
   "source": [
    "df.shape"
   ]
  },
  {
   "cell_type": "code",
   "execution_count": 15,
   "metadata": {},
   "outputs": [
    {
     "data": {
      "text/plain": [
       "(9501,)"
      ]
     },
     "execution_count": 15,
     "metadata": {},
     "output_type": "execute_result"
    }
   ],
   "source": [
    "df['org_name'].unique().shape"
   ]
  },
  {
   "cell_type": "code",
   "execution_count": 37,
   "metadata": {},
   "outputs": [
    {
     "data": {
      "text/html": [
       "<div>\n",
       "<style scoped>\n",
       "    .dataframe tbody tr th:only-of-type {\n",
       "        vertical-align: middle;\n",
       "    }\n",
       "\n",
       "    .dataframe tbody tr th {\n",
       "        vertical-align: top;\n",
       "    }\n",
       "\n",
       "    .dataframe thead th {\n",
       "        text-align: right;\n",
       "    }\n",
       "</style>\n",
       "<table border=\"1\" class=\"dataframe\">\n",
       "  <thead>\n",
       "    <tr style=\"text-align: right;\">\n",
       "      <th></th>\n",
       "      <th>org_name</th>\n",
       "      <th>org_twitter</th>\n",
       "    </tr>\n",
       "  </thead>\n",
       "  <tbody>\n",
       "    <tr>\n",
       "      <th>0</th>\n",
       "      <td>Party Starz Ent &amp; Diverse Int'l Group</td>\n",
       "      <td>0.0</td>\n",
       "    </tr>\n",
       "    <tr>\n",
       "      <th>1</th>\n",
       "      <td>RUF at Winthrop University</td>\n",
       "      <td>12.0</td>\n",
       "    </tr>\n",
       "    <tr>\n",
       "      <th>2</th>\n",
       "      <td>University Preparation School in collaboration...</td>\n",
       "      <td>0.0</td>\n",
       "    </tr>\n",
       "    <tr>\n",
       "      <th>3</th>\n",
       "      <td></td>\n",
       "      <td>0.0</td>\n",
       "    </tr>\n",
       "    <tr>\n",
       "      <th>4</th>\n",
       "      <td>Arts &amp; Business Council of Greater Boston</td>\n",
       "      <td>0.0</td>\n",
       "    </tr>\n",
       "    <tr>\n",
       "      <th>5</th>\n",
       "      <td>Bluegrass Stallions Basketball</td>\n",
       "      <td>0.0</td>\n",
       "    </tr>\n",
       "    <tr>\n",
       "      <th>6</th>\n",
       "      <td>NABOE Business Owner Networking</td>\n",
       "      <td>0.0</td>\n",
       "    </tr>\n",
       "    <tr>\n",
       "      <th>7</th>\n",
       "      <td>The Magnetic Theatre</td>\n",
       "      <td>0.0</td>\n",
       "    </tr>\n",
       "    <tr>\n",
       "      <th>8</th>\n",
       "      <td></td>\n",
       "      <td>0.0</td>\n",
       "    </tr>\n",
       "    <tr>\n",
       "      <th>9</th>\n",
       "      <td>The Magnetic Theatre</td>\n",
       "      <td>0.0</td>\n",
       "    </tr>\n",
       "    <tr>\n",
       "      <th>10</th>\n",
       "      <td>San Francisco Family Support Network</td>\n",
       "      <td>0.0</td>\n",
       "    </tr>\n",
       "    <tr>\n",
       "      <th>11</th>\n",
       "      <td>forageSF</td>\n",
       "      <td>8.0</td>\n",
       "    </tr>\n",
       "    <tr>\n",
       "      <th>12</th>\n",
       "      <td>Ft. Worth Business Assistance Center</td>\n",
       "      <td>0.0</td>\n",
       "    </tr>\n",
       "    <tr>\n",
       "      <th>13</th>\n",
       "      <td>CCICE and CSPA</td>\n",
       "      <td>0.0</td>\n",
       "    </tr>\n",
       "    <tr>\n",
       "      <th>14</th>\n",
       "      <td>Simply Stylist</td>\n",
       "      <td>15.0</td>\n",
       "    </tr>\n",
       "    <tr>\n",
       "      <th>15</th>\n",
       "      <td>Reel Link Films</td>\n",
       "      <td>14.0</td>\n",
       "    </tr>\n",
       "    <tr>\n",
       "      <th>16</th>\n",
       "      <td>Reel Link Films</td>\n",
       "      <td>14.0</td>\n",
       "    </tr>\n",
       "    <tr>\n",
       "      <th>17</th>\n",
       "      <td>Friends of South Berwick Library</td>\n",
       "      <td>0.0</td>\n",
       "    </tr>\n",
       "    <tr>\n",
       "      <th>18</th>\n",
       "      <td></td>\n",
       "      <td>0.0</td>\n",
       "    </tr>\n",
       "    <tr>\n",
       "      <th>19</th>\n",
       "      <td>Mélange Productions, Inc.</td>\n",
       "      <td>0.0</td>\n",
       "    </tr>\n",
       "    <tr>\n",
       "      <th>20</th>\n",
       "      <td>The European Independent Film Festival (ÉCU)</td>\n",
       "      <td>0.0</td>\n",
       "    </tr>\n",
       "    <tr>\n",
       "      <th>21</th>\n",
       "      <td>Percussion Center</td>\n",
       "      <td>15.0</td>\n",
       "    </tr>\n",
       "    <tr>\n",
       "      <th>22</th>\n",
       "      <td>Calvary Church in Holland, MI</td>\n",
       "      <td>0.0</td>\n",
       "    </tr>\n",
       "    <tr>\n",
       "      <th>23</th>\n",
       "      <td>First American Title</td>\n",
       "      <td>11.0</td>\n",
       "    </tr>\n",
       "    <tr>\n",
       "      <th>24</th>\n",
       "      <td>Digital EYE Media</td>\n",
       "      <td>16.0</td>\n",
       "    </tr>\n",
       "    <tr>\n",
       "      <th>25</th>\n",
       "      <td>Scoutmaster Bucky</td>\n",
       "      <td>0.0</td>\n",
       "    </tr>\n",
       "    <tr>\n",
       "      <th>26</th>\n",
       "      <td></td>\n",
       "      <td>0.0</td>\n",
       "    </tr>\n",
       "    <tr>\n",
       "      <th>27</th>\n",
       "      <td>Chicago Tribune</td>\n",
       "      <td>15.0</td>\n",
       "    </tr>\n",
       "    <tr>\n",
       "      <th>28</th>\n",
       "      <td>American Academy of Facial Esthetics</td>\n",
       "      <td>15.0</td>\n",
       "    </tr>\n",
       "    <tr>\n",
       "      <th>29</th>\n",
       "      <td>DISTRIKT</td>\n",
       "      <td>0.0</td>\n",
       "    </tr>\n",
       "    <tr>\n",
       "      <th>...</th>\n",
       "      <td>...</td>\n",
       "      <td>...</td>\n",
       "    </tr>\n",
       "    <tr>\n",
       "      <th>14307</th>\n",
       "      <td>ATD - ImprovBoston</td>\n",
       "      <td>0.0</td>\n",
       "    </tr>\n",
       "    <tr>\n",
       "      <th>14308</th>\n",
       "      <td>Bethel Music</td>\n",
       "      <td>12.0</td>\n",
       "    </tr>\n",
       "    <tr>\n",
       "      <th>14309</th>\n",
       "      <td></td>\n",
       "      <td>0.0</td>\n",
       "    </tr>\n",
       "    <tr>\n",
       "      <th>14310</th>\n",
       "      <td>JourneyingFree</td>\n",
       "      <td>0.0</td>\n",
       "    </tr>\n",
       "    <tr>\n",
       "      <th>14311</th>\n",
       "      <td>Trinity Church of the Nazarene</td>\n",
       "      <td>0.0</td>\n",
       "    </tr>\n",
       "    <tr>\n",
       "      <th>14312</th>\n",
       "      <td>ABD Cycle Club</td>\n",
       "      <td>10.0</td>\n",
       "    </tr>\n",
       "    <tr>\n",
       "      <th>14313</th>\n",
       "      <td>IRIS Presents</td>\n",
       "      <td>13.0</td>\n",
       "    </tr>\n",
       "    <tr>\n",
       "      <th>14314</th>\n",
       "      <td>PIECES</td>\n",
       "      <td>0.0</td>\n",
       "    </tr>\n",
       "    <tr>\n",
       "      <th>14315</th>\n",
       "      <td>Swing in Utrecht</td>\n",
       "      <td>15.0</td>\n",
       "    </tr>\n",
       "    <tr>\n",
       "      <th>14316</th>\n",
       "      <td>THE FUNCTIONS ORG</td>\n",
       "      <td>0.0</td>\n",
       "    </tr>\n",
       "    <tr>\n",
       "      <th>14317</th>\n",
       "      <td>God Des and She</td>\n",
       "      <td>13.0</td>\n",
       "    </tr>\n",
       "    <tr>\n",
       "      <th>14318</th>\n",
       "      <td>Dating NYC</td>\n",
       "      <td>0.0</td>\n",
       "    </tr>\n",
       "    <tr>\n",
       "      <th>14319</th>\n",
       "      <td></td>\n",
       "      <td>0.0</td>\n",
       "    </tr>\n",
       "    <tr>\n",
       "      <th>14320</th>\n",
       "      <td>Newcastle University Christian Union &amp; Northum...</td>\n",
       "      <td>0.0</td>\n",
       "    </tr>\n",
       "    <tr>\n",
       "      <th>14321</th>\n",
       "      <td>The Fetch</td>\n",
       "      <td>8.0</td>\n",
       "    </tr>\n",
       "    <tr>\n",
       "      <th>14322</th>\n",
       "      <td>Boy Scout Troop 469</td>\n",
       "      <td>0.0</td>\n",
       "    </tr>\n",
       "    <tr>\n",
       "      <th>14323</th>\n",
       "      <td></td>\n",
       "      <td>0.0</td>\n",
       "    </tr>\n",
       "    <tr>\n",
       "      <th>14324</th>\n",
       "      <td>Legion Fetish Events</td>\n",
       "      <td>12.0</td>\n",
       "    </tr>\n",
       "    <tr>\n",
       "      <th>14325</th>\n",
       "      <td>Arthur Taylor..   \"High Society\"</td>\n",
       "      <td>0.0</td>\n",
       "    </tr>\n",
       "    <tr>\n",
       "      <th>14326</th>\n",
       "      <td>Sandie Byrne Medium</td>\n",
       "      <td>13.0</td>\n",
       "    </tr>\n",
       "    <tr>\n",
       "      <th>14327</th>\n",
       "      <td>Community Anti-Racism Education Initiative (CA...</td>\n",
       "      <td>0.0</td>\n",
       "    </tr>\n",
       "    <tr>\n",
       "      <th>14328</th>\n",
       "      <td>Making U Social</td>\n",
       "      <td>0.0</td>\n",
       "    </tr>\n",
       "    <tr>\n",
       "      <th>14329</th>\n",
       "      <td>Making U Social</td>\n",
       "      <td>0.0</td>\n",
       "    </tr>\n",
       "    <tr>\n",
       "      <th>14330</th>\n",
       "      <td>Center for Spritual Living - C.O.L.O.R.S.</td>\n",
       "      <td>14.0</td>\n",
       "    </tr>\n",
       "    <tr>\n",
       "      <th>14331</th>\n",
       "      <td>Revolution Group</td>\n",
       "      <td>0.0</td>\n",
       "    </tr>\n",
       "    <tr>\n",
       "      <th>14332</th>\n",
       "      <td></td>\n",
       "      <td>0.0</td>\n",
       "    </tr>\n",
       "    <tr>\n",
       "      <th>14333</th>\n",
       "      <td>ARCS Foundation, Inc., San Diego Chapter</td>\n",
       "      <td>0.0</td>\n",
       "    </tr>\n",
       "    <tr>\n",
       "      <th>14334</th>\n",
       "      <td>Tiffantasy Entertainment</td>\n",
       "      <td>0.0</td>\n",
       "    </tr>\n",
       "    <tr>\n",
       "      <th>14335</th>\n",
       "      <td></td>\n",
       "      <td>0.0</td>\n",
       "    </tr>\n",
       "    <tr>\n",
       "      <th>14336</th>\n",
       "      <td>ali osman</td>\n",
       "      <td>0.0</td>\n",
       "    </tr>\n",
       "  </tbody>\n",
       "</table>\n",
       "<p>14337 rows × 2 columns</p>\n",
       "</div>"
      ],
      "text/plain": [
       "                                                org_name  org_twitter\n",
       "0                  Party Starz Ent & Diverse Int'l Group          0.0\n",
       "1                             RUF at Winthrop University         12.0\n",
       "2      University Preparation School in collaboration...          0.0\n",
       "3                                                                 0.0\n",
       "4             Arts & Business Council of Greater Boston           0.0\n",
       "5                         Bluegrass Stallions Basketball          0.0\n",
       "6                        NABOE Business Owner Networking          0.0\n",
       "7                                   The Magnetic Theatre          0.0\n",
       "8                                                                 0.0\n",
       "9                                   The Magnetic Theatre          0.0\n",
       "10                 San Francisco Family Support Network           0.0\n",
       "11                                              forageSF          8.0\n",
       "12                  Ft. Worth Business Assistance Center          0.0\n",
       "13                                        CCICE and CSPA          0.0\n",
       "14                                        Simply Stylist         15.0\n",
       "15                                       Reel Link Films         14.0\n",
       "16                                       Reel Link Films         14.0\n",
       "17                      Friends of South Berwick Library          0.0\n",
       "18                                                                0.0\n",
       "19                             Mélange Productions, Inc.          0.0\n",
       "20          The European Independent Film Festival (ÉCU)          0.0\n",
       "21                                     Percussion Center         15.0\n",
       "22                         Calvary Church in Holland, MI          0.0\n",
       "23                                  First American Title         11.0\n",
       "24                                     Digital EYE Media         16.0\n",
       "25                                     Scoutmaster Bucky          0.0\n",
       "26                                                                0.0\n",
       "27                                       Chicago Tribune         15.0\n",
       "28                  American Academy of Facial Esthetics         15.0\n",
       "29                                              DISTRIKT          0.0\n",
       "...                                                  ...          ...\n",
       "14307                                 ATD - ImprovBoston          0.0\n",
       "14308                                       Bethel Music         12.0\n",
       "14309                                                             0.0\n",
       "14310                                     JourneyingFree          0.0\n",
       "14311                     Trinity Church of the Nazarene          0.0\n",
       "14312                                     ABD Cycle Club         10.0\n",
       "14313                                      IRIS Presents         13.0\n",
       "14314                                             PIECES          0.0\n",
       "14315                                   Swing in Utrecht         15.0\n",
       "14316                                  THE FUNCTIONS ORG          0.0\n",
       "14317                                    God Des and She         13.0\n",
       "14318                                         Dating NYC          0.0\n",
       "14319                                                             0.0\n",
       "14320  Newcastle University Christian Union & Northum...          0.0\n",
       "14321                                          The Fetch          8.0\n",
       "14322                                Boy Scout Troop 469          0.0\n",
       "14323                                                             0.0\n",
       "14324                               Legion Fetish Events         12.0\n",
       "14325                   Arthur Taylor..   \"High Society\"          0.0\n",
       "14326                                Sandie Byrne Medium         13.0\n",
       "14327  Community Anti-Racism Education Initiative (CA...          0.0\n",
       "14328                                    Making U Social          0.0\n",
       "14329                                    Making U Social          0.0\n",
       "14330          Center for Spritual Living - C.O.L.O.R.S.         14.0\n",
       "14331                                   Revolution Group          0.0\n",
       "14332                                                             0.0\n",
       "14333           ARCS Foundation, Inc., San Diego Chapter          0.0\n",
       "14334                           Tiffantasy Entertainment          0.0\n",
       "14335                                                             0.0\n",
       "14336                                          ali osman          0.0\n",
       "\n",
       "[14337 rows x 2 columns]"
      ]
     },
     "execution_count": 37,
     "metadata": {},
     "output_type": "execute_result"
    }
   ],
   "source": [
    "test = df[['org_name', 'org_twitter' ]]\n",
    "test"
   ]
  },
  {
   "cell_type": "code",
   "execution_count": 29,
   "metadata": {},
   "outputs": [
    {
     "data": {
      "text/plain": [
       "count    14278.000000\n",
       "mean         4.306976\n",
       "std          6.011520\n",
       "min          0.000000\n",
       "25%          0.000000\n",
       "50%          0.000000\n",
       "75%         11.000000\n",
       "max         34.000000\n",
       "Name: org_twitter, dtype: float64"
      ]
     },
     "execution_count": 29,
     "metadata": {},
     "output_type": "execute_result"
    }
   ],
   "source": [
    "df['org_twitter'].describe()"
   ]
  },
  {
   "cell_type": "code",
   "execution_count": 22,
   "metadata": {
    "collapsed": true
   },
   "outputs": [
    {
     "data": {
      "text/plain": [
       "US    9234\n",
       "GB    2083\n",
       "CA    1262\n",
       "AU     742\n",
       "       316\n",
       "NZ      73\n",
       "IE      48\n",
       "MA      47\n",
       "DE      43\n",
       "FR      40\n",
       "NL      36\n",
       "VN      32\n",
       "ES      27\n",
       "A1      25\n",
       "PK      22\n",
       "BE      18\n",
       "HU      18\n",
       "PH      15\n",
       "ID      12\n",
       "PR      10\n",
       "CI       9\n",
       "RO       8\n",
       "AT       8\n",
       "AR       8\n",
       "CZ       7\n",
       "NG       7\n",
       "SG       7\n",
       "CH       6\n",
       "TH       6\n",
       "DZ       6\n",
       "      ... \n",
       "UY       2\n",
       "MX       2\n",
       "QA       2\n",
       "TR       2\n",
       "NA       2\n",
       "CN       2\n",
       "PT       2\n",
       "GR       2\n",
       "RU       2\n",
       "CM       2\n",
       "VI       1\n",
       "BS       1\n",
       "CO       1\n",
       "TJ       1\n",
       "IS       1\n",
       "KE       1\n",
       "AE       1\n",
       "IM       1\n",
       "CR       1\n",
       "PE       1\n",
       "JE       1\n",
       "DK       1\n",
       "IL       1\n",
       "PS       1\n",
       "SI       1\n",
       "VE       1\n",
       "NI       1\n",
       "EC       1\n",
       "BB       1\n",
       "LB       1\n",
       "Name: country, Length: 72, dtype: int64"
      ]
     },
     "execution_count": 22,
     "metadata": {},
     "output_type": "execute_result"
    }
   ],
   "source": [
    "df['country'].value_counts()[0:]"
   ]
  },
  {
   "cell_type": "code",
   "execution_count": 21,
   "metadata": {},
   "outputs": [
    {
     "data": {
      "text/plain": [
       "1263110000.0"
      ]
     },
     "execution_count": 21,
     "metadata": {},
     "output_type": "execute_result"
    }
   ],
   "source": [
    "1.26311e+09"
   ]
  },
  {
   "cell_type": "code",
   "execution_count": null,
   "metadata": {},
   "outputs": [],
   "source": [
    "channels, fb_published, has_analytics, has_logo, num_order, num_payouts, sale_duration2, show_map, user_age, user_type"
   ]
  },
  {
   "cell_type": "code",
   "execution_count": 27,
   "metadata": {},
   "outputs": [
    {
     "name": "stdout",
     "output_type": "stream",
     "text": [
      "<class 'pandas.core.frame.DataFrame'>\n",
      "Int64Index: 14337 entries, 0 to 14336\n",
      "Data columns (total 44 columns):\n",
      "acct_type             14337 non-null object\n",
      "approx_payout_date    14337 non-null int64\n",
      "body_length           14337 non-null int64\n",
      "channels              14337 non-null int64\n",
      "country               14256 non-null object\n",
      "currency              14337 non-null object\n",
      "delivery_method       14321 non-null float64\n",
      "description           14337 non-null object\n",
      "email_domain          14337 non-null object\n",
      "event_created         14337 non-null int64\n",
      "event_end             14337 non-null int64\n",
      "event_published       14238 non-null float64\n",
      "event_start           14337 non-null int64\n",
      "fb_published          14337 non-null int64\n",
      "gts                   14337 non-null float64\n",
      "has_analytics         14337 non-null int64\n",
      "has_header            8928 non-null float64\n",
      "has_logo              14337 non-null int64\n",
      "listed                14337 non-null object\n",
      "name                  14337 non-null object\n",
      "name_length           14337 non-null int64\n",
      "num_order             14337 non-null int64\n",
      "num_payouts           14337 non-null int64\n",
      "object_id             14337 non-null int64\n",
      "org_desc              14337 non-null object\n",
      "org_facebook          14278 non-null float64\n",
      "org_name              14337 non-null object\n",
      "org_twitter           14278 non-null float64\n",
      "payee_name            14337 non-null object\n",
      "payout_type           14337 non-null object\n",
      "previous_payouts      14337 non-null object\n",
      "sale_duration         14182 non-null float64\n",
      "sale_duration2        14337 non-null int64\n",
      "show_map              14337 non-null int64\n",
      "ticket_types          14337 non-null object\n",
      "user_age              14337 non-null int64\n",
      "user_created          14337 non-null int64\n",
      "user_type             14337 non-null int64\n",
      "venue_address         14337 non-null object\n",
      "venue_country         13261 non-null object\n",
      "venue_latitude        13261 non-null float64\n",
      "venue_longitude       13261 non-null float64\n",
      "venue_name            13261 non-null object\n",
      "venue_state           13261 non-null object\n",
      "dtypes: float64(9), int64(18), object(17)\n",
      "memory usage: 4.9+ MB\n"
     ]
    }
   ],
   "source": [
    "df.info()"
   ]
  },
  {
   "cell_type": "code",
   "execution_count": 30,
   "metadata": {},
   "outputs": [
    {
     "data": {
      "text/plain": [
       "count    14337.000000\n",
       "mean       374.226547\n",
       "std        418.593616\n",
       "min          0.000000\n",
       "25%         13.000000\n",
       "50%        242.000000\n",
       "75%        603.000000\n",
       "max       3794.000000\n",
       "Name: user_age, dtype: float64"
      ]
     },
     "execution_count": 30,
     "metadata": {},
     "output_type": "execute_result"
    }
   ],
   "source": [
    "df['user_age'].describe()"
   ]
  },
  {
   "cell_type": "code",
   "execution_count": 35,
   "metadata": {},
   "outputs": [
    {
     "data": {
      "text/plain": [
       "USD    9696\n",
       "GBP    2222\n",
       "CAD    1322\n",
       "AUD     779\n",
       "EUR     262\n",
       "NZD      55\n",
       "MXN       1\n",
       "Name: currency, dtype: int64"
      ]
     },
     "execution_count": 35,
     "metadata": {},
     "output_type": "execute_result"
    }
   ],
   "source": [
    "df['currency'].value_counts()"
   ]
  },
  {
   "cell_type": "code",
   "execution_count": 38,
   "metadata": {},
   "outputs": [],
   "source": [
    "feature_list = ['channels', 'fb_published', 'has_analytics', 'has_logo', 'num_order', 'num_payouts', \n",
    "'sale_duration2', 'show_map', 'user_age', 'user_type', 'body_length']"
   ]
  },
  {
   "cell_type": "code",
   "execution_count": 40,
   "metadata": {},
   "outputs": [
    {
     "data": {
      "text/plain": [
       "array([[    5,     0,     0, ...,    36,     1,  3852],\n",
       "       [    0,     0,     0, ...,   149,     3,  3499],\n",
       "       [    8,     0,     0, ...,   214,     3,  2601],\n",
       "       ...,\n",
       "       [   13,     1,     0, ...,    84,     4,   557],\n",
       "       [    8,     0,     0, ...,   812,     3, 10873],\n",
       "       [    0,     0,     0, ...,     0,     1,     0]])"
      ]
     },
     "execution_count": 40,
     "metadata": {},
     "output_type": "execute_result"
    }
   ],
   "source": [
    "df[feature_list].values"
   ]
  },
  {
   "cell_type": "code",
   "execution_count": 41,
   "metadata": {},
   "outputs": [
    {
     "data": {
      "text/plain": [
       "0.1"
      ]
     },
     "execution_count": 41,
     "metadata": {},
     "output_type": "execute_result"
    }
   ],
   "source": [
    "1400/14000"
   ]
  },
  {
   "cell_type": "code",
   "execution_count": 42,
   "metadata": {},
   "outputs": [
    {
     "data": {
      "text/plain": [
       "0.31857142857142856"
      ]
     },
     "execution_count": 42,
     "metadata": {},
     "output_type": "execute_result"
    }
   ],
   "source": [
    "446/1400"
   ]
  },
  {
   "cell_type": "code",
   "execution_count": null,
   "metadata": {},
   "outputs": [],
   "source": []
  }
 ],
 "metadata": {
  "kernelspec": {
   "display_name": "Python 3",
   "language": "python",
   "name": "python3"
  },
  "language_info": {
   "codemirror_mode": {
    "name": "ipython",
    "version": 3
   },
   "file_extension": ".py",
   "mimetype": "text/x-python",
   "name": "python",
   "nbconvert_exporter": "python",
   "pygments_lexer": "ipython3",
   "version": "3.6.5"
  }
 },
 "nbformat": 4,
 "nbformat_minor": 2
}
