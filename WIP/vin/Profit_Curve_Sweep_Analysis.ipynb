{
 "cells": [
  {
   "cell_type": "markdown",
   "metadata": {},
   "source": [
    "# Sweep Cost Matrix and Calculate Profit Curve"
   ]
  },
  {
   "cell_type": "code",
   "execution_count": 1,
   "metadata": {},
   "outputs": [],
   "source": [
    "import numpy as np\n",
    "import pandas as pd\n",
    "import src.scrubbington as scrub\n",
    "import src.evaluationton as evalu\n",
    "\n",
    "from sklearn.ensemble import RandomForestClassifier\n",
    "from sklearn.model_selection import train_test_split\n",
    "\n",
    "import matplotlib.pyplot as plt\n",
    "%matplotlib inline"
   ]
  },
  {
   "cell_type": "markdown",
   "metadata": {},
   "source": [
    "### Read In and Clean Data"
   ]
  },
  {
   "cell_type": "code",
   "execution_count": 2,
   "metadata": {},
   "outputs": [],
   "source": [
    "df_orig = pd.read_json('./data/data.json')"
   ]
  },
  {
   "cell_type": "code",
   "execution_count": 3,
   "metadata": {},
   "outputs": [],
   "source": [
    "feature_list = ['channels', 'fb_published', 'has_analytics', 'has_logo', 'num_order', 'num_payouts', \n",
    "'sale_duration2', 'show_map', 'user_age', 'user_type', 'body_length']"
   ]
  },
  {
   "cell_type": "code",
   "execution_count": 4,
   "metadata": {},
   "outputs": [],
   "source": [
    "df, y, X = scrub.scrub_everything(df_orig, feature_list)"
   ]
  },
  {
   "cell_type": "code",
   "execution_count": 5,
   "metadata": {},
   "outputs": [],
   "source": [
    "#Note: default split perecentage is 25%\n",
    "X_train, X_test, y_train, y_test = train_test_split(X, y, random_state=42, shuffle=True)"
   ]
  },
  {
   "cell_type": "markdown",
   "metadata": {},
   "source": [
    "### Create RF Model"
   ]
  },
  {
   "cell_type": "code",
   "execution_count": 6,
   "metadata": {},
   "outputs": [],
   "source": [
    "rf = RandomForestClassifier(random_state=0, n_estimators=500)"
   ]
  },
  {
   "cell_type": "code",
   "execution_count": 7,
   "metadata": {},
   "outputs": [
    {
     "data": {
      "text/plain": [
       "RandomForestClassifier(bootstrap=True, class_weight=None, criterion='gini',\n",
       "            max_depth=None, max_features='auto', max_leaf_nodes=None,\n",
       "            min_impurity_decrease=0.0, min_impurity_split=None,\n",
       "            min_samples_leaf=1, min_samples_split=2,\n",
       "            min_weight_fraction_leaf=0.0, n_estimators=500, n_jobs=1,\n",
       "            oob_score=False, random_state=0, verbose=0, warm_start=False)"
      ]
     },
     "execution_count": 7,
     "metadata": {},
     "output_type": "execute_result"
    }
   ],
   "source": [
    "rf.fit(X_train, y_train)"
   ]
  },
  {
   "cell_type": "markdown",
   "metadata": {},
   "source": [
    "### Profit Curve Plotting Function"
   ]
  },
  {
   "cell_type": "code",
   "execution_count": 8,
   "metadata": {},
   "outputs": [],
   "source": [
    "def plot_profit_curve(scoring, profit_matrix, num_points=100):\n",
    "    x_threshold, y_profit = scoring.profit_curve(num_points=num_points, profit_matrix=profit_matrix)\n",
    "    \n",
    "    fig, ax = plt.subplots()\n",
    "    ax.plot(x_threshold, y_profit)\n",
    "    \n",
    "    ymax = max(y_profit)\n",
    "    xpos = y_profit.index(ymax)\n",
    "    xmax = x_threshold[xpos]\n",
    "    \n",
    "    text= \"x={:.3f}, y={:.3f}\".format(xmax, ymax)\n",
    "    bbox_props = dict(boxstyle=\"square,pad=0.3\", fc=\"w\", ec=\"k\", lw=0.72)\n",
    "    arrowprops=dict(arrowstyle=\"->\",connectionstyle=\"angle,angleA=180,angleB=60\")\n",
    "    kw = dict(xycoords='data',textcoords=\"axes fraction\", arrowprops=arrowprops, bbox=bbox_props, ha=\"right\", va=\"top\")\n",
    "    ax.annotate(text, xy=(xmax, ymax), xytext=(0.94,0.96), **kw)\n",
    "    ax.set_ylim(min(y_profit), ymax*2)\n",
    "    ax.set_xlabel('Threshold For Predicting Fraud')\n",
    "    ax.set_ylabel('Profit')\n",
    "    ax.set_title('Profit Curve')\n",
    "    plt.show()"
   ]
  },
  {
   "cell_type": "markdown",
   "metadata": {},
   "source": [
    "### Scoring Our Model"
   ]
  },
  {
   "cell_type": "code",
   "execution_count": 9,
   "metadata": {},
   "outputs": [
    {
     "name": "stdout",
     "output_type": "stream",
     "text": [
      "Accuracy: 0.9684797768479777\n",
      "Precision 0.8844765342960289\n",
      "Recall 0.7515337423312883\n",
      "F1 0.812603648424544\n"
     ]
    }
   ],
   "source": [
    "scoring = evalu.Scores(model=rf, X_test=X_test, y_test=y_test)\n",
    "scoring.scores()"
   ]
  },
  {
   "cell_type": "markdown",
   "metadata": {},
   "source": [
    "### Profit Matrix with Set Profit Matrix"
   ]
  },
  {
   "cell_type": "code",
   "execution_count": 10,
   "metadata": {},
   "outputs": [],
   "source": [
    "false_pos = -500\n",
    "true_pos  = 500\n",
    "false_neg = 0\n",
    "true_neg  = 0\n",
    "\n",
    "profit_matrix = [[true_neg, false_pos],[false_neg, true_pos]]"
   ]
  },
  {
   "cell_type": "code",
   "execution_count": 11,
   "metadata": {},
   "outputs": [
    {
     "data": {
      "image/png": "[encoded data removed]",
      "text/plain": [
       "<matplotlib.figure.Figure at 0x1a793edba8>"
      ]
     },
     "metadata": {},
     "output_type": "display_data"
    }
   ],
   "source": [
    "plot_profit_curve(scoring, profit_matrix, num_points=100)"
   ]
  },
  {
   "cell_type": "markdown",
   "metadata": {},
   "source": [
    "### Sweeping Profit Matrix"
   ]
  },
  {
   "cell_type": "code",
   "execution_count": 12,
   "metadata": {},
   "outputs": [],
   "source": [
    "false_pos = -100\n",
    "true_pos  = 500\n",
    "false_neg = 0\n",
    "true_neg  = 0\n",
    "\n",
    "profit_matrix = [[true_neg, false_pos],[false_neg, true_pos]]"
   ]
  },
  {
   "cell_type": "code",
   "execution_count": 13,
   "metadata": {},
   "outputs": [
    {
     "ename": "NameError",
     "evalue": "name 'profit_sweep_plot' is not defined",
     "output_type": "error",
     "traceback": [
      "\u001b[0;31m---------------------------------------------------------------------------\u001b[0m",
      "\u001b[0;31mNameError\u001b[0m                                 Traceback (most recent call last)",
      "\u001b[0;32m<ipython-input-13-e7fe42623301>\u001b[0m in \u001b[0;36m<module>\u001b[0;34m()\u001b[0m\n\u001b[1;32m      4\u001b[0m \u001b[0;32mfor\u001b[0m \u001b[0max\u001b[0m \u001b[0;32min\u001b[0m \u001b[0maxis\u001b[0m\u001b[0;34m.\u001b[0m\u001b[0mflatten\u001b[0m\u001b[0;34m(\u001b[0m\u001b[0;34m)\u001b[0m\u001b[0;34m:\u001b[0m\u001b[0;34m\u001b[0m\u001b[0m\n\u001b[1;32m      5\u001b[0m     \u001b[0mprofit_matrix\u001b[0m \u001b[0;34m=\u001b[0m \u001b[0;34m[\u001b[0m\u001b[0;34m[\u001b[0m\u001b[0mtrue_neg\u001b[0m\u001b[0;34m,\u001b[0m \u001b[0mfalse_pos\u001b[0m\u001b[0;34m]\u001b[0m\u001b[0;34m,\u001b[0m\u001b[0;34m[\u001b[0m\u001b[0mfalse_neg\u001b[0m\u001b[0;34m,\u001b[0m \u001b[0mtrue_pos\u001b[0m\u001b[0;34m]\u001b[0m\u001b[0;34m]\u001b[0m\u001b[0;34m\u001b[0m\u001b[0m\n\u001b[0;32m----> 6\u001b[0;31m     \u001b[0mprofit_sweep_plot\u001b[0m\u001b[0;34m(\u001b[0m\u001b[0mscoring\u001b[0m\u001b[0;34m,\u001b[0m \u001b[0mprofit_matrix\u001b[0m\u001b[0;34m,\u001b[0m \u001b[0max\u001b[0m\u001b[0;34m,\u001b[0m \u001b[0mnum_points\u001b[0m\u001b[0;34m=\u001b[0m\u001b[0;36m100\u001b[0m\u001b[0;34m)\u001b[0m\u001b[0;34m\u001b[0m\u001b[0m\n\u001b[0m\u001b[1;32m      7\u001b[0m     \u001b[0mfalse_pos\u001b[0m \u001b[0;34m-=\u001b[0m \u001b[0;36m100\u001b[0m\u001b[0;34m\u001b[0m\u001b[0m\n\u001b[1;32m      8\u001b[0m \u001b[0;34m\u001b[0m\u001b[0m\n",
      "\u001b[0;31mNameError\u001b[0m: name 'profit_sweep_plot' is not defined"
     ]
    },
    {
     "data": {
      "image/png": "[encoded data removed]",
      "text/plain": [
       "<matplotlib.figure.Figure at 0x1a79172b38>"
      ]
     },
     "metadata": {},
     "output_type": "display_data"
    }
   ],
   "source": [
    "f, axis = plt.subplots(2,2, figsize=(15,10))\n",
    "#axis[0].set_title('Profit Curves (sweeping profit matrix)')\n",
    "false_pos = 0\n",
    "for ax in axis.flatten():\n",
    "    profit_matrix = [[true_neg, false_pos],[false_neg, true_pos]]\n",
    "    profit_sweep_plot(scoring, profit_matrix, ax, num_points=100)\n",
    "    false_pos -= 100\n",
    "    \n",
    "\n",
    "plt.show()\n"
   ]
  },
  {
   "cell_type": "code",
   "execution_count": null,
   "metadata": {},
   "outputs": [],
   "source": [
    "def profit_sweep_plot(scoring, profit_matrix, ax, num_points=100):\n",
    "    x_threshold, y_profit = scoring.profit_curve(num_points=num_points, profit_matrix=profit_matrix)\n",
    "    \n",
    "    ax.plot(x_threshold, y_profit)\n",
    "    ax.set_title('False Pose: {}'.format(profit_matrix[0][1]))\n",
    "    ymax = max(y_profit)\n",
    "    xpos = y_profit.index(ymax)\n",
    "    xmax = x_threshold[xpos]\n",
    "    \n",
    "    text= \"x={:.3f}, y={:.3f}\".format(xmax, ymax)\n",
    "    bbox_props = dict(boxstyle=\"square,pad=0.3\", fc=\"w\", ec=\"k\", lw=0.72)\n",
    "    arrowprops=dict(arrowstyle=\"->\",connectionstyle=\"angle,angleA=180,angleB=60\")\n",
    "    kw = dict(xycoords='data',textcoords=\"axes fraction\", arrowprops=arrowprops, bbox=bbox_props, ha=\"right\", va=\"top\")\n",
    "    ax.annotate(text, xy=(xmax, ymax), xytext=(0.94,0.96), **kw)\n",
    "    ax.set_ylim(min(y_profit), ymax*2)\n",
    "    \n",
    "    ax.set_ylim(min(y_profit), ymax*2)\n",
    "    "
   ]
  },
  {
   "cell_type": "code",
   "execution_count": null,
   "metadata": {},
   "outputs": [],
   "source": []
  }
 ],
 "metadata": {
  "kernelspec": {
   "display_name": "Python 3",
   "language": "python",
   "name": "python3"
  },
  "language_info": {
   "codemirror_mode": {
    "name": "ipython",
    "version": 3
   },
   "file_extension": ".py",
   "mimetype": "text/x-python",
   "name": "python",
   "nbconvert_exporter": "python",
   "pygments_lexer": "ipython3",
   "version": "3.6.3"
  }
 },
 "nbformat": 4,
 "nbformat_minor": 2
}
