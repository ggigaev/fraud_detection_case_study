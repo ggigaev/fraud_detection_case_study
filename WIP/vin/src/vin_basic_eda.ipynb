{
 "cells": [
  {
   "cell_type": "code",
   "execution_count": 1,
   "metadata": {},
   "outputs": [],
   "source": [
    "import pandas as pd\n",
    "import numpy as np"
   ]
  },
  {
   "cell_type": "markdown",
   "metadata": {},
   "source": [
    "### Read in dataframe from JSON"
   ]
  },
  {
   "cell_type": "code",
   "execution_count": 2,
   "metadata": {},
   "outputs": [],
   "source": [
    "df_orig = pd.read_json('../data/data.json')"
   ]
  },
  {
   "cell_type": "code",
   "execution_count": 3,
   "metadata": {},
   "outputs": [
    {
     "data": {
      "text/html": [
       "<div>\n",
       "<style>\n",
       "    .dataframe thead tr:only-child th {\n",
       "        text-align: right;\n",
       "    }\n",
       "\n",
       "    .dataframe thead th {\n",
       "        text-align: left;\n",
       "    }\n",
       "\n",
       "    .dataframe tbody tr th {\n",
       "        vertical-align: top;\n",
       "    }\n",
       "</style>\n",
       "<table border=\"1\" class=\"dataframe\">\n",
       "  <thead>\n",
       "    <tr style=\"text-align: right;\">\n",
       "      <th></th>\n",
       "      <th>acct_type</th>\n",
       "      <th>approx_payout_date</th>\n",
       "      <th>body_length</th>\n",
       "      <th>channels</th>\n",
       "      <th>country</th>\n",
       "      <th>currency</th>\n",
       "      <th>delivery_method</th>\n",
       "      <th>description</th>\n",
       "      <th>email_domain</th>\n",
       "      <th>event_created</th>\n",
       "      <th>...</th>\n",
       "      <th>ticket_types</th>\n",
       "      <th>user_age</th>\n",
       "      <th>user_created</th>\n",
       "      <th>user_type</th>\n",
       "      <th>venue_address</th>\n",
       "      <th>venue_country</th>\n",
       "      <th>venue_latitude</th>\n",
       "      <th>venue_longitude</th>\n",
       "      <th>venue_name</th>\n",
       "      <th>venue_state</th>\n",
       "    </tr>\n",
       "  </thead>\n",
       "  <tbody>\n",
       "    <tr>\n",
       "      <th>0</th>\n",
       "      <td>fraudster_event</td>\n",
       "      <td>1266062400</td>\n",
       "      <td>3852</td>\n",
       "      <td>5</td>\n",
       "      <td>US</td>\n",
       "      <td>USD</td>\n",
       "      <td>0.0</td>\n",
       "      <td>&lt;p&gt;&lt;a href=\"http://s432.photobucket.com/albums...</td>\n",
       "      <td>gmail.com</td>\n",
       "      <td>1262739706</td>\n",
       "      <td>...</td>\n",
       "      <td>[{'event_id': 527017, 'cost': 25.0, 'availabil...</td>\n",
       "      <td>36</td>\n",
       "      <td>1259613950</td>\n",
       "      <td>1</td>\n",
       "      <td>717 Washington Avenue</td>\n",
       "      <td>US</td>\n",
       "      <td>25.777471</td>\n",
       "      <td>-80.133433</td>\n",
       "      <td>INK Nightclub - South Beach</td>\n",
       "      <td>FL</td>\n",
       "    </tr>\n",
       "    <tr>\n",
       "      <th>1</th>\n",
       "      <td>premium</td>\n",
       "      <td>1296720000</td>\n",
       "      <td>3499</td>\n",
       "      <td>0</td>\n",
       "      <td>US</td>\n",
       "      <td>USD</td>\n",
       "      <td>1.0</td>\n",
       "      <td>&lt;p&gt;Join us for a quick, one-night, community-b...</td>\n",
       "      <td>ruf.org</td>\n",
       "      <td>1293832670</td>\n",
       "      <td>...</td>\n",
       "      <td>[{'event_id': 786878, 'cost': 35.0, 'availabil...</td>\n",
       "      <td>149</td>\n",
       "      <td>1280942776</td>\n",
       "      <td>3</td>\n",
       "      <td></td>\n",
       "      <td>US</td>\n",
       "      <td>32.776566</td>\n",
       "      <td>-79.930922</td>\n",
       "      <td>The Charleston, SC area</td>\n",
       "      <td>SC</td>\n",
       "    </tr>\n",
       "    <tr>\n",
       "      <th>2</th>\n",
       "      <td>premium</td>\n",
       "      <td>1296172800</td>\n",
       "      <td>2601</td>\n",
       "      <td>8</td>\n",
       "      <td>US</td>\n",
       "      <td>USD</td>\n",
       "      <td>1.0</td>\n",
       "      <td>&lt;h3&gt;&lt;span class=\"subcategory\"&gt;&lt;strong&gt;Teacher ...</td>\n",
       "      <td>pvsd.k12.ca.us</td>\n",
       "      <td>1291090956</td>\n",
       "      <td>...</td>\n",
       "      <td>[{'event_id': 787337, 'cost': 93.51, 'availabi...</td>\n",
       "      <td>214</td>\n",
       "      <td>1272559388</td>\n",
       "      <td>3</td>\n",
       "      <td>10100 Pioneer Blvd Suite 100</td>\n",
       "      <td>US</td>\n",
       "      <td>33.944201</td>\n",
       "      <td>-118.080419</td>\n",
       "      <td>Los Angeles County Office of Education</td>\n",
       "      <td>CA</td>\n",
       "    </tr>\n",
       "    <tr>\n",
       "      <th>3</th>\n",
       "      <td>premium</td>\n",
       "      <td>1388966400</td>\n",
       "      <td>12347</td>\n",
       "      <td>6</td>\n",
       "      <td>IE</td>\n",
       "      <td>EUR</td>\n",
       "      <td>1.0</td>\n",
       "      <td>&lt;p style=\"margin-bottom: 1.3em; padding-bottom...</td>\n",
       "      <td>irishtabletennis.com</td>\n",
       "      <td>1360681570</td>\n",
       "      <td>...</td>\n",
       "      <td>[{'event_id': 885645, 'cost': 25.0, 'availabil...</td>\n",
       "      <td>889</td>\n",
       "      <td>1283870102</td>\n",
       "      <td>3</td>\n",
       "      <td></td>\n",
       "      <td>None</td>\n",
       "      <td>NaN</td>\n",
       "      <td>NaN</td>\n",
       "      <td>None</td>\n",
       "      <td>None</td>\n",
       "    </tr>\n",
       "    <tr>\n",
       "      <th>4</th>\n",
       "      <td>premium</td>\n",
       "      <td>1297900800</td>\n",
       "      <td>2417</td>\n",
       "      <td>11</td>\n",
       "      <td>US</td>\n",
       "      <td>USD</td>\n",
       "      <td>0.0</td>\n",
       "      <td>&lt;p&gt;Writers and filmmakers need to understand t...</td>\n",
       "      <td>artsandbusinesscouncil.org</td>\n",
       "      <td>1291994666</td>\n",
       "      <td>...</td>\n",
       "      <td>[{'event_id': 1114349, 'cost': 150.0, 'availab...</td>\n",
       "      <td>35</td>\n",
       "      <td>1288984065</td>\n",
       "      <td>3</td>\n",
       "      <td>One Marina Park Drive</td>\n",
       "      <td>US</td>\n",
       "      <td>42.353848</td>\n",
       "      <td>-71.044276</td>\n",
       "      <td>Fish &amp; Richardson</td>\n",
       "      <td>MA</td>\n",
       "    </tr>\n",
       "  </tbody>\n",
       "</table>\n",
       "<p>5 rows × 44 columns</p>\n",
       "</div>"
      ],
      "text/plain": [
       "         acct_type  approx_payout_date  body_length  channels country  \\\n",
       "0  fraudster_event          1266062400         3852         5      US   \n",
       "1          premium          1296720000         3499         0      US   \n",
       "2          premium          1296172800         2601         8      US   \n",
       "3          premium          1388966400        12347         6      IE   \n",
       "4          premium          1297900800         2417        11      US   \n",
       "\n",
       "  currency  delivery_method  \\\n",
       "0      USD              0.0   \n",
       "1      USD              1.0   \n",
       "2      USD              1.0   \n",
       "3      EUR              1.0   \n",
       "4      USD              0.0   \n",
       "\n",
       "                                         description  \\\n",
       "0  <p><a href=\"http://s432.photobucket.com/albums...   \n",
       "1  <p>Join us for a quick, one-night, community-b...   \n",
       "2  <h3><span class=\"subcategory\"><strong>Teacher ...   \n",
       "3  <p style=\"margin-bottom: 1.3em; padding-bottom...   \n",
       "4  <p>Writers and filmmakers need to understand t...   \n",
       "\n",
       "                 email_domain  event_created     ...      \\\n",
       "0                   gmail.com     1262739706     ...       \n",
       "1                     ruf.org     1293832670     ...       \n",
       "2              pvsd.k12.ca.us     1291090956     ...       \n",
       "3        irishtabletennis.com     1360681570     ...       \n",
       "4  artsandbusinesscouncil.org     1291994666     ...       \n",
       "\n",
       "                                        ticket_types  user_age  user_created  \\\n",
       "0  [{'event_id': 527017, 'cost': 25.0, 'availabil...        36    1259613950   \n",
       "1  [{'event_id': 786878, 'cost': 35.0, 'availabil...       149    1280942776   \n",
       "2  [{'event_id': 787337, 'cost': 93.51, 'availabi...       214    1272559388   \n",
       "3  [{'event_id': 885645, 'cost': 25.0, 'availabil...       889    1283870102   \n",
       "4  [{'event_id': 1114349, 'cost': 150.0, 'availab...        35    1288984065   \n",
       "\n",
       "   user_type                 venue_address  venue_country  venue_latitude  \\\n",
       "0          1         717 Washington Avenue             US       25.777471   \n",
       "1          3                                           US       32.776566   \n",
       "2          3  10100 Pioneer Blvd Suite 100             US       33.944201   \n",
       "3          3                                         None             NaN   \n",
       "4          3        One Marina Park Drive              US       42.353848   \n",
       "\n",
       "   venue_longitude                              venue_name venue_state  \n",
       "0       -80.133433             INK Nightclub - South Beach          FL  \n",
       "1       -79.930922                 The Charleston, SC area          SC  \n",
       "2      -118.080419  Los Angeles County Office of Education          CA  \n",
       "3              NaN                                    None        None  \n",
       "4       -71.044276                       Fish & Richardson          MA  \n",
       "\n",
       "[5 rows x 44 columns]"
      ]
     },
     "execution_count": 3,
     "metadata": {},
     "output_type": "execute_result"
    }
   ],
   "source": [
    "df_orig.head()"
   ]
  },
  {
   "cell_type": "markdown",
   "metadata": {},
   "source": [
    "### Check Number of Data Points and Number of Features"
   ]
  },
  {
   "cell_type": "code",
   "execution_count": 4,
   "metadata": {},
   "outputs": [],
   "source": [
    "num_features = len(df_orig.columns)\n",
    "num_rows = df_orig['acct_type'].count()"
   ]
  },
  {
   "cell_type": "code",
   "execution_count": 5,
   "metadata": {},
   "outputs": [
    {
     "name": "stdout",
     "output_type": "stream",
     "text": [
      "Num Features Original: 44\n",
      "Num Rows Original: 14337\n"
     ]
    }
   ],
   "source": [
    "print(\"Num Features Original: {}\".format(num_features))\n",
    "print(\"Num Rows Original: {}\".format(num_rows))"
   ]
  },
  {
   "cell_type": "markdown",
   "metadata": {},
   "source": [
    "### How many unique values do we have for 'acct_type'?"
   ]
  },
  {
   "cell_type": "code",
   "execution_count": 6,
   "metadata": {},
   "outputs": [
    {
     "name": "stdout",
     "output_type": "stream",
     "text": [
      "Num Unique 'ACCT_TYPES': 12\n"
     ]
    },
    {
     "data": {
      "text/plain": [
       "premium             12373\n",
       "fraudster_event       851\n",
       "fraudster             437\n",
       "spammer_limited       218\n",
       "spammer_warn          144\n",
       "tos_warn               91\n",
       "spammer_noinvite       84\n",
       "tos_lock               77\n",
       "locked                 54\n",
       "fraudster_att           5\n",
       "spammer_web             2\n",
       "spammer                 1\n",
       "Name: acct_type, dtype: int64"
      ]
     },
     "execution_count": 6,
     "metadata": {},
     "output_type": "execute_result"
    }
   ],
   "source": [
    "num_unique_acct_types = len(df_orig['acct_type'].value_counts())\n",
    "print(\"Num Unique 'ACCT_TYPES': {}\".format(num_unique_acct_types))\n",
    "df_orig['acct_type'].value_counts()"
   ]
  },
  {
   "cell_type": "markdown",
   "metadata": {},
   "source": [
    "### Ratio of 'fraud' VS. 'not_fraud'?\n",
    "\n",
    "***Note:*** any data point that has 'fraud' in it gets considered as fraud"
   ]
  },
  {
   "cell_type": "code",
   "execution_count": 7,
   "metadata": {},
   "outputs": [
    {
     "name": "stdout",
     "output_type": "stream",
     "text": [
      "Ratio of Fraud: 9.01862314291693%\n"
     ]
    }
   ],
   "source": [
    "#add up all fraud cases to get total amount\n",
    "total_fraud = df_orig['acct_type'].value_counts()['fraudster_event']\n",
    "total_fraud += df_orig['acct_type'].value_counts()['fraudster']\n",
    "total_fraud += df_orig['acct_type'].value_counts()['fraudster_att']\n",
    "\n",
    "print(\"Ratio of Fraud: {}%\".format((total_fraud/num_rows)*100))"
   ]
  },
  {
   "cell_type": "markdown",
   "metadata": {},
   "source": [
    "### How to modify 'acct_type' to True/False based on fraud or not fraud:\n"
   ]
  },
  {
   "cell_type": "code",
   "execution_count": 22,
   "metadata": {},
   "outputs": [],
   "source": [
    "df = df_orig.copy()"
   ]
  },
  {
   "cell_type": "code",
   "execution_count": 23,
   "metadata": {},
   "outputs": [],
   "source": [
    "#NOTE: code below will change the 'acct_type' col case by case to True/False for fraud cases\n",
    "\n",
    "# df.loc[df['acct_type'] == 'fraudster_event', 'acct_type'] = True\n",
    "# df.loc[df['acct_type'] == 'fraudster', 'acct_type'] = True\n",
    "# df.loc[df['acct_type'] == 'fraudster_att', 'acct_type'] = True\n",
    "# df.loc[df['acct_type'] != True, 'acct_type'] = False"
   ]
  },
  {
   "cell_type": "code",
   "execution_count": 24,
   "metadata": {},
   "outputs": [],
   "source": [
    "def scrub_fraud_no_fraud(df):\n",
    "    df['fraud_no_fraud'] = df['acct_type'].astype(str).str[:5] == 'fraud'\n",
    "    return df['fraud_no_fraud']\n",
    "\n"
   ]
  },
  {
   "cell_type": "code",
   "execution_count": 25,
   "metadata": {},
   "outputs": [],
   "source": [
    "df['fraud_no_fraud'] = scrub_fraud_no_fraud(df)"
   ]
  },
  {
   "cell_type": "code",
   "execution_count": 26,
   "metadata": {},
   "outputs": [
    {
     "data": {
      "text/plain": [
       "False    13044\n",
       "True      1293\n",
       "Name: fraud_no_fraud, dtype: int64"
      ]
     },
     "execution_count": 26,
     "metadata": {},
     "output_type": "execute_result"
    }
   ],
   "source": [
    "df['fraud_no_fraud'].value_counts()"
   ]
  },
  {
   "cell_type": "code",
   "execution_count": null,
   "metadata": {},
   "outputs": [],
   "source": []
  }
 ],
 "metadata": {
  "kernelspec": {
   "display_name": "Python 3",
   "language": "python",
   "name": "python3"
  },
  "language_info": {
   "codemirror_mode": {
    "name": "ipython",
    "version": 3
   },
   "file_extension": ".py",
   "mimetype": "text/x-python",
   "name": "python",
   "nbconvert_exporter": "python",
   "pygments_lexer": "ipython3",
   "version": "3.6.3"
  }
 },
 "nbformat": 4,
 "nbformat_minor": 2
}
